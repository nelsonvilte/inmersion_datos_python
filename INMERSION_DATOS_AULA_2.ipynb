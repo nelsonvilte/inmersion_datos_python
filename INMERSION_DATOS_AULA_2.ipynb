{
  "nbformat": 4,
  "nbformat_minor": 0,
  "metadata": {
    "colab": {
      "provenance": [],
      "include_colab_link": true
    },
    "kernelspec": {
      "name": "python3",
      "display_name": "Python 3"
    },
    "language_info": {
      "name": "python"
    }
  },
  "cells": [
    {
      "cell_type": "markdown",
      "metadata": {
        "id": "view-in-github",
        "colab_type": "text"
      },
      "source": [
        "<a href=\"https://colab.research.google.com/github/nelsonvilte/inmersion_datos_python/blob/aula-2/INMERSION_DATOS_AULA_2.ipynb\" target=\"_parent\"><img src=\"https://colab.research.google.com/assets/colab-badge.svg\" alt=\"Open In Colab\"/></a>"
      ]
    },
    {
      "cell_type": "markdown",
      "source": [
        "Bienvenidos a nuestro primer encuentro de inmersion de datos."
      ],
      "metadata": {
        "id": "Ki-0IC7XOYHb"
      }
    },
    {
      "cell_type": "code",
      "execution_count": 3,
      "metadata": {
        "colab": {
          "base_uri": "https://localhost:8080/"
        },
        "id": "PYM35Ft8M66-",
        "outputId": "af871d1a-4dbc-4148-917d-5289602068fb"
      },
      "outputs": [
        {
          "output_type": "stream",
          "name": "stdout",
          "text": [
            "Mounted at /content/drive\n"
          ]
        }
      ],
      "source": [
        "#importo paquete de Drive que va ha permitir montar cuenta de Drive \n",
        "\n",
        "from google.colab import drive\n",
        "\n",
        "drive.mount('/content/drive')"
      ]
    },
    {
      "cell_type": "code",
      "source": [
        "import pandas as pd\n",
        "#asignacion del dataset a la variable inmueble\n",
        "inmuebles = pd.read_csv('/content/drive/MyDrive/BBDD Inmersion de datos - Alura/inmuebles_bogota.csv')\n",
        "#muestra los primeros 5 elementos\n",
        "inmuebles.head()"
      ],
      "metadata": {
        "colab": {
          "base_uri": "https://localhost:8080/",
          "height": 206
        },
        "id": "9sQ9p96eRCcY",
        "outputId": "d4786b4c-a626-41d0-f5f5-60da8825292d"
      },
      "execution_count": 4,
      "outputs": [
        {
          "output_type": "execute_result",
          "data": {
            "text/plain": [
              "          Tipo                                 Descripcion  Habitaciones  \\\n",
              "0  Apartamento  Apartamento en venta en Zona Noroccidental             3   \n",
              "1         Casa                   Casa en venta en Castilla             4   \n",
              "2  Apartamento     Apartamento en venta en Chico Reservado             3   \n",
              "3  Apartamento             Apartamento en venta en Usaquén             3   \n",
              "4  Apartamento         Apartamento en venta en Bella Suiza             2   \n",
              "\n",
              "   Baños  Área              Barrio                                    UPZ  \\\n",
              "0      2    70  Zona Noroccidental     CHAPINERO: Pardo Rubio + Chapinero   \n",
              "1      3   170            Castilla            KENNEDY: Castilla + Bavaria   \n",
              "2      3   144     Chico Reservado     CHAPINERO: Chicó Lago + El Refugio   \n",
              "3      2   154             Usaquén                                Usaquén   \n",
              "4      3   128         Bella Suiza  USAQUÉN: Country Club + Santa Bárbara   \n",
              "\n",
              "             Valor  \n",
              "0    $ 360.000.000  \n",
              "1    $ 670.000.000  \n",
              "2  $ 1.120.000.000  \n",
              "3    $ 890.000.000  \n",
              "4    $ 970.000.000  "
            ],
            "text/html": [
              "\n",
              "  <div id=\"df-895bbb44-54b8-4a37-bfc6-84ce50c7405d\">\n",
              "    <div class=\"colab-df-container\">\n",
              "      <div>\n",
              "<style scoped>\n",
              "    .dataframe tbody tr th:only-of-type {\n",
              "        vertical-align: middle;\n",
              "    }\n",
              "\n",
              "    .dataframe tbody tr th {\n",
              "        vertical-align: top;\n",
              "    }\n",
              "\n",
              "    .dataframe thead th {\n",
              "        text-align: right;\n",
              "    }\n",
              "</style>\n",
              "<table border=\"1\" class=\"dataframe\">\n",
              "  <thead>\n",
              "    <tr style=\"text-align: right;\">\n",
              "      <th></th>\n",
              "      <th>Tipo</th>\n",
              "      <th>Descripcion</th>\n",
              "      <th>Habitaciones</th>\n",
              "      <th>Baños</th>\n",
              "      <th>Área</th>\n",
              "      <th>Barrio</th>\n",
              "      <th>UPZ</th>\n",
              "      <th>Valor</th>\n",
              "    </tr>\n",
              "  </thead>\n",
              "  <tbody>\n",
              "    <tr>\n",
              "      <th>0</th>\n",
              "      <td>Apartamento</td>\n",
              "      <td>Apartamento en venta en Zona Noroccidental</td>\n",
              "      <td>3</td>\n",
              "      <td>2</td>\n",
              "      <td>70</td>\n",
              "      <td>Zona Noroccidental</td>\n",
              "      <td>CHAPINERO: Pardo Rubio + Chapinero</td>\n",
              "      <td>$ 360.000.000</td>\n",
              "    </tr>\n",
              "    <tr>\n",
              "      <th>1</th>\n",
              "      <td>Casa</td>\n",
              "      <td>Casa en venta en Castilla</td>\n",
              "      <td>4</td>\n",
              "      <td>3</td>\n",
              "      <td>170</td>\n",
              "      <td>Castilla</td>\n",
              "      <td>KENNEDY: Castilla + Bavaria</td>\n",
              "      <td>$ 670.000.000</td>\n",
              "    </tr>\n",
              "    <tr>\n",
              "      <th>2</th>\n",
              "      <td>Apartamento</td>\n",
              "      <td>Apartamento en venta en Chico Reservado</td>\n",
              "      <td>3</td>\n",
              "      <td>3</td>\n",
              "      <td>144</td>\n",
              "      <td>Chico Reservado</td>\n",
              "      <td>CHAPINERO: Chicó Lago + El Refugio</td>\n",
              "      <td>$ 1.120.000.000</td>\n",
              "    </tr>\n",
              "    <tr>\n",
              "      <th>3</th>\n",
              "      <td>Apartamento</td>\n",
              "      <td>Apartamento en venta en Usaquén</td>\n",
              "      <td>3</td>\n",
              "      <td>2</td>\n",
              "      <td>154</td>\n",
              "      <td>Usaquén</td>\n",
              "      <td>Usaquén</td>\n",
              "      <td>$ 890.000.000</td>\n",
              "    </tr>\n",
              "    <tr>\n",
              "      <th>4</th>\n",
              "      <td>Apartamento</td>\n",
              "      <td>Apartamento en venta en Bella Suiza</td>\n",
              "      <td>2</td>\n",
              "      <td>3</td>\n",
              "      <td>128</td>\n",
              "      <td>Bella Suiza</td>\n",
              "      <td>USAQUÉN: Country Club + Santa Bárbara</td>\n",
              "      <td>$ 970.000.000</td>\n",
              "    </tr>\n",
              "  </tbody>\n",
              "</table>\n",
              "</div>\n",
              "      <button class=\"colab-df-convert\" onclick=\"convertToInteractive('df-895bbb44-54b8-4a37-bfc6-84ce50c7405d')\"\n",
              "              title=\"Convert this dataframe to an interactive table.\"\n",
              "              style=\"display:none;\">\n",
              "        \n",
              "  <svg xmlns=\"http://www.w3.org/2000/svg\" height=\"24px\"viewBox=\"0 0 24 24\"\n",
              "       width=\"24px\">\n",
              "    <path d=\"M0 0h24v24H0V0z\" fill=\"none\"/>\n",
              "    <path d=\"M18.56 5.44l.94 2.06.94-2.06 2.06-.94-2.06-.94-.94-2.06-.94 2.06-2.06.94zm-11 1L8.5 8.5l.94-2.06 2.06-.94-2.06-.94L8.5 2.5l-.94 2.06-2.06.94zm10 10l.94 2.06.94-2.06 2.06-.94-2.06-.94-.94-2.06-.94 2.06-2.06.94z\"/><path d=\"M17.41 7.96l-1.37-1.37c-.4-.4-.92-.59-1.43-.59-.52 0-1.04.2-1.43.59L10.3 9.45l-7.72 7.72c-.78.78-.78 2.05 0 2.83L4 21.41c.39.39.9.59 1.41.59.51 0 1.02-.2 1.41-.59l7.78-7.78 2.81-2.81c.8-.78.8-2.07 0-2.86zM5.41 20L4 18.59l7.72-7.72 1.47 1.35L5.41 20z\"/>\n",
              "  </svg>\n",
              "      </button>\n",
              "      \n",
              "  <style>\n",
              "    .colab-df-container {\n",
              "      display:flex;\n",
              "      flex-wrap:wrap;\n",
              "      gap: 12px;\n",
              "    }\n",
              "\n",
              "    .colab-df-convert {\n",
              "      background-color: #E8F0FE;\n",
              "      border: none;\n",
              "      border-radius: 50%;\n",
              "      cursor: pointer;\n",
              "      display: none;\n",
              "      fill: #1967D2;\n",
              "      height: 32px;\n",
              "      padding: 0 0 0 0;\n",
              "      width: 32px;\n",
              "    }\n",
              "\n",
              "    .colab-df-convert:hover {\n",
              "      background-color: #E2EBFA;\n",
              "      box-shadow: 0px 1px 2px rgba(60, 64, 67, 0.3), 0px 1px 3px 1px rgba(60, 64, 67, 0.15);\n",
              "      fill: #174EA6;\n",
              "    }\n",
              "\n",
              "    [theme=dark] .colab-df-convert {\n",
              "      background-color: #3B4455;\n",
              "      fill: #D2E3FC;\n",
              "    }\n",
              "\n",
              "    [theme=dark] .colab-df-convert:hover {\n",
              "      background-color: #434B5C;\n",
              "      box-shadow: 0px 1px 3px 1px rgba(0, 0, 0, 0.15);\n",
              "      filter: drop-shadow(0px 1px 2px rgba(0, 0, 0, 0.3));\n",
              "      fill: #FFFFFF;\n",
              "    }\n",
              "  </style>\n",
              "\n",
              "      <script>\n",
              "        const buttonEl =\n",
              "          document.querySelector('#df-895bbb44-54b8-4a37-bfc6-84ce50c7405d button.colab-df-convert');\n",
              "        buttonEl.style.display =\n",
              "          google.colab.kernel.accessAllowed ? 'block' : 'none';\n",
              "\n",
              "        async function convertToInteractive(key) {\n",
              "          const element = document.querySelector('#df-895bbb44-54b8-4a37-bfc6-84ce50c7405d');\n",
              "          const dataTable =\n",
              "            await google.colab.kernel.invokeFunction('convertToInteractive',\n",
              "                                                     [key], {});\n",
              "          if (!dataTable) return;\n",
              "\n",
              "          const docLinkHtml = 'Like what you see? Visit the ' +\n",
              "            '<a target=\"_blank\" href=https://colab.research.google.com/notebooks/data_table.ipynb>data table notebook</a>'\n",
              "            + ' to learn more about interactive tables.';\n",
              "          element.innerHTML = '';\n",
              "          dataTable['output_type'] = 'display_data';\n",
              "          await google.colab.output.renderOutput(dataTable, element);\n",
              "          const docLink = document.createElement('div');\n",
              "          docLink.innerHTML = docLinkHtml;\n",
              "          element.appendChild(docLink);\n",
              "        }\n",
              "      </script>\n",
              "    </div>\n",
              "  </div>\n",
              "  "
            ]
          },
          "metadata": {},
          "execution_count": 4
        }
      ]
    },
    {
      "cell_type": "code",
      "source": [
        "#Devuelve cantidad de filas y columnas, sin contar el indice\n",
        "inmuebles.shape"
      ],
      "metadata": {
        "colab": {
          "base_uri": "https://localhost:8080/"
        },
        "id": "Mol3pYtpYi5E",
        "outputId": "f69fd097-297b-4175-a8b8-d495aecc8bea"
      },
      "execution_count": 5,
      "outputs": [
        {
          "output_type": "execute_result",
          "data": {
            "text/plain": [
              "(9520, 8)"
            ]
          },
          "metadata": {},
          "execution_count": 5
        }
      ]
    },
    {
      "cell_type": "code",
      "source": [
        "#Devuelve la descripcion de las columnas\n",
        "inmuebles.columns"
      ],
      "metadata": {
        "colab": {
          "base_uri": "https://localhost:8080/"
        },
        "id": "7WRIHUfQbSch",
        "outputId": "8d4e5196-77ff-4221-cff1-bec1611ede22"
      },
      "execution_count": 6,
      "outputs": [
        {
          "output_type": "execute_result",
          "data": {
            "text/plain": [
              "Index(['Tipo', 'Descripcion', 'Habitaciones', 'Baños', 'Área', 'Barrio', 'UPZ',\n",
              "       'Valor'],\n",
              "      dtype='object')"
            ]
          },
          "metadata": {},
          "execution_count": 6
        }
      ]
    },
    {
      "cell_type": "code",
      "source": [
        "#Creacion de un diccionario columnas cada componente con su key y su valor\n",
        "columnas = {'Baños':'Banos','Área':'Area'}\n",
        "#Asignando a las columnas los valores contenidos en el diccionario columnas\n",
        "inmuebles = inmuebles.rename(columns = columnas)\n",
        "#Mostrar una muestra que visualiza 10 filas\n",
        "inmuebles.sample(10)"
      ],
      "metadata": {
        "id": "OhXUH693bi-b",
        "colab": {
          "base_uri": "https://localhost:8080/",
          "height": 407
        },
        "outputId": "f0cfff27-99b8-4796-c8a9-6728ebb960e5"
      },
      "execution_count": 7,
      "outputs": [
        {
          "output_type": "execute_result",
          "data": {
            "text/plain": [
              "             Tipo                              Descripcion  Habitaciones  \\\n",
              "5785  Apartamento         Apartamento en venta en Engativa             3   \n",
              "8480  Apartamento    Apartamento en venta en La Candelaria             2   \n",
              "5056  Apartamento  Apartamento en venta en Chico Reservado             3   \n",
              "8517  Apartamento      Apartamento en venta en Teusaquillo             1   \n",
              "1639  Apartamento         Apartamento en venta en El Batán             1   \n",
              "2544  Apartamento   Apartamento en venta en Ciudad Bolívar             3   \n",
              "1254  Apartamento          Apartamento en venta en Kennedy             3   \n",
              "525   Apartamento   Apartamento en venta en Barrios Unidos             3   \n",
              "3761  Apartamento          Apartamento en venta en Usaquén             3   \n",
              "8761  Apartamento    Apartamento en venta en Pinar De Suba             2   \n",
              "\n",
              "      Banos  Area           Barrio  \\\n",
              "5785      2    54         Engativa   \n",
              "8480      4   198    La Candelaria   \n",
              "5056      4   140  Chico Reservado   \n",
              "8517      1   412      Teusaquillo   \n",
              "1639      1    47         El Batán   \n",
              "2544      2    56   Ciudad Bolívar   \n",
              "1254      2    68          Kennedy   \n",
              "525       2    43   Barrios Unidos   \n",
              "3761      4   181          Usaquén   \n",
              "8761      1    46    Pinar De Suba   \n",
              "\n",
              "                                                    UPZ            Valor  \n",
              "5785                                           Engativá    $ 249.000.000  \n",
              "8480                                      La Candelaria  $ 1.690.000.000  \n",
              "5056                 CHAPINERO: Chicó Lago + El Refugio    $ 790.000.000  \n",
              "8517                                        Teusaquillo    $ 256.500.000  \n",
              "1639                                        La Alhambra    $ 310.000.000  \n",
              "2544  CIUDAD BOLÍVAR: Monteblanco + El Tesoro + El M...    $ 162.000.000  \n",
              "1254                                    Kennedy Central    $ 296.000.000  \n",
              "525                                           Los Andes    $ 160.000.000  \n",
              "3761                                            Usaquén    $ 870.000.000  \n",
              "8761                                               Suba    $ 180.000.000  "
            ],
            "text/html": [
              "\n",
              "  <div id=\"df-619fec85-e986-4cb5-a17f-c460162e41ee\">\n",
              "    <div class=\"colab-df-container\">\n",
              "      <div>\n",
              "<style scoped>\n",
              "    .dataframe tbody tr th:only-of-type {\n",
              "        vertical-align: middle;\n",
              "    }\n",
              "\n",
              "    .dataframe tbody tr th {\n",
              "        vertical-align: top;\n",
              "    }\n",
              "\n",
              "    .dataframe thead th {\n",
              "        text-align: right;\n",
              "    }\n",
              "</style>\n",
              "<table border=\"1\" class=\"dataframe\">\n",
              "  <thead>\n",
              "    <tr style=\"text-align: right;\">\n",
              "      <th></th>\n",
              "      <th>Tipo</th>\n",
              "      <th>Descripcion</th>\n",
              "      <th>Habitaciones</th>\n",
              "      <th>Banos</th>\n",
              "      <th>Area</th>\n",
              "      <th>Barrio</th>\n",
              "      <th>UPZ</th>\n",
              "      <th>Valor</th>\n",
              "    </tr>\n",
              "  </thead>\n",
              "  <tbody>\n",
              "    <tr>\n",
              "      <th>5785</th>\n",
              "      <td>Apartamento</td>\n",
              "      <td>Apartamento en venta en Engativa</td>\n",
              "      <td>3</td>\n",
              "      <td>2</td>\n",
              "      <td>54</td>\n",
              "      <td>Engativa</td>\n",
              "      <td>Engativá</td>\n",
              "      <td>$ 249.000.000</td>\n",
              "    </tr>\n",
              "    <tr>\n",
              "      <th>8480</th>\n",
              "      <td>Apartamento</td>\n",
              "      <td>Apartamento en venta en La Candelaria</td>\n",
              "      <td>2</td>\n",
              "      <td>4</td>\n",
              "      <td>198</td>\n",
              "      <td>La Candelaria</td>\n",
              "      <td>La Candelaria</td>\n",
              "      <td>$ 1.690.000.000</td>\n",
              "    </tr>\n",
              "    <tr>\n",
              "      <th>5056</th>\n",
              "      <td>Apartamento</td>\n",
              "      <td>Apartamento en venta en Chico Reservado</td>\n",
              "      <td>3</td>\n",
              "      <td>4</td>\n",
              "      <td>140</td>\n",
              "      <td>Chico Reservado</td>\n",
              "      <td>CHAPINERO: Chicó Lago + El Refugio</td>\n",
              "      <td>$ 790.000.000</td>\n",
              "    </tr>\n",
              "    <tr>\n",
              "      <th>8517</th>\n",
              "      <td>Apartamento</td>\n",
              "      <td>Apartamento en venta en Teusaquillo</td>\n",
              "      <td>1</td>\n",
              "      <td>1</td>\n",
              "      <td>412</td>\n",
              "      <td>Teusaquillo</td>\n",
              "      <td>Teusaquillo</td>\n",
              "      <td>$ 256.500.000</td>\n",
              "    </tr>\n",
              "    <tr>\n",
              "      <th>1639</th>\n",
              "      <td>Apartamento</td>\n",
              "      <td>Apartamento en venta en El Batán</td>\n",
              "      <td>1</td>\n",
              "      <td>1</td>\n",
              "      <td>47</td>\n",
              "      <td>El Batán</td>\n",
              "      <td>La Alhambra</td>\n",
              "      <td>$ 310.000.000</td>\n",
              "    </tr>\n",
              "    <tr>\n",
              "      <th>2544</th>\n",
              "      <td>Apartamento</td>\n",
              "      <td>Apartamento en venta en Ciudad Bolívar</td>\n",
              "      <td>3</td>\n",
              "      <td>2</td>\n",
              "      <td>56</td>\n",
              "      <td>Ciudad Bolívar</td>\n",
              "      <td>CIUDAD BOLÍVAR: Monteblanco + El Tesoro + El M...</td>\n",
              "      <td>$ 162.000.000</td>\n",
              "    </tr>\n",
              "    <tr>\n",
              "      <th>1254</th>\n",
              "      <td>Apartamento</td>\n",
              "      <td>Apartamento en venta en Kennedy</td>\n",
              "      <td>3</td>\n",
              "      <td>2</td>\n",
              "      <td>68</td>\n",
              "      <td>Kennedy</td>\n",
              "      <td>Kennedy Central</td>\n",
              "      <td>$ 296.000.000</td>\n",
              "    </tr>\n",
              "    <tr>\n",
              "      <th>525</th>\n",
              "      <td>Apartamento</td>\n",
              "      <td>Apartamento en venta en Barrios Unidos</td>\n",
              "      <td>3</td>\n",
              "      <td>2</td>\n",
              "      <td>43</td>\n",
              "      <td>Barrios Unidos</td>\n",
              "      <td>Los Andes</td>\n",
              "      <td>$ 160.000.000</td>\n",
              "    </tr>\n",
              "    <tr>\n",
              "      <th>3761</th>\n",
              "      <td>Apartamento</td>\n",
              "      <td>Apartamento en venta en Usaquén</td>\n",
              "      <td>3</td>\n",
              "      <td>4</td>\n",
              "      <td>181</td>\n",
              "      <td>Usaquén</td>\n",
              "      <td>Usaquén</td>\n",
              "      <td>$ 870.000.000</td>\n",
              "    </tr>\n",
              "    <tr>\n",
              "      <th>8761</th>\n",
              "      <td>Apartamento</td>\n",
              "      <td>Apartamento en venta en Pinar De Suba</td>\n",
              "      <td>2</td>\n",
              "      <td>1</td>\n",
              "      <td>46</td>\n",
              "      <td>Pinar De Suba</td>\n",
              "      <td>Suba</td>\n",
              "      <td>$ 180.000.000</td>\n",
              "    </tr>\n",
              "  </tbody>\n",
              "</table>\n",
              "</div>\n",
              "      <button class=\"colab-df-convert\" onclick=\"convertToInteractive('df-619fec85-e986-4cb5-a17f-c460162e41ee')\"\n",
              "              title=\"Convert this dataframe to an interactive table.\"\n",
              "              style=\"display:none;\">\n",
              "        \n",
              "  <svg xmlns=\"http://www.w3.org/2000/svg\" height=\"24px\"viewBox=\"0 0 24 24\"\n",
              "       width=\"24px\">\n",
              "    <path d=\"M0 0h24v24H0V0z\" fill=\"none\"/>\n",
              "    <path d=\"M18.56 5.44l.94 2.06.94-2.06 2.06-.94-2.06-.94-.94-2.06-.94 2.06-2.06.94zm-11 1L8.5 8.5l.94-2.06 2.06-.94-2.06-.94L8.5 2.5l-.94 2.06-2.06.94zm10 10l.94 2.06.94-2.06 2.06-.94-2.06-.94-.94-2.06-.94 2.06-2.06.94z\"/><path d=\"M17.41 7.96l-1.37-1.37c-.4-.4-.92-.59-1.43-.59-.52 0-1.04.2-1.43.59L10.3 9.45l-7.72 7.72c-.78.78-.78 2.05 0 2.83L4 21.41c.39.39.9.59 1.41.59.51 0 1.02-.2 1.41-.59l7.78-7.78 2.81-2.81c.8-.78.8-2.07 0-2.86zM5.41 20L4 18.59l7.72-7.72 1.47 1.35L5.41 20z\"/>\n",
              "  </svg>\n",
              "      </button>\n",
              "      \n",
              "  <style>\n",
              "    .colab-df-container {\n",
              "      display:flex;\n",
              "      flex-wrap:wrap;\n",
              "      gap: 12px;\n",
              "    }\n",
              "\n",
              "    .colab-df-convert {\n",
              "      background-color: #E8F0FE;\n",
              "      border: none;\n",
              "      border-radius: 50%;\n",
              "      cursor: pointer;\n",
              "      display: none;\n",
              "      fill: #1967D2;\n",
              "      height: 32px;\n",
              "      padding: 0 0 0 0;\n",
              "      width: 32px;\n",
              "    }\n",
              "\n",
              "    .colab-df-convert:hover {\n",
              "      background-color: #E2EBFA;\n",
              "      box-shadow: 0px 1px 2px rgba(60, 64, 67, 0.3), 0px 1px 3px 1px rgba(60, 64, 67, 0.15);\n",
              "      fill: #174EA6;\n",
              "    }\n",
              "\n",
              "    [theme=dark] .colab-df-convert {\n",
              "      background-color: #3B4455;\n",
              "      fill: #D2E3FC;\n",
              "    }\n",
              "\n",
              "    [theme=dark] .colab-df-convert:hover {\n",
              "      background-color: #434B5C;\n",
              "      box-shadow: 0px 1px 3px 1px rgba(0, 0, 0, 0.15);\n",
              "      filter: drop-shadow(0px 1px 2px rgba(0, 0, 0, 0.3));\n",
              "      fill: #FFFFFF;\n",
              "    }\n",
              "  </style>\n",
              "\n",
              "      <script>\n",
              "        const buttonEl =\n",
              "          document.querySelector('#df-619fec85-e986-4cb5-a17f-c460162e41ee button.colab-df-convert');\n",
              "        buttonEl.style.display =\n",
              "          google.colab.kernel.accessAllowed ? 'block' : 'none';\n",
              "\n",
              "        async function convertToInteractive(key) {\n",
              "          const element = document.querySelector('#df-619fec85-e986-4cb5-a17f-c460162e41ee');\n",
              "          const dataTable =\n",
              "            await google.colab.kernel.invokeFunction('convertToInteractive',\n",
              "                                                     [key], {});\n",
              "          if (!dataTable) return;\n",
              "\n",
              "          const docLinkHtml = 'Like what you see? Visit the ' +\n",
              "            '<a target=\"_blank\" href=https://colab.research.google.com/notebooks/data_table.ipynb>data table notebook</a>'\n",
              "            + ' to learn more about interactive tables.';\n",
              "          element.innerHTML = '';\n",
              "          dataTable['output_type'] = 'display_data';\n",
              "          await google.colab.output.renderOutput(dataTable, element);\n",
              "          const docLink = document.createElement('div');\n",
              "          docLink.innerHTML = docLinkHtml;\n",
              "          element.appendChild(docLink);\n",
              "        }\n",
              "      </script>\n",
              "    </div>\n",
              "  </div>\n",
              "  "
            ]
          },
          "metadata": {},
          "execution_count": 7
        }
      ]
    },
    {
      "cell_type": "code",
      "source": [
        "inmuebles.info()"
      ],
      "metadata": {
        "colab": {
          "base_uri": "https://localhost:8080/"
        },
        "id": "6yh9Y11tchTe",
        "outputId": "adce0087-8c3f-43fc-90a3-7a0fb7871c12"
      },
      "execution_count": 8,
      "outputs": [
        {
          "output_type": "stream",
          "name": "stdout",
          "text": [
            "<class 'pandas.core.frame.DataFrame'>\n",
            "RangeIndex: 9520 entries, 0 to 9519\n",
            "Data columns (total 8 columns):\n",
            " #   Column        Non-Null Count  Dtype \n",
            "---  ------        --------------  ----- \n",
            " 0   Tipo          9520 non-null   object\n",
            " 1   Descripcion   9520 non-null   object\n",
            " 2   Habitaciones  9520 non-null   int64 \n",
            " 3   Banos         9520 non-null   int64 \n",
            " 4   Area          9520 non-null   int64 \n",
            " 5   Barrio        9520 non-null   object\n",
            " 6   UPZ           9478 non-null   object\n",
            " 7   Valor         9520 non-null   object\n",
            "dtypes: int64(3), object(5)\n",
            "memory usage: 595.1+ KB\n"
          ]
        }
      ]
    },
    {
      "cell_type": "code",
      "source": [
        "# Qué hay en el índice 300?\n",
        "inmuebles.iloc[300]"
      ],
      "metadata": {
        "colab": {
          "base_uri": "https://localhost:8080/"
        },
        "id": "z_bUU72zJmIc",
        "outputId": "d5b2ca77-1bd6-43be-c535-2e288fd49b50"
      },
      "execution_count": 9,
      "outputs": [
        {
          "output_type": "execute_result",
          "data": {
            "text/plain": [
              "Tipo                                Apartamento\n",
              "Descripcion     Apartamento en venta en Kennedy\n",
              "Habitaciones                                  2\n",
              "Banos                                         1\n",
              "Area                                         42\n",
              "Barrio                                  Kennedy\n",
              "UPZ                             Kennedy Central\n",
              "Valor                             $ 116.100.000\n",
              "Name: 300, dtype: object"
            ]
          },
          "metadata": {},
          "execution_count": 9
        }
      ]
    },
    {
      "cell_type": "code",
      "source": [
        "inmuebles[300:305]"
      ],
      "metadata": {
        "colab": {
          "base_uri": "https://localhost:8080/",
          "height": 206
        },
        "id": "eb8UT4l_LpCT",
        "outputId": "cd94e60a-d7c9-4ea9-f3a2-a76e57c53e4d"
      },
      "execution_count": 10,
      "outputs": [
        {
          "output_type": "execute_result",
          "data": {
            "text/plain": [
              "            Tipo                          Descripcion  Habitaciones  Banos  \\\n",
              "300  Apartamento      Apartamento en venta en Kennedy             2      1   \n",
              "301  Apartamento  Apartamento en venta en Chico Norte             2      2   \n",
              "302  Apartamento      Apartamento en venta en Kennedy             3      2   \n",
              "303  Apartamento      Apartamento en venta en Kennedy             3      2   \n",
              "304  Apartamento     Apartamento en venta en Cedritos             4      4   \n",
              "\n",
              "     Area       Barrio                                 UPZ          Valor  \n",
              "300    42      Kennedy                     Kennedy Central  $ 116.100.000  \n",
              "301    95  Chico Norte  CHAPINERO: Chicó Lago + El Refugio  $ 980.000.000  \n",
              "302    54      Kennedy                     Kennedy Central  $ 237.000.000  \n",
              "303    67      Kennedy                     Kennedy Central  $ 320.000.000  \n",
              "304   132     Cedritos                             Usaquén  $ 530.000.000  "
            ],
            "text/html": [
              "\n",
              "  <div id=\"df-2e8ebf05-ea85-43e5-aa75-261e67475fd9\">\n",
              "    <div class=\"colab-df-container\">\n",
              "      <div>\n",
              "<style scoped>\n",
              "    .dataframe tbody tr th:only-of-type {\n",
              "        vertical-align: middle;\n",
              "    }\n",
              "\n",
              "    .dataframe tbody tr th {\n",
              "        vertical-align: top;\n",
              "    }\n",
              "\n",
              "    .dataframe thead th {\n",
              "        text-align: right;\n",
              "    }\n",
              "</style>\n",
              "<table border=\"1\" class=\"dataframe\">\n",
              "  <thead>\n",
              "    <tr style=\"text-align: right;\">\n",
              "      <th></th>\n",
              "      <th>Tipo</th>\n",
              "      <th>Descripcion</th>\n",
              "      <th>Habitaciones</th>\n",
              "      <th>Banos</th>\n",
              "      <th>Area</th>\n",
              "      <th>Barrio</th>\n",
              "      <th>UPZ</th>\n",
              "      <th>Valor</th>\n",
              "    </tr>\n",
              "  </thead>\n",
              "  <tbody>\n",
              "    <tr>\n",
              "      <th>300</th>\n",
              "      <td>Apartamento</td>\n",
              "      <td>Apartamento en venta en Kennedy</td>\n",
              "      <td>2</td>\n",
              "      <td>1</td>\n",
              "      <td>42</td>\n",
              "      <td>Kennedy</td>\n",
              "      <td>Kennedy Central</td>\n",
              "      <td>$ 116.100.000</td>\n",
              "    </tr>\n",
              "    <tr>\n",
              "      <th>301</th>\n",
              "      <td>Apartamento</td>\n",
              "      <td>Apartamento en venta en Chico Norte</td>\n",
              "      <td>2</td>\n",
              "      <td>2</td>\n",
              "      <td>95</td>\n",
              "      <td>Chico Norte</td>\n",
              "      <td>CHAPINERO: Chicó Lago + El Refugio</td>\n",
              "      <td>$ 980.000.000</td>\n",
              "    </tr>\n",
              "    <tr>\n",
              "      <th>302</th>\n",
              "      <td>Apartamento</td>\n",
              "      <td>Apartamento en venta en Kennedy</td>\n",
              "      <td>3</td>\n",
              "      <td>2</td>\n",
              "      <td>54</td>\n",
              "      <td>Kennedy</td>\n",
              "      <td>Kennedy Central</td>\n",
              "      <td>$ 237.000.000</td>\n",
              "    </tr>\n",
              "    <tr>\n",
              "      <th>303</th>\n",
              "      <td>Apartamento</td>\n",
              "      <td>Apartamento en venta en Kennedy</td>\n",
              "      <td>3</td>\n",
              "      <td>2</td>\n",
              "      <td>67</td>\n",
              "      <td>Kennedy</td>\n",
              "      <td>Kennedy Central</td>\n",
              "      <td>$ 320.000.000</td>\n",
              "    </tr>\n",
              "    <tr>\n",
              "      <th>304</th>\n",
              "      <td>Apartamento</td>\n",
              "      <td>Apartamento en venta en Cedritos</td>\n",
              "      <td>4</td>\n",
              "      <td>4</td>\n",
              "      <td>132</td>\n",
              "      <td>Cedritos</td>\n",
              "      <td>Usaquén</td>\n",
              "      <td>$ 530.000.000</td>\n",
              "    </tr>\n",
              "  </tbody>\n",
              "</table>\n",
              "</div>\n",
              "      <button class=\"colab-df-convert\" onclick=\"convertToInteractive('df-2e8ebf05-ea85-43e5-aa75-261e67475fd9')\"\n",
              "              title=\"Convert this dataframe to an interactive table.\"\n",
              "              style=\"display:none;\">\n",
              "        \n",
              "  <svg xmlns=\"http://www.w3.org/2000/svg\" height=\"24px\"viewBox=\"0 0 24 24\"\n",
              "       width=\"24px\">\n",
              "    <path d=\"M0 0h24v24H0V0z\" fill=\"none\"/>\n",
              "    <path d=\"M18.56 5.44l.94 2.06.94-2.06 2.06-.94-2.06-.94-.94-2.06-.94 2.06-2.06.94zm-11 1L8.5 8.5l.94-2.06 2.06-.94-2.06-.94L8.5 2.5l-.94 2.06-2.06.94zm10 10l.94 2.06.94-2.06 2.06-.94-2.06-.94-.94-2.06-.94 2.06-2.06.94z\"/><path d=\"M17.41 7.96l-1.37-1.37c-.4-.4-.92-.59-1.43-.59-.52 0-1.04.2-1.43.59L10.3 9.45l-7.72 7.72c-.78.78-.78 2.05 0 2.83L4 21.41c.39.39.9.59 1.41.59.51 0 1.02-.2 1.41-.59l7.78-7.78 2.81-2.81c.8-.78.8-2.07 0-2.86zM5.41 20L4 18.59l7.72-7.72 1.47 1.35L5.41 20z\"/>\n",
              "  </svg>\n",
              "      </button>\n",
              "      \n",
              "  <style>\n",
              "    .colab-df-container {\n",
              "      display:flex;\n",
              "      flex-wrap:wrap;\n",
              "      gap: 12px;\n",
              "    }\n",
              "\n",
              "    .colab-df-convert {\n",
              "      background-color: #E8F0FE;\n",
              "      border: none;\n",
              "      border-radius: 50%;\n",
              "      cursor: pointer;\n",
              "      display: none;\n",
              "      fill: #1967D2;\n",
              "      height: 32px;\n",
              "      padding: 0 0 0 0;\n",
              "      width: 32px;\n",
              "    }\n",
              "\n",
              "    .colab-df-convert:hover {\n",
              "      background-color: #E2EBFA;\n",
              "      box-shadow: 0px 1px 2px rgba(60, 64, 67, 0.3), 0px 1px 3px 1px rgba(60, 64, 67, 0.15);\n",
              "      fill: #174EA6;\n",
              "    }\n",
              "\n",
              "    [theme=dark] .colab-df-convert {\n",
              "      background-color: #3B4455;\n",
              "      fill: #D2E3FC;\n",
              "    }\n",
              "\n",
              "    [theme=dark] .colab-df-convert:hover {\n",
              "      background-color: #434B5C;\n",
              "      box-shadow: 0px 1px 3px 1px rgba(0, 0, 0, 0.15);\n",
              "      filter: drop-shadow(0px 1px 2px rgba(0, 0, 0, 0.3));\n",
              "      fill: #FFFFFF;\n",
              "    }\n",
              "  </style>\n",
              "\n",
              "      <script>\n",
              "        const buttonEl =\n",
              "          document.querySelector('#df-2e8ebf05-ea85-43e5-aa75-261e67475fd9 button.colab-df-convert');\n",
              "        buttonEl.style.display =\n",
              "          google.colab.kernel.accessAllowed ? 'block' : 'none';\n",
              "\n",
              "        async function convertToInteractive(key) {\n",
              "          const element = document.querySelector('#df-2e8ebf05-ea85-43e5-aa75-261e67475fd9');\n",
              "          const dataTable =\n",
              "            await google.colab.kernel.invokeFunction('convertToInteractive',\n",
              "                                                     [key], {});\n",
              "          if (!dataTable) return;\n",
              "\n",
              "          const docLinkHtml = 'Like what you see? Visit the ' +\n",
              "            '<a target=\"_blank\" href=https://colab.research.google.com/notebooks/data_table.ipynb>data table notebook</a>'\n",
              "            + ' to learn more about interactive tables.';\n",
              "          element.innerHTML = '';\n",
              "          dataTable['output_type'] = 'display_data';\n",
              "          await google.colab.output.renderOutput(dataTable, element);\n",
              "          const docLink = document.createElement('div');\n",
              "          docLink.innerHTML = docLinkHtml;\n",
              "          element.appendChild(docLink);\n",
              "        }\n",
              "      </script>\n",
              "    </div>\n",
              "  </div>\n",
              "  "
            ]
          },
          "metadata": {},
          "execution_count": 10
        }
      ]
    },
    {
      "cell_type": "code",
      "source": [
        "inmuebles['Valor'][300]"
      ],
      "metadata": {
        "colab": {
          "base_uri": "https://localhost:8080/",
          "height": 35
        },
        "id": "Wrp6V5rwL-qA",
        "outputId": "395af1f4-1e80-4182-eee1-f65c7420106a"
      },
      "execution_count": 11,
      "outputs": [
        {
          "output_type": "execute_result",
          "data": {
            "text/plain": [
              "'$ 116.100.000'"
            ],
            "application/vnd.google.colaboratory.intrinsic+json": {
              "type": "string"
            }
          },
          "metadata": {},
          "execution_count": 11
        }
      ]
    },
    {
      "cell_type": "code",
      "source": [
        "inmuebles['Valor'][300:305]"
      ],
      "metadata": {
        "colab": {
          "base_uri": "https://localhost:8080/"
        },
        "id": "tTBJksW6MN6m",
        "outputId": "3b406f88-a4a0-4c01-f1a7-6ab56e93ec43"
      },
      "execution_count": 12,
      "outputs": [
        {
          "output_type": "execute_result",
          "data": {
            "text/plain": [
              "300    $ 116.100.000\n",
              "301    $ 980.000.000\n",
              "302    $ 237.000.000\n",
              "303    $ 320.000.000\n",
              "304    $ 530.000.000\n",
              "Name: Valor, dtype: object"
            ]
          },
          "metadata": {},
          "execution_count": 12
        }
      ]
    },
    {
      "cell_type": "code",
      "source": [
        "type(inmuebles['Valor'][300:305])"
      ],
      "metadata": {
        "colab": {
          "base_uri": "https://localhost:8080/"
        },
        "id": "PsmHayCtMTkw",
        "outputId": "c58eaf2d-81ca-452e-972a-8c31002da9f2"
      },
      "execution_count": 13,
      "outputs": [
        {
          "output_type": "execute_result",
          "data": {
            "text/plain": [
              "pandas.core.series.Series"
            ]
          },
          "metadata": {},
          "execution_count": 13
        }
      ]
    },
    {
      "cell_type": "code",
      "source": [
        "inmuebles.columns"
      ],
      "metadata": {
        "colab": {
          "base_uri": "https://localhost:8080/"
        },
        "id": "i_WO9EVSMdMg",
        "outputId": "53c66756-1bdf-4e41-b689-5539500c1b0f"
      },
      "execution_count": 14,
      "outputs": [
        {
          "output_type": "execute_result",
          "data": {
            "text/plain": [
              "Index(['Tipo', 'Descripcion', 'Habitaciones', 'Banos', 'Area', 'Barrio', 'UPZ',\n",
              "       'Valor'],\n",
              "      dtype='object')"
            ]
          },
          "metadata": {},
          "execution_count": 14
        }
      ]
    },
    {
      "cell_type": "code",
      "source": [
        "#Calculo el area promedio de todos los inmuebles del dataset\n",
        "inmuebles.Area.mean()"
      ],
      "metadata": {
        "colab": {
          "base_uri": "https://localhost:8080/"
        },
        "id": "5IhDTJPSM1hd",
        "outputId": "8de95ef0-c03a-4e75-9ba8-04bbc011442d"
      },
      "execution_count": 15,
      "outputs": [
        {
          "output_type": "execute_result",
          "data": {
            "text/plain": [
              "146.66470588235293"
            ]
          },
          "metadata": {},
          "execution_count": 15
        }
      ]
    },
    {
      "cell_type": "code",
      "source": [
        "#Cantidad de inmuebles en el barrio Chico Reservado\n",
        "sum((inmuebles.Barrio == 'Chico Reservado'))"
      ],
      "metadata": {
        "colab": {
          "base_uri": "https://localhost:8080/"
        },
        "id": "9eBvk-RcNJgr",
        "outputId": "ac03664f-f96f-4b16-a430-1158eaaadaa5"
      },
      "execution_count": 16,
      "outputs": [
        {
          "output_type": "execute_result",
          "data": {
            "text/plain": [
              "225"
            ]
          },
          "metadata": {},
          "execution_count": 16
        }
      ]
    },
    {
      "cell_type": "code",
      "source": [
        "inmuebles_chico = (inmuebles.Barrio == 'Chico Reservado')\n",
        "type(inmuebles_chico)"
      ],
      "metadata": {
        "colab": {
          "base_uri": "https://localhost:8080/"
        },
        "id": "LpG864bpNx1Z",
        "outputId": "a6237bf0-c24e-41fd-98b0-e3b50f842172"
      },
      "execution_count": 17,
      "outputs": [
        {
          "output_type": "execute_result",
          "data": {
            "text/plain": [
              "pandas.core.series.Series"
            ]
          },
          "metadata": {},
          "execution_count": 17
        }
      ]
    },
    {
      "cell_type": "code",
      "source": [
        "chico_reservado = inmuebles[inmuebles_chico]\n",
        "chico_reservado"
      ],
      "metadata": {
        "colab": {
          "base_uri": "https://localhost:8080/",
          "height": 424
        },
        "id": "PuyJmZWwOMvo",
        "outputId": "35961773-be31-4ebd-8e73-15e2e28e15f4"
      },
      "execution_count": 18,
      "outputs": [
        {
          "output_type": "execute_result",
          "data": {
            "text/plain": [
              "             Tipo                              Descripcion  Habitaciones  \\\n",
              "2     Apartamento  Apartamento en venta en Chico Reservado             3   \n",
              "39    Apartamento  Apartamento en venta en Chico Reservado             1   \n",
              "72    Apartamento  Apartamento en venta en Chico Reservado             1   \n",
              "126   Apartamento  Apartamento en venta en Chico Reservado             3   \n",
              "143   Apartamento  Apartamento en venta en Chico Reservado             2   \n",
              "...           ...                                      ...           ...   \n",
              "9299  Apartamento  Apartamento en venta en Chico Reservado             3   \n",
              "9335  Apartamento  Apartamento en venta en Chico Reservado             3   \n",
              "9341  Apartamento  Apartamento en venta en Chico Reservado             2   \n",
              "9472  Apartamento  Apartamento en venta en Chico Reservado             3   \n",
              "9506  Apartamento  Apartamento en venta en Chico Reservado             3   \n",
              "\n",
              "      Banos  Area           Barrio                                 UPZ  \\\n",
              "2         3   144  Chico Reservado  CHAPINERO: Chicó Lago + El Refugio   \n",
              "39        1    64  Chico Reservado  CHAPINERO: Chicó Lago + El Refugio   \n",
              "72        1    64  Chico Reservado  CHAPINERO: Chicó Lago + El Refugio   \n",
              "126       4   150  Chico Reservado  CHAPINERO: Chicó Lago + El Refugio   \n",
              "143       4   104  Chico Reservado  CHAPINERO: Chicó Lago + El Refugio   \n",
              "...     ...   ...              ...                                 ...   \n",
              "9299      3   148  Chico Reservado  CHAPINERO: Chicó Lago + El Refugio   \n",
              "9335      3   176  Chico Reservado  CHAPINERO: Chicó Lago + El Refugio   \n",
              "9341      3   118  Chico Reservado  CHAPINERO: Chicó Lago + El Refugio   \n",
              "9472      1    49  Chico Reservado  CHAPINERO: Chicó Lago + El Refugio   \n",
              "9506      4   390  Chico Reservado  CHAPINERO: Chicó Lago + El Refugio   \n",
              "\n",
              "                Valor  \n",
              "2     $ 1.120.000.000  \n",
              "39      $ 495.000.000  \n",
              "72      $ 495.000.000  \n",
              "126   $ 1.300.000.000  \n",
              "143   $ 1.100.000.000  \n",
              "...               ...  \n",
              "9299    $ 780.000.000  \n",
              "9335    $ 850.000.000  \n",
              "9341    $ 700.000.000  \n",
              "9472    $ 200.000.000  \n",
              "9506  $ 3.200.000.000  \n",
              "\n",
              "[225 rows x 8 columns]"
            ],
            "text/html": [
              "\n",
              "  <div id=\"df-d7a928b7-5a80-488b-aae8-cdca9d2ce790\">\n",
              "    <div class=\"colab-df-container\">\n",
              "      <div>\n",
              "<style scoped>\n",
              "    .dataframe tbody tr th:only-of-type {\n",
              "        vertical-align: middle;\n",
              "    }\n",
              "\n",
              "    .dataframe tbody tr th {\n",
              "        vertical-align: top;\n",
              "    }\n",
              "\n",
              "    .dataframe thead th {\n",
              "        text-align: right;\n",
              "    }\n",
              "</style>\n",
              "<table border=\"1\" class=\"dataframe\">\n",
              "  <thead>\n",
              "    <tr style=\"text-align: right;\">\n",
              "      <th></th>\n",
              "      <th>Tipo</th>\n",
              "      <th>Descripcion</th>\n",
              "      <th>Habitaciones</th>\n",
              "      <th>Banos</th>\n",
              "      <th>Area</th>\n",
              "      <th>Barrio</th>\n",
              "      <th>UPZ</th>\n",
              "      <th>Valor</th>\n",
              "    </tr>\n",
              "  </thead>\n",
              "  <tbody>\n",
              "    <tr>\n",
              "      <th>2</th>\n",
              "      <td>Apartamento</td>\n",
              "      <td>Apartamento en venta en Chico Reservado</td>\n",
              "      <td>3</td>\n",
              "      <td>3</td>\n",
              "      <td>144</td>\n",
              "      <td>Chico Reservado</td>\n",
              "      <td>CHAPINERO: Chicó Lago + El Refugio</td>\n",
              "      <td>$ 1.120.000.000</td>\n",
              "    </tr>\n",
              "    <tr>\n",
              "      <th>39</th>\n",
              "      <td>Apartamento</td>\n",
              "      <td>Apartamento en venta en Chico Reservado</td>\n",
              "      <td>1</td>\n",
              "      <td>1</td>\n",
              "      <td>64</td>\n",
              "      <td>Chico Reservado</td>\n",
              "      <td>CHAPINERO: Chicó Lago + El Refugio</td>\n",
              "      <td>$ 495.000.000</td>\n",
              "    </tr>\n",
              "    <tr>\n",
              "      <th>72</th>\n",
              "      <td>Apartamento</td>\n",
              "      <td>Apartamento en venta en Chico Reservado</td>\n",
              "      <td>1</td>\n",
              "      <td>1</td>\n",
              "      <td>64</td>\n",
              "      <td>Chico Reservado</td>\n",
              "      <td>CHAPINERO: Chicó Lago + El Refugio</td>\n",
              "      <td>$ 495.000.000</td>\n",
              "    </tr>\n",
              "    <tr>\n",
              "      <th>126</th>\n",
              "      <td>Apartamento</td>\n",
              "      <td>Apartamento en venta en Chico Reservado</td>\n",
              "      <td>3</td>\n",
              "      <td>4</td>\n",
              "      <td>150</td>\n",
              "      <td>Chico Reservado</td>\n",
              "      <td>CHAPINERO: Chicó Lago + El Refugio</td>\n",
              "      <td>$ 1.300.000.000</td>\n",
              "    </tr>\n",
              "    <tr>\n",
              "      <th>143</th>\n",
              "      <td>Apartamento</td>\n",
              "      <td>Apartamento en venta en Chico Reservado</td>\n",
              "      <td>2</td>\n",
              "      <td>4</td>\n",
              "      <td>104</td>\n",
              "      <td>Chico Reservado</td>\n",
              "      <td>CHAPINERO: Chicó Lago + El Refugio</td>\n",
              "      <td>$ 1.100.000.000</td>\n",
              "    </tr>\n",
              "    <tr>\n",
              "      <th>...</th>\n",
              "      <td>...</td>\n",
              "      <td>...</td>\n",
              "      <td>...</td>\n",
              "      <td>...</td>\n",
              "      <td>...</td>\n",
              "      <td>...</td>\n",
              "      <td>...</td>\n",
              "      <td>...</td>\n",
              "    </tr>\n",
              "    <tr>\n",
              "      <th>9299</th>\n",
              "      <td>Apartamento</td>\n",
              "      <td>Apartamento en venta en Chico Reservado</td>\n",
              "      <td>3</td>\n",
              "      <td>3</td>\n",
              "      <td>148</td>\n",
              "      <td>Chico Reservado</td>\n",
              "      <td>CHAPINERO: Chicó Lago + El Refugio</td>\n",
              "      <td>$ 780.000.000</td>\n",
              "    </tr>\n",
              "    <tr>\n",
              "      <th>9335</th>\n",
              "      <td>Apartamento</td>\n",
              "      <td>Apartamento en venta en Chico Reservado</td>\n",
              "      <td>3</td>\n",
              "      <td>3</td>\n",
              "      <td>176</td>\n",
              "      <td>Chico Reservado</td>\n",
              "      <td>CHAPINERO: Chicó Lago + El Refugio</td>\n",
              "      <td>$ 850.000.000</td>\n",
              "    </tr>\n",
              "    <tr>\n",
              "      <th>9341</th>\n",
              "      <td>Apartamento</td>\n",
              "      <td>Apartamento en venta en Chico Reservado</td>\n",
              "      <td>2</td>\n",
              "      <td>3</td>\n",
              "      <td>118</td>\n",
              "      <td>Chico Reservado</td>\n",
              "      <td>CHAPINERO: Chicó Lago + El Refugio</td>\n",
              "      <td>$ 700.000.000</td>\n",
              "    </tr>\n",
              "    <tr>\n",
              "      <th>9472</th>\n",
              "      <td>Apartamento</td>\n",
              "      <td>Apartamento en venta en Chico Reservado</td>\n",
              "      <td>3</td>\n",
              "      <td>1</td>\n",
              "      <td>49</td>\n",
              "      <td>Chico Reservado</td>\n",
              "      <td>CHAPINERO: Chicó Lago + El Refugio</td>\n",
              "      <td>$ 200.000.000</td>\n",
              "    </tr>\n",
              "    <tr>\n",
              "      <th>9506</th>\n",
              "      <td>Apartamento</td>\n",
              "      <td>Apartamento en venta en Chico Reservado</td>\n",
              "      <td>3</td>\n",
              "      <td>4</td>\n",
              "      <td>390</td>\n",
              "      <td>Chico Reservado</td>\n",
              "      <td>CHAPINERO: Chicó Lago + El Refugio</td>\n",
              "      <td>$ 3.200.000.000</td>\n",
              "    </tr>\n",
              "  </tbody>\n",
              "</table>\n",
              "<p>225 rows × 8 columns</p>\n",
              "</div>\n",
              "      <button class=\"colab-df-convert\" onclick=\"convertToInteractive('df-d7a928b7-5a80-488b-aae8-cdca9d2ce790')\"\n",
              "              title=\"Convert this dataframe to an interactive table.\"\n",
              "              style=\"display:none;\">\n",
              "        \n",
              "  <svg xmlns=\"http://www.w3.org/2000/svg\" height=\"24px\"viewBox=\"0 0 24 24\"\n",
              "       width=\"24px\">\n",
              "    <path d=\"M0 0h24v24H0V0z\" fill=\"none\"/>\n",
              "    <path d=\"M18.56 5.44l.94 2.06.94-2.06 2.06-.94-2.06-.94-.94-2.06-.94 2.06-2.06.94zm-11 1L8.5 8.5l.94-2.06 2.06-.94-2.06-.94L8.5 2.5l-.94 2.06-2.06.94zm10 10l.94 2.06.94-2.06 2.06-.94-2.06-.94-.94-2.06-.94 2.06-2.06.94z\"/><path d=\"M17.41 7.96l-1.37-1.37c-.4-.4-.92-.59-1.43-.59-.52 0-1.04.2-1.43.59L10.3 9.45l-7.72 7.72c-.78.78-.78 2.05 0 2.83L4 21.41c.39.39.9.59 1.41.59.51 0 1.02-.2 1.41-.59l7.78-7.78 2.81-2.81c.8-.78.8-2.07 0-2.86zM5.41 20L4 18.59l7.72-7.72 1.47 1.35L5.41 20z\"/>\n",
              "  </svg>\n",
              "      </button>\n",
              "      \n",
              "  <style>\n",
              "    .colab-df-container {\n",
              "      display:flex;\n",
              "      flex-wrap:wrap;\n",
              "      gap: 12px;\n",
              "    }\n",
              "\n",
              "    .colab-df-convert {\n",
              "      background-color: #E8F0FE;\n",
              "      border: none;\n",
              "      border-radius: 50%;\n",
              "      cursor: pointer;\n",
              "      display: none;\n",
              "      fill: #1967D2;\n",
              "      height: 32px;\n",
              "      padding: 0 0 0 0;\n",
              "      width: 32px;\n",
              "    }\n",
              "\n",
              "    .colab-df-convert:hover {\n",
              "      background-color: #E2EBFA;\n",
              "      box-shadow: 0px 1px 2px rgba(60, 64, 67, 0.3), 0px 1px 3px 1px rgba(60, 64, 67, 0.15);\n",
              "      fill: #174EA6;\n",
              "    }\n",
              "\n",
              "    [theme=dark] .colab-df-convert {\n",
              "      background-color: #3B4455;\n",
              "      fill: #D2E3FC;\n",
              "    }\n",
              "\n",
              "    [theme=dark] .colab-df-convert:hover {\n",
              "      background-color: #434B5C;\n",
              "      box-shadow: 0px 1px 3px 1px rgba(0, 0, 0, 0.15);\n",
              "      filter: drop-shadow(0px 1px 2px rgba(0, 0, 0, 0.3));\n",
              "      fill: #FFFFFF;\n",
              "    }\n",
              "  </style>\n",
              "\n",
              "      <script>\n",
              "        const buttonEl =\n",
              "          document.querySelector('#df-d7a928b7-5a80-488b-aae8-cdca9d2ce790 button.colab-df-convert');\n",
              "        buttonEl.style.display =\n",
              "          google.colab.kernel.accessAllowed ? 'block' : 'none';\n",
              "\n",
              "        async function convertToInteractive(key) {\n",
              "          const element = document.querySelector('#df-d7a928b7-5a80-488b-aae8-cdca9d2ce790');\n",
              "          const dataTable =\n",
              "            await google.colab.kernel.invokeFunction('convertToInteractive',\n",
              "                                                     [key], {});\n",
              "          if (!dataTable) return;\n",
              "\n",
              "          const docLinkHtml = 'Like what you see? Visit the ' +\n",
              "            '<a target=\"_blank\" href=https://colab.research.google.com/notebooks/data_table.ipynb>data table notebook</a>'\n",
              "            + ' to learn more about interactive tables.';\n",
              "          element.innerHTML = '';\n",
              "          dataTable['output_type'] = 'display_data';\n",
              "          await google.colab.output.renderOutput(dataTable, element);\n",
              "          const docLink = document.createElement('div');\n",
              "          docLink.innerHTML = docLinkHtml;\n",
              "          element.appendChild(docLink);\n",
              "        }\n",
              "      </script>\n",
              "    </div>\n",
              "  </div>\n",
              "  "
            ]
          },
          "metadata": {},
          "execution_count": 18
        }
      ]
    },
    {
      "cell_type": "code",
      "source": [
        "chico_reservado.Area.mean()"
      ],
      "metadata": {
        "colab": {
          "base_uri": "https://localhost:8080/"
        },
        "id": "Yed1KkMZOg47",
        "outputId": "9cfe628b-0249-4024-e76c-4789d4e243f9"
      },
      "execution_count": 19,
      "outputs": [
        {
          "output_type": "execute_result",
          "data": {
            "text/plain": [
              "142.78666666666666"
            ]
          },
          "metadata": {},
          "execution_count": 19
        }
      ]
    },
    {
      "cell_type": "code",
      "source": [
        "inmuebles.Area.mean()"
      ],
      "metadata": {
        "colab": {
          "base_uri": "https://localhost:8080/"
        },
        "id": "Y-lmhIjyO74z",
        "outputId": "6b043e78-7932-495e-85a9-898e4aaa61ca"
      },
      "execution_count": 20,
      "outputs": [
        {
          "output_type": "execute_result",
          "data": {
            "text/plain": [
              "146.66470588235293"
            ]
          },
          "metadata": {},
          "execution_count": 20
        }
      ]
    },
    {
      "cell_type": "code",
      "source": [
        "len(inmuebles.Barrio.value_counts())"
      ],
      "metadata": {
        "colab": {
          "base_uri": "https://localhost:8080/"
        },
        "id": "1r7QPag5PEvQ",
        "outputId": "19e09aa7-791e-4726-c0b3-23932ea425bf"
      },
      "execution_count": 21,
      "outputs": [
        {
          "output_type": "execute_result",
          "data": {
            "text/plain": [
              "149"
            ]
          },
          "metadata": {},
          "execution_count": 21
        }
      ]
    },
    {
      "cell_type": "code",
      "source": [
        "inmuebles.Barrio.value_counts()"
      ],
      "metadata": {
        "colab": {
          "base_uri": "https://localhost:8080/"
        },
        "id": "MrsuYb1UPUWJ",
        "outputId": "88b8d99a-b121-43a2-e542-979494efb5ba"
      },
      "execution_count": 22,
      "outputs": [
        {
          "output_type": "execute_result",
          "data": {
            "text/plain": [
              "Usaquén               1105\n",
              "Zona Noroccidental     877\n",
              "Bosa                   589\n",
              "Kennedy                589\n",
              "Cedritos               554\n",
              "                      ... \n",
              "Colinas De Suba          1\n",
              "La Estanzuela            1\n",
              "Roma                     1\n",
              "Alameda                  1\n",
              "Prado Veraniego          1\n",
              "Name: Barrio, Length: 149, dtype: int64"
            ]
          },
          "metadata": {},
          "execution_count": 22
        }
      ]
    },
    {
      "cell_type": "code",
      "source": [
        "len(inmuebles.UPZ.value_counts())"
      ],
      "metadata": {
        "colab": {
          "base_uri": "https://localhost:8080/"
        },
        "id": "5DUnts-qPZSV",
        "outputId": "4d162587-6bd7-4333-fc4b-55b3128031f6"
      },
      "execution_count": 23,
      "outputs": [
        {
          "output_type": "execute_result",
          "data": {
            "text/plain": [
              "63"
            ]
          },
          "metadata": {},
          "execution_count": 23
        }
      ]
    },
    {
      "cell_type": "code",
      "source": [
        "inmuebles_barrio= inmuebles.Barrio.value_counts()\n",
        "inmuebles_barrio.plot.bar()"
      ],
      "metadata": {
        "colab": {
          "base_uri": "https://localhost:8080/",
          "height": 388
        },
        "id": "MO8NjIVMPk7s",
        "outputId": "e7364913-801a-4991-8398-abcb87389174"
      },
      "execution_count": 24,
      "outputs": [
        {
          "output_type": "execute_result",
          "data": {
            "text/plain": [
              "<Axes: >"
            ]
          },
          "metadata": {},
          "execution_count": 24
        },
        {
          "output_type": "display_data",
          "data": {
            "text/plain": [
              "<Figure size 432x288 with 1 Axes>"
            ],
            "image/png": "[encoded data removed]"
          },
          "metadata": {
            "needs_background": "light"
          }
        }
      ]
    },
    {
      "cell_type": "code",
      "source": [
        "inmuebles_barrio.head(15).plot.bar()"
      ],
      "metadata": {
        "colab": {
          "base_uri": "https://localhost:8080/",
          "height": 370
        },
        "id": "Xto3M-qxQGbR",
        "outputId": "cb963660-b458-43eb-e7b5-182621a0b707"
      },
      "execution_count": 25,
      "outputs": [
        {
          "output_type": "execute_result",
          "data": {
            "text/plain": [
              "<Axes: >"
            ]
          },
          "metadata": {},
          "execution_count": 25
        },
        {
          "output_type": "display_data",
          "data": {
            "text/plain": [
              "<Figure size 432x288 with 1 Axes>"
            ],
            "image/png": "[encoded data removed]"
          },
          "metadata": {
            "needs_background": "light"
          }
        }
      ]
    },
    {
      "cell_type": "markdown",
      "source": [
        "**Desafío**\n",
        "\n",
        "\n",
        "*  Promedio de área de todos los inmuebles en los barrios en el dataset. El top 10.\n",
        "\n",
        "\n",
        "*   Consultar otros datos estadísticos, conteo, mediana, valores mínimo y máximo.\n",
        "\n",
        "\n"
      ],
      "metadata": {
        "id": "EcfIDXTfR8h0"
      }
    },
    {
      "cell_type": "markdown",
      "source": [
        "Agrupar los datos por barrio y calcular el promedio de área:"
      ],
      "metadata": {
        "id": "m4F16h35TbP9"
      }
    },
    {
      "cell_type": "code",
      "source": [
        "promedio_por_barrio = inmuebles.groupby('Barrio')['Area'].mean()\n",
        "promedio_por_barrio\n"
      ],
      "metadata": {
        "colab": {
          "base_uri": "https://localhost:8080/"
        },
        "id": "1YMeHcJwQYvf",
        "outputId": "7e2ced85-a23b-456c-e6a2-6ba2862bb41e"
      },
      "execution_count": 26,
      "outputs": [
        {
          "output_type": "execute_result",
          "data": {
            "text/plain": [
              "Barrio\n",
              "Alameda                97.000000\n",
              "Alhambra              190.411765\n",
              "Andes Norte           124.857143\n",
              "Antonio Nariño        163.062500\n",
              "Barrancas              70.200000\n",
              "                         ...    \n",
              "Villa Maria           207.153846\n",
              "Villas De Granada      86.590909\n",
              "Villemar               76.888889\n",
              "Zona Franca            54.000000\n",
              "Zona Noroccidental    135.785633\n",
              "Name: Area, Length: 149, dtype: float64"
            ]
          },
          "metadata": {},
          "execution_count": 26
        }
      ]
    },
    {
      "cell_type": "markdown",
      "source": [
        "Ordenar los resultados en orden descendente y seleccionar los primeros 10 barrios:\n"
      ],
      "metadata": {
        "id": "f0NzSn70UQNz"
      }
    },
    {
      "cell_type": "code",
      "source": [
        "top_10 = promedio_por_barrio.sort_values(ascending=False).head(10)\n",
        "print(top_10)\n"
      ],
      "metadata": {
        "colab": {
          "base_uri": "https://localhost:8080/"
        },
        "id": "TnF1_xfQUR0a",
        "outputId": "a2f2a2cf-66c5-47c1-883c-f74c1e2d0df1"
      },
      "execution_count": 27,
      "outputs": [
        {
          "output_type": "stream",
          "name": "stdout",
          "text": [
            "Barrio\n",
            "Modelia                  4316.750000\n",
            "Libertador                642.000000\n",
            "Bosa Piamonte             400.000000\n",
            "La Soledad                378.625000\n",
            "Restrepo                  336.500000\n",
            "Santa Librada             328.000000\n",
            "Las Ferias                320.000000\n",
            "Santa Ana                 309.375000\n",
            "Veraguas                  302.666667\n",
            "Bellavista Occidental     286.200000\n",
            "Name: Area, dtype: float64\n"
          ]
        }
      ]
    },
    {
      "cell_type": "code",
      "source": [
        "top_10.head(15).plot.bar()"
      ],
      "metadata": {
        "colab": {
          "base_uri": "https://localhost:8080/",
          "height": 392
        },
        "id": "KnpTrO5QXzmy",
        "outputId": "a1fde701-6ac1-46ab-935a-e6dca08379b0"
      },
      "execution_count": 28,
      "outputs": [
        {
          "output_type": "execute_result",
          "data": {
            "text/plain": [
              "<Axes: xlabel='Barrio'>"
            ]
          },
          "metadata": {},
          "execution_count": 28
        },
        {
          "output_type": "display_data",
          "data": {
            "text/plain": [
              "<Figure size 432x288 with 1 Axes>"
            ],
            "image/png": "[encoded data removed]"
          },
          "metadata": {
            "needs_background": "light"
          }
        }
      ]
    },
    {
      "cell_type": "code",
      "source": [
        "import matplotlib.pyplot as plt\n"
      ],
      "metadata": {
        "id": "lERwKynZYSnZ"
      },
      "execution_count": 29,
      "outputs": []
    },
    {
      "cell_type": "code",
      "source": [
        "# Obtener los datos correspondientes al top 10\n",
        "datos_top_10 = promedio_por_barrio[top_10.index]"
      ],
      "metadata": {
        "id": "uJ0ofTQcYenx"
      },
      "execution_count": 30,
      "outputs": []
    },
    {
      "cell_type": "code",
      "source": [
        "# Crear la gráfica\n",
        "plt.figure(figsize=(10,6))\n",
        "plt.bar(datos_top_10.index, datos_top_10.values)"
      ],
      "metadata": {
        "colab": {
          "base_uri": "https://localhost:8080/",
          "height": 391
        },
        "id": "nJi0iWcsYgo4",
        "outputId": "c323fb47-ed69-4602-84e5-0f6f1bfa0968"
      },
      "execution_count": 31,
      "outputs": [
        {
          "output_type": "execute_result",
          "data": {
            "text/plain": [
              "<BarContainer object of 10 artists>"
            ]
          },
          "metadata": {},
          "execution_count": 31
        },
        {
          "output_type": "display_data",
          "data": {
            "text/plain": [
              "<Figure size 720x432 with 1 Axes>"
            ],
            "image/png": "[encoded data removed]"
          },
          "metadata": {
            "needs_background": "light"
          }
        }
      ]
    },
    {
      "cell_type": "markdown",
      "source": [
        "Para personalizar el gráfico, se pueden modificar los parámetros de la función ax.bar() y las etiquetas de los ejes x e y. En este ejemplo, se establece un tamaño de figura de 10x6, se añade un título y etiquetas a los ejes, se rota las etiquetas de los ejes x en 45 grados y se muestra el gráfico utilizando la función plt.show()."
      ],
      "metadata": {
        "id": "P4WPT1pCobiN"
      }
    },
    {
      "cell_type": "code",
      "source": [
        "# Generar gráfico de barras\n",
        "fig, ax = plt.subplots(figsize=(10,6))\n",
        "ax.bar(top_10.index, top_10.values)\n",
        "ax.set_title('Promedio de área por barrio')\n",
        "ax.set_xlabel('Barrio')\n",
        "ax.set_ylabel('Promedio de área')\n",
        "plt.xticks(rotation=45)\n",
        "# Mostrar la gráfica\n",
        "plt.show()"
      ],
      "metadata": {
        "colab": {
          "base_uri": "https://localhost:8080/",
          "height": 476
        },
        "id": "xQrbImGwmoyv",
        "outputId": "29fb2d4e-c50e-4e8d-e143-4a0459285298"
      },
      "execution_count": 32,
      "outputs": [
        {
          "output_type": "display_data",
          "data": {
            "text/plain": [
              "<Figure size 720x432 with 1 Axes>"
            ],
            "image/png": "[encoded data removed]"
          },
          "metadata": {
            "needs_background": "light"
          }
        }
      ]
    },
    {
      "cell_type": "code",
      "source": [
        "mediana = inmuebles.groupby('Barrio')['Area'].median()\n",
        "print(mediana)\n",
        "\n"
      ],
      "metadata": {
        "colab": {
          "base_uri": "https://localhost:8080/"
        },
        "id": "DIEDGkXG3M26",
        "outputId": "95305c10-923c-4823-9f7d-d669a3a43701"
      },
      "execution_count": 33,
      "outputs": [
        {
          "output_type": "stream",
          "name": "stdout",
          "text": [
            "Barrio\n",
            "Alameda                97.0\n",
            "Alhambra              164.0\n",
            "Andes Norte           108.0\n",
            "Antonio Nariño         72.0\n",
            "Barrancas              75.0\n",
            "                      ...  \n",
            "Villa Maria           222.0\n",
            "Villas De Granada      64.0\n",
            "Villemar               59.0\n",
            "Zona Franca            54.0\n",
            "Zona Noroccidental     78.0\n",
            "Name: Area, Length: 149, dtype: float64\n"
          ]
        }
      ]
    },
    {
      "cell_type": "code",
      "source": [
        "# Calcular la mediana de área por barrio\n",
        "mediana = mediana.sort_values(ascending=False)\n",
        "print(mediana)"
      ],
      "metadata": {
        "colab": {
          "base_uri": "https://localhost:8080/"
        },
        "id": "fmNgG5hY30P3",
        "outputId": "3f85cb89-7d30-4719-8af9-f18fbc0ef12d"
      },
      "execution_count": 34,
      "outputs": [
        {
          "output_type": "stream",
          "name": "stdout",
          "text": [
            "Barrio\n",
            "Libertador           642.0\n",
            "Bosa Piamonte        400.0\n",
            "Restrepo             365.0\n",
            "Santa Librada        328.0\n",
            "Las Ferias           320.0\n",
            "                     ...  \n",
            "Bochica               39.0\n",
            "La Macarena           37.0\n",
            "San Diego             36.5\n",
            "Chapinero Central     36.0\n",
            "Prado Veraniego       25.0\n",
            "Name: Area, Length: 149, dtype: float64\n"
          ]
        }
      ]
    },
    {
      "cell_type": "code",
      "source": [
        "# Ordenar los 15 primeros resultados en orden ascendente por mediana\n",
        "mediana_por_barrio = mediana.head(15).sort_values(ascending=True)\n",
        "# Generar gráfico de barras\n",
        "fig, ax = plt.subplots(figsize=(20,6))\n",
        "ax.bar(mediana_por_barrio.index, mediana_por_barrio.values)\n",
        "ax.set_title('Mediana de área por barrio')\n",
        "ax.set_xlabel('Barrio')\n",
        "ax.set_ylabel('Mediana de área')\n",
        "plt.xticks(rotation=45)\n",
        "plt.show()"
      ],
      "metadata": {
        "colab": {
          "base_uri": "https://localhost:8080/",
          "height": 454
        },
        "id": "D7Xv96Uj4tAv",
        "outputId": "9c9a0ee2-dd0c-408c-e18f-1734f1684060"
      },
      "execution_count": 35,
      "outputs": [
        {
          "output_type": "display_data",
          "data": {
            "text/plain": [
              "<Figure size 1440x432 with 1 Axes>"
            ],
            "image/png": "[encoded data removed]"
          },
          "metadata": {
            "needs_background": "light"
          }
        }
      ]
    },
    {
      "cell_type": "code",
      "source": [
        "# Obtener el valor mínimo y máximo del área\n",
        "minimo = inmuebles['Area'].min()\n",
        "maximo = inmuebles['Area'].max()\n",
        "\n",
        "# Imprimir los valores mínimo y máximo del área\n",
        "print(\"El valor mínimo del área es:\", minimo)\n",
        "print(\"El valor máximo del área es:\", maximo)"
      ],
      "metadata": {
        "colab": {
          "base_uri": "https://localhost:8080/"
        },
        "id": "xYolRxk97ZZy",
        "outputId": "46356c43-dbe6-403d-e48a-732620da2f6a"
      },
      "execution_count": 36,
      "outputs": [
        {
          "output_type": "stream",
          "name": "stdout",
          "text": [
            "El valor mínimo del área es: 2\n",
            "El valor máximo del área es: 166243\n"
          ]
        }
      ]
    },
    {
      "cell_type": "code",
      "source": [
        "# Encontrar el índice del valor mínimo y máximo del área\n",
        "indice_min = inmuebles['Area'].idxmin()\n",
        "indice_max = inmuebles['Area'].idxmax()\n",
        "\n",
        "# Obtener el barrio correspondiente al valor mínimo y máximo del área\n",
        "barrio_min = inmuebles.loc[indice_min, 'Barrio']\n",
        "barrio_max = inmuebles.loc[indice_max, 'Barrio']\n",
        "\n",
        "# Imprimir los barrios correspondientes al valor mínimo y máximo del área\n",
        "print(\"El valor mínimo: \",minimo,\" del área corresponde al barrio:\", barrio_min)\n",
        "print(\"El valor máximo: \",maximo,\" del área corresponde al barrio:\", barrio_max)"
      ],
      "metadata": {
        "colab": {
          "base_uri": "https://localhost:8080/"
        },
        "id": "hH3CQeo088JB",
        "outputId": "05b96e61-7682-43a7-fa69-df36aac407d9"
      },
      "execution_count": 37,
      "outputs": [
        {
          "output_type": "stream",
          "name": "stdout",
          "text": [
            "El valor mínimo:  2  del área corresponde al barrio: San Cristobal\n",
            "El valor máximo:  166243  del área corresponde al barrio: Modelia\n"
          ]
        }
      ]
    },
    {
      "cell_type": "markdown",
      "source": [
        "**INMERSIÓN DATOS - CLASE 02 - TRATAMIENTO DE DATOS Y PRIMEROS GRÁFICOS**\n",
        "\n",
        "Segunda clase de la Inmersión Datos con Python.\n",
        "\n",
        "En esta aula avanzaremos con nuestro análisis y vamos a iniciar el tratamiento de los datos para trabajar con las primeras visualizaciones con Seaborn. Tendremos casi de todo: Estadística, visualización de datos e incluso tratamiento de strings.\n"
      ],
      "metadata": {
        "id": "v9cXW-p_T7CL"
      }
    },
    {
      "cell_type": "code",
      "source": [
        "#Tomamos una muestra de 5 filas\n",
        "inmuebles.sample(5)"
      ],
      "metadata": {
        "colab": {
          "base_uri": "https://localhost:8080/",
          "height": 206
        },
        "id": "E__RGWlJVGR5",
        "outputId": "be6261a8-d5b7-4235-f2c7-dd8dee9daf12"
      },
      "execution_count": 38,
      "outputs": [
        {
          "output_type": "execute_result",
          "data": {
            "text/plain": [
              "             Tipo                                 Descripcion  Habitaciones  \\\n",
              "673   Apartamento  Apartamento en venta en Portales Del Norte             3   \n",
              "2089  Apartamento      Apartamento en venta en Barrios Unidos             3   \n",
              "8450  Apartamento            Apartamento en venta en Cedritos             3   \n",
              "9113  Apartamento         Apartamento en venta en Bella Suiza             3   \n",
              "2007  Apartamento            Apartamento en venta en Cedritos             1   \n",
              "\n",
              "      Banos  Area              Barrio                                    UPZ  \\\n",
              "673       2    70  Portales Del Norte                               Britalia   \n",
              "2089      2    89      Barrios Unidos                              Los Andes   \n",
              "8450      2    81            Cedritos                                Usaquén   \n",
              "9113      4   145         Bella Suiza  USAQUÉN: Country Club + Santa Bárbara   \n",
              "2007      1    57            Cedritos                                Usaquén   \n",
              "\n",
              "              Valor  \n",
              "673   $ 330.000.000  \n",
              "2089  $ 500.000.000  \n",
              "8450  $ 365.000.000  \n",
              "9113  $ 920.000.000  \n",
              "2007  $ 320.000.000  "
            ],
            "text/html": [
              "\n",
              "  <div id=\"df-f9922a3d-8203-4576-b5bb-c4e5d0d9bb4f\">\n",
              "    <div class=\"colab-df-container\">\n",
              "      <div>\n",
              "<style scoped>\n",
              "    .dataframe tbody tr th:only-of-type {\n",
              "        vertical-align: middle;\n",
              "    }\n",
              "\n",
              "    .dataframe tbody tr th {\n",
              "        vertical-align: top;\n",
              "    }\n",
              "\n",
              "    .dataframe thead th {\n",
              "        text-align: right;\n",
              "    }\n",
              "</style>\n",
              "<table border=\"1\" class=\"dataframe\">\n",
              "  <thead>\n",
              "    <tr style=\"text-align: right;\">\n",
              "      <th></th>\n",
              "      <th>Tipo</th>\n",
              "      <th>Descripcion</th>\n",
              "      <th>Habitaciones</th>\n",
              "      <th>Banos</th>\n",
              "      <th>Area</th>\n",
              "      <th>Barrio</th>\n",
              "      <th>UPZ</th>\n",
              "      <th>Valor</th>\n",
              "    </tr>\n",
              "  </thead>\n",
              "  <tbody>\n",
              "    <tr>\n",
              "      <th>673</th>\n",
              "      <td>Apartamento</td>\n",
              "      <td>Apartamento en venta en Portales Del Norte</td>\n",
              "      <td>3</td>\n",
              "      <td>2</td>\n",
              "      <td>70</td>\n",
              "      <td>Portales Del Norte</td>\n",
              "      <td>Britalia</td>\n",
              "      <td>$ 330.000.000</td>\n",
              "    </tr>\n",
              "    <tr>\n",
              "      <th>2089</th>\n",
              "      <td>Apartamento</td>\n",
              "      <td>Apartamento en venta en Barrios Unidos</td>\n",
              "      <td>3</td>\n",
              "      <td>2</td>\n",
              "      <td>89</td>\n",
              "      <td>Barrios Unidos</td>\n",
              "      <td>Los Andes</td>\n",
              "      <td>$ 500.000.000</td>\n",
              "    </tr>\n",
              "    <tr>\n",
              "      <th>8450</th>\n",
              "      <td>Apartamento</td>\n",
              "      <td>Apartamento en venta en Cedritos</td>\n",
              "      <td>3</td>\n",
              "      <td>2</td>\n",
              "      <td>81</td>\n",
              "      <td>Cedritos</td>\n",
              "      <td>Usaquén</td>\n",
              "      <td>$ 365.000.000</td>\n",
              "    </tr>\n",
              "    <tr>\n",
              "      <th>9113</th>\n",
              "      <td>Apartamento</td>\n",
              "      <td>Apartamento en venta en Bella Suiza</td>\n",
              "      <td>3</td>\n",
              "      <td>4</td>\n",
              "      <td>145</td>\n",
              "      <td>Bella Suiza</td>\n",
              "      <td>USAQUÉN: Country Club + Santa Bárbara</td>\n",
              "      <td>$ 920.000.000</td>\n",
              "    </tr>\n",
              "    <tr>\n",
              "      <th>2007</th>\n",
              "      <td>Apartamento</td>\n",
              "      <td>Apartamento en venta en Cedritos</td>\n",
              "      <td>1</td>\n",
              "      <td>1</td>\n",
              "      <td>57</td>\n",
              "      <td>Cedritos</td>\n",
              "      <td>Usaquén</td>\n",
              "      <td>$ 320.000.000</td>\n",
              "    </tr>\n",
              "  </tbody>\n",
              "</table>\n",
              "</div>\n",
              "      <button class=\"colab-df-convert\" onclick=\"convertToInteractive('df-f9922a3d-8203-4576-b5bb-c4e5d0d9bb4f')\"\n",
              "              title=\"Convert this dataframe to an interactive table.\"\n",
              "              style=\"display:none;\">\n",
              "        \n",
              "  <svg xmlns=\"http://www.w3.org/2000/svg\" height=\"24px\"viewBox=\"0 0 24 24\"\n",
              "       width=\"24px\">\n",
              "    <path d=\"M0 0h24v24H0V0z\" fill=\"none\"/>\n",
              "    <path d=\"M18.56 5.44l.94 2.06.94-2.06 2.06-.94-2.06-.94-.94-2.06-.94 2.06-2.06.94zm-11 1L8.5 8.5l.94-2.06 2.06-.94-2.06-.94L8.5 2.5l-.94 2.06-2.06.94zm10 10l.94 2.06.94-2.06 2.06-.94-2.06-.94-.94-2.06-.94 2.06-2.06.94z\"/><path d=\"M17.41 7.96l-1.37-1.37c-.4-.4-.92-.59-1.43-.59-.52 0-1.04.2-1.43.59L10.3 9.45l-7.72 7.72c-.78.78-.78 2.05 0 2.83L4 21.41c.39.39.9.59 1.41.59.51 0 1.02-.2 1.41-.59l7.78-7.78 2.81-2.81c.8-.78.8-2.07 0-2.86zM5.41 20L4 18.59l7.72-7.72 1.47 1.35L5.41 20z\"/>\n",
              "  </svg>\n",
              "      </button>\n",
              "      \n",
              "  <style>\n",
              "    .colab-df-container {\n",
              "      display:flex;\n",
              "      flex-wrap:wrap;\n",
              "      gap: 12px;\n",
              "    }\n",
              "\n",
              "    .colab-df-convert {\n",
              "      background-color: #E8F0FE;\n",
              "      border: none;\n",
              "      border-radius: 50%;\n",
              "      cursor: pointer;\n",
              "      display: none;\n",
              "      fill: #1967D2;\n",
              "      height: 32px;\n",
              "      padding: 0 0 0 0;\n",
              "      width: 32px;\n",
              "    }\n",
              "\n",
              "    .colab-df-convert:hover {\n",
              "      background-color: #E2EBFA;\n",
              "      box-shadow: 0px 1px 2px rgba(60, 64, 67, 0.3), 0px 1px 3px 1px rgba(60, 64, 67, 0.15);\n",
              "      fill: #174EA6;\n",
              "    }\n",
              "\n",
              "    [theme=dark] .colab-df-convert {\n",
              "      background-color: #3B4455;\n",
              "      fill: #D2E3FC;\n",
              "    }\n",
              "\n",
              "    [theme=dark] .colab-df-convert:hover {\n",
              "      background-color: #434B5C;\n",
              "      box-shadow: 0px 1px 3px 1px rgba(0, 0, 0, 0.15);\n",
              "      filter: drop-shadow(0px 1px 2px rgba(0, 0, 0, 0.3));\n",
              "      fill: #FFFFFF;\n",
              "    }\n",
              "  </style>\n",
              "\n",
              "      <script>\n",
              "        const buttonEl =\n",
              "          document.querySelector('#df-f9922a3d-8203-4576-b5bb-c4e5d0d9bb4f button.colab-df-convert');\n",
              "        buttonEl.style.display =\n",
              "          google.colab.kernel.accessAllowed ? 'block' : 'none';\n",
              "\n",
              "        async function convertToInteractive(key) {\n",
              "          const element = document.querySelector('#df-f9922a3d-8203-4576-b5bb-c4e5d0d9bb4f');\n",
              "          const dataTable =\n",
              "            await google.colab.kernel.invokeFunction('convertToInteractive',\n",
              "                                                     [key], {});\n",
              "          if (!dataTable) return;\n",
              "\n",
              "          const docLinkHtml = 'Like what you see? Visit the ' +\n",
              "            '<a target=\"_blank\" href=https://colab.research.google.com/notebooks/data_table.ipynb>data table notebook</a>'\n",
              "            + ' to learn more about interactive tables.';\n",
              "          element.innerHTML = '';\n",
              "          dataTable['output_type'] = 'display_data';\n",
              "          await google.colab.output.renderOutput(dataTable, element);\n",
              "          const docLink = document.createElement('div');\n",
              "          docLink.innerHTML = docLinkHtml;\n",
              "          element.appendChild(docLink);\n",
              "        }\n",
              "      </script>\n",
              "    </div>\n",
              "  </div>\n",
              "  "
            ]
          },
          "metadata": {},
          "execution_count": 38
        }
      ]
    },
    {
      "cell_type": "code",
      "source": [
        "#Ver el tipo de datos que ya en cada columna\n",
        "inmuebles.info()\n",
        "#Existen 3 columnas de tipo entero y 5 columnas de tipo objeto (string)"
      ],
      "metadata": {
        "colab": {
          "base_uri": "https://localhost:8080/"
        },
        "id": "1BxMmEMHWGOY",
        "outputId": "0ba19c47-18af-41e9-e09f-eacc9727d54a"
      },
      "execution_count": 39,
      "outputs": [
        {
          "output_type": "stream",
          "name": "stdout",
          "text": [
            "<class 'pandas.core.frame.DataFrame'>\n",
            "RangeIndex: 9520 entries, 0 to 9519\n",
            "Data columns (total 8 columns):\n",
            " #   Column        Non-Null Count  Dtype \n",
            "---  ------        --------------  ----- \n",
            " 0   Tipo          9520 non-null   object\n",
            " 1   Descripcion   9520 non-null   object\n",
            " 2   Habitaciones  9520 non-null   int64 \n",
            " 3   Banos         9520 non-null   int64 \n",
            " 4   Area          9520 non-null   int64 \n",
            " 5   Barrio        9520 non-null   object\n",
            " 6   UPZ           9478 non-null   object\n",
            " 7   Valor         9520 non-null   object\n",
            "dtypes: int64(3), object(5)\n",
            "memory usage: 595.1+ KB\n"
          ]
        }
      ]
    },
    {
      "cell_type": "code",
      "source": [
        "#Determinar el valor de Valor[0] que al parecer es un numero entero\n",
        "inmuebles.Valor[0]"
      ],
      "metadata": {
        "colab": {
          "base_uri": "https://localhost:8080/",
          "height": 35
        },
        "id": "xjPRyLDbXNKB",
        "outputId": "c2bba7a7-15ba-4371-c78b-49c5a5d11a83"
      },
      "execution_count": 40,
      "outputs": [
        {
          "output_type": "execute_result",
          "data": {
            "text/plain": [
              "'$ 360.000.000'"
            ],
            "application/vnd.google.colaboratory.intrinsic+json": {
              "type": "string"
            }
          },
          "metadata": {},
          "execution_count": 40
        }
      ]
    },
    {
      "cell_type": "code",
      "source": [
        "#Determinar el tipo de dato de Valor[0] que al parecer es entero\n",
        "\n",
        "type(inmuebles.Valor[0])"
      ],
      "metadata": {
        "colab": {
          "base_uri": "https://localhost:8080/"
        },
        "id": "Ly0-jQk5YTgm",
        "outputId": "56eac2f0-5859-415f-9329-30d4d70d1a8e"
      },
      "execution_count": 41,
      "outputs": [
        {
          "output_type": "execute_result",
          "data": {
            "text/plain": [
              "str"
            ]
          },
          "metadata": {},
          "execution_count": 41
        }
      ]
    },
    {
      "cell_type": "code",
      "source": [
        "#Intentando sumar Valor[0] y Valor[1] como si fuesen numeros\n",
        "inmuebles.Valor[0] + inmuebles.Valor[1]"
      ],
      "metadata": {
        "colab": {
          "base_uri": "https://localhost:8080/",
          "height": 35
        },
        "id": "sFcnODpQYWz4",
        "outputId": "c74966c8-e151-426c-f6e9-75d9524d5acb"
      },
      "execution_count": 42,
      "outputs": [
        {
          "output_type": "execute_result",
          "data": {
            "text/plain": [
              "'$ 360.000.000$ 670.000.000'"
            ],
            "application/vnd.google.colaboratory.intrinsic+json": {
              "type": "string"
            }
          },
          "metadata": {},
          "execution_count": 42
        }
      ]
    },
    {
      "cell_type": "code",
      "source": [
        "inmuebles.Valor[0] + inmuebles.Valor[1] + inmuebles.Valor[:5] "
      ],
      "metadata": {
        "colab": {
          "base_uri": "https://localhost:8080/"
        },
        "id": "6Z9Ea57CZVi_",
        "outputId": "6b8fda39-134f-47e9-e031-5f3ead8b17e1"
      },
      "execution_count": 43,
      "outputs": [
        {
          "output_type": "execute_result",
          "data": {
            "text/plain": [
              "0      $ 360.000.000$ 670.000.000$ 360.000.000\n",
              "1      $ 360.000.000$ 670.000.000$ 670.000.000\n",
              "2    $ 360.000.000$ 670.000.000$ 1.120.000.000\n",
              "3      $ 360.000.000$ 670.000.000$ 890.000.000\n",
              "4      $ 360.000.000$ 670.000.000$ 970.000.000\n",
              "Name: Valor, dtype: object"
            ]
          },
          "metadata": {},
          "execution_count": 43
        }
      ]
    },
    {
      "cell_type": "markdown",
      "source": [
        "**Aplicando funciones de String**"
      ],
      "metadata": {
        "id": "AS3AwnjTZmwl"
      }
    },
    {
      "cell_type": "code",
      "source": [
        "#Split separa una cadena de texto en funcion de algun parametro dado, por default toma el espacio en blanco.Devuelve una lista\n",
        "inmuebles.Valor[0].split()"
      ],
      "metadata": {
        "colab": {
          "base_uri": "https://localhost:8080/"
        },
        "id": "FZ4xSs1YZkjl",
        "outputId": "c654d697-1488-43f7-ed90-b41ed9d28c5c"
      },
      "execution_count": 44,
      "outputs": [
        {
          "output_type": "execute_result",
          "data": {
            "text/plain": [
              "['$', '360.000.000']"
            ]
          },
          "metadata": {},
          "execution_count": 44
        }
      ]
    },
    {
      "cell_type": "code",
      "source": [
        "type(inmuebles.Valor[0].split())"
      ],
      "metadata": {
        "colab": {
          "base_uri": "https://localhost:8080/"
        },
        "id": "ZF0qOGznaPeM",
        "outputId": "06ad10ea-de32-447c-ff9f-5cface5ec26d"
      },
      "execution_count": 45,
      "outputs": [
        {
          "output_type": "execute_result",
          "data": {
            "text/plain": [
              "list"
            ]
          },
          "metadata": {},
          "execution_count": 45
        }
      ]
    },
    {
      "cell_type": "code",
      "source": [
        "#Aplicando a toda la columna, convirtiendo primero todo en str para poderle aplicar split()\n",
        "inmuebles.Valor.str.split()"
      ],
      "metadata": {
        "colab": {
          "base_uri": "https://localhost:8080/"
        },
        "id": "P1vC1DLEaZIV",
        "outputId": "ae94be35-99ef-4005-8acd-9ef9bd401643"
      },
      "execution_count": 46,
      "outputs": [
        {
          "output_type": "execute_result",
          "data": {
            "text/plain": [
              "0         [$, 360.000.000]\n",
              "1         [$, 670.000.000]\n",
              "2       [$, 1.120.000.000]\n",
              "3         [$, 890.000.000]\n",
              "4         [$, 970.000.000]\n",
              "               ...        \n",
              "9515      [$, 290.000.000]\n",
              "9516      [$, 670.000.000]\n",
              "9517      [$, 900.000.000]\n",
              "9518      [$, 335.000.000]\n",
              "9519      [$, 144.990.000]\n",
              "Name: Valor, Length: 9520, dtype: object"
            ]
          },
          "metadata": {},
          "execution_count": 46
        }
      ]
    },
    {
      "cell_type": "code",
      "source": [
        "type(inmuebles.Valor.str.split())"
      ],
      "metadata": {
        "colab": {
          "base_uri": "https://localhost:8080/"
        },
        "id": "9UCXYUoCa7Dh",
        "outputId": "cad901d3-003e-4ca6-fec6-3440791cca81"
      },
      "execution_count": 47,
      "outputs": [
        {
          "output_type": "execute_result",
          "data": {
            "text/plain": [
              "pandas.core.series.Series"
            ]
          },
          "metadata": {},
          "execution_count": 47
        }
      ]
    },
    {
      "cell_type": "code",
      "source": [
        "#Convertir en formato de Dataframe\n",
        "type(inmuebles.Valor.str.split(expand=True))"
      ],
      "metadata": {
        "colab": {
          "base_uri": "https://localhost:8080/"
        },
        "id": "h2Ht3VatbGWs",
        "outputId": "bff2ebb8-e1f8-4ff1-8483-f6d4bbf630db"
      },
      "execution_count": 48,
      "outputs": [
        {
          "output_type": "execute_result",
          "data": {
            "text/plain": [
              "pandas.core.frame.DataFrame"
            ]
          },
          "metadata": {},
          "execution_count": 48
        }
      ]
    },
    {
      "cell_type": "code",
      "source": [
        "inmuebles.Valor.str.split(expand=True)"
      ],
      "metadata": {
        "colab": {
          "base_uri": "https://localhost:8080/",
          "height": 424
        },
        "id": "2M-jGYckbXQi",
        "outputId": "8f0f866d-fc85-4235-951b-ba08cb6be2fa"
      },
      "execution_count": 49,
      "outputs": [
        {
          "output_type": "execute_result",
          "data": {
            "text/plain": [
              "      0              1\n",
              "0     $    360.000.000\n",
              "1     $    670.000.000\n",
              "2     $  1.120.000.000\n",
              "3     $    890.000.000\n",
              "4     $    970.000.000\n",
              "...  ..            ...\n",
              "9515  $    290.000.000\n",
              "9516  $    670.000.000\n",
              "9517  $    900.000.000\n",
              "9518  $    335.000.000\n",
              "9519  $    144.990.000\n",
              "\n",
              "[9520 rows x 2 columns]"
            ],
            "text/html": [
              "\n",
              "  <div id=\"df-1d3c32c3-726f-4a82-ba91-7cd2a28506de\">\n",
              "    <div class=\"colab-df-container\">\n",
              "      <div>\n",
              "<style scoped>\n",
              "    .dataframe tbody tr th:only-of-type {\n",
              "        vertical-align: middle;\n",
              "    }\n",
              "\n",
              "    .dataframe tbody tr th {\n",
              "        vertical-align: top;\n",
              "    }\n",
              "\n",
              "    .dataframe thead th {\n",
              "        text-align: right;\n",
              "    }\n",
              "</style>\n",
              "<table border=\"1\" class=\"dataframe\">\n",
              "  <thead>\n",
              "    <tr style=\"text-align: right;\">\n",
              "      <th></th>\n",
              "      <th>0</th>\n",
              "      <th>1</th>\n",
              "    </tr>\n",
              "  </thead>\n",
              "  <tbody>\n",
              "    <tr>\n",
              "      <th>0</th>\n",
              "      <td>$</td>\n",
              "      <td>360.000.000</td>\n",
              "    </tr>\n",
              "    <tr>\n",
              "      <th>1</th>\n",
              "      <td>$</td>\n",
              "      <td>670.000.000</td>\n",
              "    </tr>\n",
              "    <tr>\n",
              "      <th>2</th>\n",
              "      <td>$</td>\n",
              "      <td>1.120.000.000</td>\n",
              "    </tr>\n",
              "    <tr>\n",
              "      <th>3</th>\n",
              "      <td>$</td>\n",
              "      <td>890.000.000</td>\n",
              "    </tr>\n",
              "    <tr>\n",
              "      <th>4</th>\n",
              "      <td>$</td>\n",
              "      <td>970.000.000</td>\n",
              "    </tr>\n",
              "    <tr>\n",
              "      <th>...</th>\n",
              "      <td>...</td>\n",
              "      <td>...</td>\n",
              "    </tr>\n",
              "    <tr>\n",
              "      <th>9515</th>\n",
              "      <td>$</td>\n",
              "      <td>290.000.000</td>\n",
              "    </tr>\n",
              "    <tr>\n",
              "      <th>9516</th>\n",
              "      <td>$</td>\n",
              "      <td>670.000.000</td>\n",
              "    </tr>\n",
              "    <tr>\n",
              "      <th>9517</th>\n",
              "      <td>$</td>\n",
              "      <td>900.000.000</td>\n",
              "    </tr>\n",
              "    <tr>\n",
              "      <th>9518</th>\n",
              "      <td>$</td>\n",
              "      <td>335.000.000</td>\n",
              "    </tr>\n",
              "    <tr>\n",
              "      <th>9519</th>\n",
              "      <td>$</td>\n",
              "      <td>144.990.000</td>\n",
              "    </tr>\n",
              "  </tbody>\n",
              "</table>\n",
              "<p>9520 rows × 2 columns</p>\n",
              "</div>\n",
              "      <button class=\"colab-df-convert\" onclick=\"convertToInteractive('df-1d3c32c3-726f-4a82-ba91-7cd2a28506de')\"\n",
              "              title=\"Convert this dataframe to an interactive table.\"\n",
              "              style=\"display:none;\">\n",
              "        \n",
              "  <svg xmlns=\"http://www.w3.org/2000/svg\" height=\"24px\"viewBox=\"0 0 24 24\"\n",
              "       width=\"24px\">\n",
              "    <path d=\"M0 0h24v24H0V0z\" fill=\"none\"/>\n",
              "    <path d=\"M18.56 5.44l.94 2.06.94-2.06 2.06-.94-2.06-.94-.94-2.06-.94 2.06-2.06.94zm-11 1L8.5 8.5l.94-2.06 2.06-.94-2.06-.94L8.5 2.5l-.94 2.06-2.06.94zm10 10l.94 2.06.94-2.06 2.06-.94-2.06-.94-.94-2.06-.94 2.06-2.06.94z\"/><path d=\"M17.41 7.96l-1.37-1.37c-.4-.4-.92-.59-1.43-.59-.52 0-1.04.2-1.43.59L10.3 9.45l-7.72 7.72c-.78.78-.78 2.05 0 2.83L4 21.41c.39.39.9.59 1.41.59.51 0 1.02-.2 1.41-.59l7.78-7.78 2.81-2.81c.8-.78.8-2.07 0-2.86zM5.41 20L4 18.59l7.72-7.72 1.47 1.35L5.41 20z\"/>\n",
              "  </svg>\n",
              "      </button>\n",
              "      \n",
              "  <style>\n",
              "    .colab-df-container {\n",
              "      display:flex;\n",
              "      flex-wrap:wrap;\n",
              "      gap: 12px;\n",
              "    }\n",
              "\n",
              "    .colab-df-convert {\n",
              "      background-color: #E8F0FE;\n",
              "      border: none;\n",
              "      border-radius: 50%;\n",
              "      cursor: pointer;\n",
              "      display: none;\n",
              "      fill: #1967D2;\n",
              "      height: 32px;\n",
              "      padding: 0 0 0 0;\n",
              "      width: 32px;\n",
              "    }\n",
              "\n",
              "    .colab-df-convert:hover {\n",
              "      background-color: #E2EBFA;\n",
              "      box-shadow: 0px 1px 2px rgba(60, 64, 67, 0.3), 0px 1px 3px 1px rgba(60, 64, 67, 0.15);\n",
              "      fill: #174EA6;\n",
              "    }\n",
              "\n",
              "    [theme=dark] .colab-df-convert {\n",
              "      background-color: #3B4455;\n",
              "      fill: #D2E3FC;\n",
              "    }\n",
              "\n",
              "    [theme=dark] .colab-df-convert:hover {\n",
              "      background-color: #434B5C;\n",
              "      box-shadow: 0px 1px 3px 1px rgba(0, 0, 0, 0.15);\n",
              "      filter: drop-shadow(0px 1px 2px rgba(0, 0, 0, 0.3));\n",
              "      fill: #FFFFFF;\n",
              "    }\n",
              "  </style>\n",
              "\n",
              "      <script>\n",
              "        const buttonEl =\n",
              "          document.querySelector('#df-1d3c32c3-726f-4a82-ba91-7cd2a28506de button.colab-df-convert');\n",
              "        buttonEl.style.display =\n",
              "          google.colab.kernel.accessAllowed ? 'block' : 'none';\n",
              "\n",
              "        async function convertToInteractive(key) {\n",
              "          const element = document.querySelector('#df-1d3c32c3-726f-4a82-ba91-7cd2a28506de');\n",
              "          const dataTable =\n",
              "            await google.colab.kernel.invokeFunction('convertToInteractive',\n",
              "                                                     [key], {});\n",
              "          if (!dataTable) return;\n",
              "\n",
              "          const docLinkHtml = 'Like what you see? Visit the ' +\n",
              "            '<a target=\"_blank\" href=https://colab.research.google.com/notebooks/data_table.ipynb>data table notebook</a>'\n",
              "            + ' to learn more about interactive tables.';\n",
              "          element.innerHTML = '';\n",
              "          dataTable['output_type'] = 'display_data';\n",
              "          await google.colab.output.renderOutput(dataTable, element);\n",
              "          const docLink = document.createElement('div');\n",
              "          docLink.innerHTML = docLinkHtml;\n",
              "          element.appendChild(docLink);\n",
              "        }\n",
              "      </script>\n",
              "    </div>\n",
              "  </div>\n",
              "  "
            ]
          },
          "metadata": {},
          "execution_count": 49
        }
      ]
    },
    {
      "cell_type": "code",
      "source": [
        "valor = inmuebles.Valor.str.split(expand=True)\n",
        "inmuebles['Moneda'] = valor[0]\n",
        "inmuebles['Precio'] = valor[1]\n",
        "\n",
        "inmuebles.sample(3)"
      ],
      "metadata": {
        "colab": {
          "base_uri": "https://localhost:8080/",
          "height": 240
        },
        "id": "aGx_EeHYbtkU",
        "outputId": "5128839f-d275-424f-a2fa-f277b4407e1e"
      },
      "execution_count": 50,
      "outputs": [
        {
          "output_type": "execute_result",
          "data": {
            "text/plain": [
              "             Tipo                                 Descripcion  Habitaciones  \\\n",
              "7984         Casa                    Casa en venta en Kennedy             8   \n",
              "7327  Apartamento  Apartamento en venta en Zona Noroccidental             3   \n",
              "7421  Apartamento  Apartamento en venta en Zona Noroccidental             3   \n",
              "\n",
              "      Banos  Area              Barrio                                 UPZ  \\\n",
              "7984      8   320             Kennedy                     Kennedy Central   \n",
              "7327      1    52  Zona Noroccidental  CHAPINERO: Pardo Rubio + Chapinero   \n",
              "7421      2    80  Zona Noroccidental  CHAPINERO: Pardo Rubio + Chapinero   \n",
              "\n",
              "                Valor Moneda         Precio  \n",
              "7984  $ 1.400.000.000      $  1.400.000.000  \n",
              "7327    $ 162.000.000      $    162.000.000  \n",
              "7421    $ 250.000.000      $    250.000.000  "
            ],
            "text/html": [
              "\n",
              "  <div id=\"df-912c8a2f-593b-4586-a907-6265d2103679\">\n",
              "    <div class=\"colab-df-container\">\n",
              "      <div>\n",
              "<style scoped>\n",
              "    .dataframe tbody tr th:only-of-type {\n",
              "        vertical-align: middle;\n",
              "    }\n",
              "\n",
              "    .dataframe tbody tr th {\n",
              "        vertical-align: top;\n",
              "    }\n",
              "\n",
              "    .dataframe thead th {\n",
              "        text-align: right;\n",
              "    }\n",
              "</style>\n",
              "<table border=\"1\" class=\"dataframe\">\n",
              "  <thead>\n",
              "    <tr style=\"text-align: right;\">\n",
              "      <th></th>\n",
              "      <th>Tipo</th>\n",
              "      <th>Descripcion</th>\n",
              "      <th>Habitaciones</th>\n",
              "      <th>Banos</th>\n",
              "      <th>Area</th>\n",
              "      <th>Barrio</th>\n",
              "      <th>UPZ</th>\n",
              "      <th>Valor</th>\n",
              "      <th>Moneda</th>\n",
              "      <th>Precio</th>\n",
              "    </tr>\n",
              "  </thead>\n",
              "  <tbody>\n",
              "    <tr>\n",
              "      <th>7984</th>\n",
              "      <td>Casa</td>\n",
              "      <td>Casa en venta en Kennedy</td>\n",
              "      <td>8</td>\n",
              "      <td>8</td>\n",
              "      <td>320</td>\n",
              "      <td>Kennedy</td>\n",
              "      <td>Kennedy Central</td>\n",
              "      <td>$ 1.400.000.000</td>\n",
              "      <td>$</td>\n",
              "      <td>1.400.000.000</td>\n",
              "    </tr>\n",
              "    <tr>\n",
              "      <th>7327</th>\n",
              "      <td>Apartamento</td>\n",
              "      <td>Apartamento en venta en Zona Noroccidental</td>\n",
              "      <td>3</td>\n",
              "      <td>1</td>\n",
              "      <td>52</td>\n",
              "      <td>Zona Noroccidental</td>\n",
              "      <td>CHAPINERO: Pardo Rubio + Chapinero</td>\n",
              "      <td>$ 162.000.000</td>\n",
              "      <td>$</td>\n",
              "      <td>162.000.000</td>\n",
              "    </tr>\n",
              "    <tr>\n",
              "      <th>7421</th>\n",
              "      <td>Apartamento</td>\n",
              "      <td>Apartamento en venta en Zona Noroccidental</td>\n",
              "      <td>3</td>\n",
              "      <td>2</td>\n",
              "      <td>80</td>\n",
              "      <td>Zona Noroccidental</td>\n",
              "      <td>CHAPINERO: Pardo Rubio + Chapinero</td>\n",
              "      <td>$ 250.000.000</td>\n",
              "      <td>$</td>\n",
              "      <td>250.000.000</td>\n",
              "    </tr>\n",
              "  </tbody>\n",
              "</table>\n",
              "</div>\n",
              "      <button class=\"colab-df-convert\" onclick=\"convertToInteractive('df-912c8a2f-593b-4586-a907-6265d2103679')\"\n",
              "              title=\"Convert this dataframe to an interactive table.\"\n",
              "              style=\"display:none;\">\n",
              "        \n",
              "  <svg xmlns=\"http://www.w3.org/2000/svg\" height=\"24px\"viewBox=\"0 0 24 24\"\n",
              "       width=\"24px\">\n",
              "    <path d=\"M0 0h24v24H0V0z\" fill=\"none\"/>\n",
              "    <path d=\"M18.56 5.44l.94 2.06.94-2.06 2.06-.94-2.06-.94-.94-2.06-.94 2.06-2.06.94zm-11 1L8.5 8.5l.94-2.06 2.06-.94-2.06-.94L8.5 2.5l-.94 2.06-2.06.94zm10 10l.94 2.06.94-2.06 2.06-.94-2.06-.94-.94-2.06-.94 2.06-2.06.94z\"/><path d=\"M17.41 7.96l-1.37-1.37c-.4-.4-.92-.59-1.43-.59-.52 0-1.04.2-1.43.59L10.3 9.45l-7.72 7.72c-.78.78-.78 2.05 0 2.83L4 21.41c.39.39.9.59 1.41.59.51 0 1.02-.2 1.41-.59l7.78-7.78 2.81-2.81c.8-.78.8-2.07 0-2.86zM5.41 20L4 18.59l7.72-7.72 1.47 1.35L5.41 20z\"/>\n",
              "  </svg>\n",
              "      </button>\n",
              "      \n",
              "  <style>\n",
              "    .colab-df-container {\n",
              "      display:flex;\n",
              "      flex-wrap:wrap;\n",
              "      gap: 12px;\n",
              "    }\n",
              "\n",
              "    .colab-df-convert {\n",
              "      background-color: #E8F0FE;\n",
              "      border: none;\n",
              "      border-radius: 50%;\n",
              "      cursor: pointer;\n",
              "      display: none;\n",
              "      fill: #1967D2;\n",
              "      height: 32px;\n",
              "      padding: 0 0 0 0;\n",
              "      width: 32px;\n",
              "    }\n",
              "\n",
              "    .colab-df-convert:hover {\n",
              "      background-color: #E2EBFA;\n",
              "      box-shadow: 0px 1px 2px rgba(60, 64, 67, 0.3), 0px 1px 3px 1px rgba(60, 64, 67, 0.15);\n",
              "      fill: #174EA6;\n",
              "    }\n",
              "\n",
              "    [theme=dark] .colab-df-convert {\n",
              "      background-color: #3B4455;\n",
              "      fill: #D2E3FC;\n",
              "    }\n",
              "\n",
              "    [theme=dark] .colab-df-convert:hover {\n",
              "      background-color: #434B5C;\n",
              "      box-shadow: 0px 1px 3px 1px rgba(0, 0, 0, 0.15);\n",
              "      filter: drop-shadow(0px 1px 2px rgba(0, 0, 0, 0.3));\n",
              "      fill: #FFFFFF;\n",
              "    }\n",
              "  </style>\n",
              "\n",
              "      <script>\n",
              "        const buttonEl =\n",
              "          document.querySelector('#df-912c8a2f-593b-4586-a907-6265d2103679 button.colab-df-convert');\n",
              "        buttonEl.style.display =\n",
              "          google.colab.kernel.accessAllowed ? 'block' : 'none';\n",
              "\n",
              "        async function convertToInteractive(key) {\n",
              "          const element = document.querySelector('#df-912c8a2f-593b-4586-a907-6265d2103679');\n",
              "          const dataTable =\n",
              "            await google.colab.kernel.invokeFunction('convertToInteractive',\n",
              "                                                     [key], {});\n",
              "          if (!dataTable) return;\n",
              "\n",
              "          const docLinkHtml = 'Like what you see? Visit the ' +\n",
              "            '<a target=\"_blank\" href=https://colab.research.google.com/notebooks/data_table.ipynb>data table notebook</a>'\n",
              "            + ' to learn more about interactive tables.';\n",
              "          element.innerHTML = '';\n",
              "          dataTable['output_type'] = 'display_data';\n",
              "          await google.colab.output.renderOutput(dataTable, element);\n",
              "          const docLink = document.createElement('div');\n",
              "          docLink.innerHTML = docLinkHtml;\n",
              "          element.appendChild(docLink);\n",
              "        }\n",
              "      </script>\n",
              "    </div>\n",
              "  </div>\n",
              "  "
            ]
          },
          "metadata": {},
          "execution_count": 50
        }
      ]
    },
    {
      "cell_type": "code",
      "source": [
        "inmuebles.info()"
      ],
      "metadata": {
        "colab": {
          "base_uri": "https://localhost:8080/"
        },
        "id": "pltBuGh-22MV",
        "outputId": "09cb7410-5e48-479d-89cc-b3d742f9c853"
      },
      "execution_count": 51,
      "outputs": [
        {
          "output_type": "stream",
          "name": "stdout",
          "text": [
            "<class 'pandas.core.frame.DataFrame'>\n",
            "RangeIndex: 9520 entries, 0 to 9519\n",
            "Data columns (total 10 columns):\n",
            " #   Column        Non-Null Count  Dtype \n",
            "---  ------        --------------  ----- \n",
            " 0   Tipo          9520 non-null   object\n",
            " 1   Descripcion   9520 non-null   object\n",
            " 2   Habitaciones  9520 non-null   int64 \n",
            " 3   Banos         9520 non-null   int64 \n",
            " 4   Area          9520 non-null   int64 \n",
            " 5   Barrio        9520 non-null   object\n",
            " 6   UPZ           9478 non-null   object\n",
            " 7   Valor         9520 non-null   object\n",
            " 8   Moneda        9520 non-null   object\n",
            " 9   Precio        9520 non-null   object\n",
            "dtypes: int64(3), object(7)\n",
            "memory usage: 743.9+ KB\n"
          ]
        }
      ]
    },
    {
      "cell_type": "code",
      "source": [
        "#La columna precio todavia tiene formato de string\n",
        "inmuebles['Precio'].sum()"
      ],
      "metadata": {
        "colab": {
          "base_uri": "https://localhost:8080/",
          "height": 140
        },
        "id": "6rYimBVd26M4",
        "outputId": "a997eaff-211c-484f-9a00-1acc4684cb4a"
      },
      "execution_count": 52,
      "outputs": [
        {
          "output_type": "execute_result",
          "data": {
            "text/plain": [
              "'360.000.000670.000.0001.120.000.000890.000.000970.000.000510.000.000500.000.0002.350.000.000850.000.000642.000.000652.000.000168.000.000205.000.000300.000.000680.000.0002.519.000.000420.000.000620.000.000239.000.0001.600.000.000420.000.000625.000.0002.799.000.0001.450.000.0002.000.000.000670.000.0001.800.000.000469.000.000580.000.000445.000.000261.500.000278.000.000258.000.000520.000.000200.000.000129.000.000350.000.000290.500.000750.000.000495.000.000285.000.000900.000.0001.800.000.000990.000.000418.000.000349.000.000565.000.000370.000.000259.000.000310.000.000354.000.000372.000.000500.000.000420.000.0001.050.000.000185.000.000349.000.000515.000.000287.000.000265.000.000500.000.000261.500.000300.000.000278.000.000258.000.000520.000.000350.000.000290.500.000129.000.000200.000.000750.000.000418.000.000495.000.000349.000.000310.000.000565.000.000370.000.000259.000.000354.000.000285.000.000420.000.000372.000.000500.000.000185.000.0001.050.000.000349.000.0001.800.000.000900.000.000990.000.000225.000.000148.000.000331.500.000300.000.0001.030.000.000195.000.000200.000.000168.000.000323.000.000275.000.000510.000.000176.000.000680.000.000680.000.000217.000.0001.050.000.000375.000.000458.000.0002.000.000.000425.000.000318.000.000660.000.000730.000.000140.000.000343.000.000385.000.0001.300.000.0001.195.000.000519.000.000350.000.000202.000.000429.000.000640.000.000435.000.000610.000.000650.000.000421.000.0001.300.000.000155.000.000530.000.000330.000.000225.000.000143.000.000245.500.000433.000.000315.000.000450.000.000350.000.000205.000.0001.200.000.000169.000.000375.000.000460.000.000308.000.0001.100.000.000400.000.000860.000.0001.650.000.000565.000.000238.000.000503.000.000330.000.000400.000.0001.650.000.000580.000.000503.000.000635.000.000499.000.000371.000.000179.000.000348.200.000238.000.000173.000.000257.000.0001.100.000.000298.500.000680.000.000680.000.000217.000.0001.050.000.000375.000.000660.000.000318.000.000458.000.000425.000.0002.000.000.000343.000.000730.000.000140.000.0001.300.000.000385.000.000369.000.000366.000.000378.000.000355.000.000700.000.000990.000.000600.000.000516.000.000350.000.000475.000.000749.000.0001.195.000.000498.000.000269.000.000153.000.000335.000.000399.000.000373.000.000415.000.0001.550.000.000460.000.000225.000.000200.000.000234.000.000199.000.000450.000.0001.400.000.000202.000.000350.000.000519.000.000310.000.000355.000.000545.000.000720.000.000650.000.000343.000.000127.000.000370.000.000162.000.0001.560.000.000136.000.000265.000.000131.000.000416.000.000161.000.000900.000.000389.000.000190.000.000139.000.000319.000.000327.000.000474.500.000308.000.000720.000.000310.000.000177.500.0001.200.000.000380.000.000210.000.0001.290.000.000320.000.000445.000.000340.000.000510.000.000465.000.000220.000.000337.000.000260.000.000445.000.000290.000.000342.514.000625.000.000490.000.000350.000.000444.150.000360.000.000370.000.000150.000.000232.500.000271.000.000450.000.000163.500.000390.000.000300.000.000406.000.000465.000.000390.000.000175.000.000445.000.000422.000.000690.000.000445.000.000357.000.000465.000.000164.000.000300.000.000406.000.0001.700.000.000570.000.000460.000.000960.000.000510.000.000520.000.000142.000.000750.000.000160.000.000445.000.000570.000.000319.981.523510.000.000380.000.000134.000.000120.000.000460.000.000560.000.000351.000.0001.390.000.000422.000.000260.000.000980.000.000116.100.000980.000.000237.000.000320.000.000530.000.000503.000.000117.000.0001.300.000.000477.000.000450.000.000515.000.000730.000.000600.000.000480.000.000560.000.000308.000.000365.000.0001.200.000.000371.000.000850.000.000428.000.000421.000.000650.000.000295.000.000144.000.000280.000.000162.000.000620.000.0001.200.000.000360.000.000350.000.000650.000.000560.000.000295.000.000413.500.0001.200.000.000370.000.000600.000.000390.000.000447.500.000132.000.000180.000.000285.000.000620.000.000400.000.0001.380.000.000335.238.800820.000.000545.000.000217.000.000495.000.000330.000.000570.000.000280.000.0002.000.000.000390.000.000311.000.000164.000.000510.000.000319.000.000510.000.000303.960.000387.000.000390.000.000315.000.000245.000.000136.000.000151.000.000129.500.000150.000.000360.000.000141.000.000371.000.000272.000.000113.000.000237.000.000122.000.000243.000.000420.000.000125.000.000134.000.000177.000.000116.000.000930.000.000390.000.000490.000.000449.964.000650.000.000420.000.000600.000.000800.000.000134.000.000298.000.000315.000.000162.000.0002.570.000.000375.000.000400.000.000330.000.000447.500.000167.500.000125.000.000400.000.000310.000.000287.000.000516.000.000416.000.000144.000.000192.000.000290.000.000121.500.000413.500.000570.000.000110.000.000508.000.000124.000.000185.000.000290.000.000495.000.000750.000.000327.000.000390.000.000290.000.000310.000.000278.000.000330.000.000490.000.000249.000.000180.000.000370.000.000134.000.000450.000.000340.000.000144.000.000120.000.000131.000.000138.000.000357.000.000316.000.000162.000.000155.000.000290.000.000474.000.000295.000.000127.000.000390.000.000262.000.000117.000.0001.200.000.000990.000.000383.045.000371.000.000516.500.000750.000.000282.000.000371.000.000110.000.000144.000.000357.000.000134.000.000160.000.000850.000.000120.000.000116.000.000250.000.000111.000.000107.000.000123.000.000347.000.000400.000.000300.000.000141.000.000277.000.000420.000.000275.000.000850.000.000390.000.000445.000.000310.000.000277.000.000290.000.000347.000.000123.000.000340.000.000156.000.000395.000.000245.000.000130.000.000136.000.000476.500.000476.500.000225.000.000165.000.000451.000.000307.000.000138.000.000180.000.000620.000.000398.000.000276.000.000750.000.000245.000.000555.000.000450.000.000370.000.000162.000.000173.000.000629.000.000220.000.000390.000.000390.000.000314.000.000170.000.000200.000.000251.000.000168.000.000200.000.000340.000.000103.000.000230.000.0001.200.000.000355.000.000600.000.000378.300.0001.900.000.000160.000.000650.000.000102.000.000148.000.000500.000.000131.000.000142.000.000389.000.000522.500.000465.000.0001.250.000.000235.000.000164.000.000416.000.000318.000.000180.000.000390.000.000258.500.000205.000.000192.000.000522.500.000235.000.0001.250.000.000240.000.000320.000.000116.100.000224.000.000192.000.000250.000.000500.000.000345.000.000256.500.000323.000.000150.000.000245.000.000850.000.000127.000.000210.000.000354.000.000281.000.000200.000.000500.000.000300.000.000400.000.000330.000.000163.000.000430.000.000330.000.000320.000.000281.000.000850.000.000210.000.000127.000.000260.000.000525.000.000760.000.000387.000.000360.000.000246.000.000319.000.000190.000.000500.000.0001.400.000.000491.000.000970.000.000145.000.000420.000.000660.000.000515.000.000520.000.000770.000.000495.000.000160.000.000134.000.000489.900.000310.000.000270.000.000600.000.000261.500.000440.000.000372.000.000270.000.000880.000.000500.000.000590.000.000615.000.000131.000.000131.000.000131.000.000145.000.000125.000.000820.000.000319.000.000131.000.000142.000.000150.000.000125.000.000261.500.000248.000.000311.000.000620.000.000491.000.000460.000.000416.000.000216.000.000505.000.000492.000.000408.000.000245.000.000550.000.000177.000.000575.000.000270.000.000150.000.000270.000.000750.000.000880.000.000215.625.000176.000.000404.000.000250.000.000237.000.000340.000.000466.000.0002.900.000.000168.000.000168.000.000508.000.000160.000.000230.000.000426.000.000520.000.0003.500.000.000535.000.000373.000.000354.000.000245.000.000250.000.000500.000.000256.500.000210.000.000850.000.000525.000.000760.000.000260.000.000163.000.000430.000.000320.000.000330.000.000246.000.000300.000.000387.000.000360.000.000220.000.000193.000.000410.000.000247.990.000127.000.000281.000.000345.000.000183.000.000319.000.000500.000.000160.000.000270.000.000435.600.000491.000.000565.000.000159.000.000500.000.000322.000.000186.000.000444.000.000390.000.000202.000.000175.000.000190.000.000175.000.000386.990.000163.000.000530.000.000298.000.000238.000.000550.000.000145.000.000163.000.000570.000.000425.000.000330.700.000485.000.000500.000.000150.500.000367.000.000371.000.000394.500.000680.000.000600.000.000420.000.0001.650.000.000478.000.0001.350.000.000460.000.000455.000.000950.000.000620.000.000730.000.000800.000.000115.000.000503.000.000351.000.000325.000.000520.000.000330.000.000660.000.000570.000.000970.000.000450.000.000730.000.000400.000.000165.000.000630.000.000280.000.000315.000.000780.000.000138.000.000220.000.000300.000.000140.000.000425.000.000149.000.000163.000.000225.000.000332.000.000355.000.000136.000.000233.000.000350.000.000310.000.000450.000.000500.000.000340.000.000430.000.000258.000.000300.000.000745.000.000410.000.000440.000.000260.000.000600.000.000685.000.000870.000.000565.000.000460.000.000215.000.000400.000.000460.000.000215.000.000205.000.000280.000.000170.000.0001.050.000.000285.000.000530.000.0001.200.000.000800.000.000280.000.000280.000.000240.000.000290.000.000600.000.000250.000.000160.000.000550.000.000240.000.000315.000.000280.000.000400.000.000750.000.000520.000.000250.000.000440.000.000960.000.0002.200.000.000630.000.000970.000.0003.500.000.000265.500.000394.058.882220.000.000380.000.000509.395.301389.227.370300.000.000252.000.000233.000.000350.000.000175.000.000275.000.000330.000.000160.000.000510.000.000510.000.000495.000.000272.000.000312.000.000255.000.000317.000.000365.000.000510.000.000473.000.000272.000.000326.000.000245.000.000130.000.000250.000.000700.000.000444.000.000296.000.000565.000.000335.000.000498.000.000495.000.000342.000.000505.000.000295.000.000150.000.000450.000.000300.000.000534.000.000390.000.000500.000.000560.000.000490.000.000480.000.000190.000.000580.000.000118.000.000110.000.000420.000.000195.000.000491.000.0001.110.000.000350.000.000310.000.000490.000.0001.399.000.000400.000.000815.000.000160.000.000300.000.000280.000.000295.000.000175.000.000360.000.000550.000.000900.000.000519.000.000495.000.000840.000.0002.200.000.000720.000.000350.000.0001.350.000.000320.000.000650.000.000868.000.000305.000.000475.000.0001.200.000.000125.000.0001.800.000.000370.000.000480.000.000880.000.000483.000.000329.000.000198.000.000483.000.000530.000.000500.000.000491.000.000479.000.000519.000.000178.000.000491.000.000168.000.0001.000.000.000340.500.000366.000.000265.000.000500.000.000210.000.000388.000.000413.500.000282.000.000298.000.000350.000.000915.000.000240.000.000450.000.000237.000.000212.500.000535.000.000451.000.000499.800.000535.000.000550.000.000296.000.000530.000.000421.000.000435.800.000561.000.000167.000.000600.000.000530.000.0001.295.000.000474.500.000500.000.000347.000.000257.000.000315.000.000375.000.000311.000.000490.000.000600.000.000350.000.000330.000.000330.000.000490.000.000550.000.000850.000.000620.000.0001.200.000.000325.000.000460.000.000125.000.0001.550.000.000165.000.000750.000.000280.000.000220.000.000850.000.000155.000.000290.000.000212.500.000190.080.000390.000.000136.000.0001.250.000.000155.000.0001.300.000.0001.250.000.000278.000.000580.000.000340.000.000580.000.0001.500.000.000385.000.000355.000.000445.000.000740.000.0001.190.000.000173.000.000950.000.000355.000.000870.000.000740.000.000445.000.0001.500.000.000385.000.000640.000.000225.000.000137.000.000184.900.000154.000.000340.000.000104.000.000356.000.000460.000.000382.100.0001.700.000.000485.000.000370.000.000438.000.000230.000.000181.000.000113.000.000418.000.000311.000.000162.000.000176.000.000390.000.000136.000.0001.250.000.000155.000.0001.300.000.0001.250.000.000278.000.000580.000.000340.000.000580.000.0001.500.000.000385.000.000355.000.000445.000.000740.000.0001.190.000.000950.000.000144.000.000480.000.0001.080.000.0001.050.000.000178.000.000173.000.000870.000.000154.000.000340.000.000104.000.000225.000.000640.000.000184.900.000240.000.000400.000.000380.000.000260.000.000290.000.0001.350.000.000290.000.000530.000.000540.000.000290.000.000648.000.000300.000.000600.000.000520.000.000520.000.0001.200.000.000470.000.000250.000.000350.000.000322.000.000230.000.000435.000.000289.000.000168.000.000665.000.0004.200.000.000435.000.000580.000.000950.000.000350.000.000749.000.0001.100.000.000720.000.000360.000.0001.400.000.0001.200.000.000260.000.000315.000.000485.000.000380.000.000395.000.000145.000.000795.000.000215.000.0006.100.000.000370.000.000460.000.000910.000.000936.000.000270.000.000415.000.000399.000.000650.000.000970.000.0001.750.000.000510.000.000970.000.0008.800.000.000230.000.000600.000.000630.000.000200.000.000750.000.000489.000.000300.000.000155.500.0001.800.000.0002.100.000.000690.000.000499.000.000330.000.000495.000.000520.000.000470.000.000425.000.000480.000.000348.000.0001.300.000.000980.000.000950.000.000850.000.000650.000.0001.300.000.000260.000.000470.000.000495.000.000665.000.000980.000.000680.000.000495.000.000430.000.000800.000.0001.000.000.000890.000.0001.050.000.000525.000.000290.000.0001.100.000.000380.000.000560.000.000565.000.000570.000.000810.000.000340.000.000420.000.000465.000.000380.000.000484.000.000180.000.000160.000.000160.000.000980.000.000790.000.000790.000.000580.000.000200.000.000890.000.000680.000.000500.000.000400.000.0001.390.000.000220.000.0001.300.000.000280.000.000340.000.000347.000.000980.000.000175.000.000400.000.000825.000.000550.000.0002.000.000.000300.000.0001.100.000.000168.000.000600.000.000390.000.000390.000.000120.000.000390.000.000400.000.000140.580.0001.340.000.000360.000.0001.600.000.0001.200.000.000299.500.000850.000.000322.000.000600.000.000178.000.000160.000.0001.150.000.000290.000.0001.360.000.000601.000.000620.000.000417.780.000422.000.000350.000.000260.000.000280.000.000316.000.000357.000.000630.000.000317.000.000750.000.000220.000.000245.000.000247.000.000319.500.000250.000.000920.000.0003.600.000.000610.000.000430.000.000600.000.000178.000.000160.000.0001.150.000.000290.000.0001.360.000.000601.000.000620.000.000417.780.000422.000.000350.000.000260.000.000280.000.000225.000.000485.000.000325.000.000257.000.000129.000.000135.000.000296.000.000185.000.000209.500.000320.000.000236.000.000144.000.000149.000.000110.000.000335.000.000750.000.000510.000.000135.000.000185.000.000296.000.000209.500.000244.000.000425.000.0002.200.000.000371.000.000245.000.000275.000.000245.000.0001.350.000.000280.000.0002.150.000.000477.000.000675.000.000720.000.0001.250.000.000340.000.000260.000.000549.000.000400.000.000425.000.000280.000.000300.000.000264.000.000550.000.000620.000.000350.000.000245.000.000408.000.0001.120.000.000200.000.000320.000.0003.000.000.000404.000.000549.000.000618.000.0004.200.000.000406.000.000310.000.000810.000.0002.750.000.000330.000.000450.000.0001.800.000.000135.000.0001.650.000.000690.000.0008.550.000.000180.000.000249.000.000347.000.0003.900.000.000610.000.000160.500.000255.000.0003.300.000.000335.000.000189.000.000385.000.000189.000.000240.000.000294.000.000520.000.000475.000.000990.000.000289.000.000495.000.000666.000.000560.000.000518.000.0001.500.000.000170.000.000210.000.000178.000.0001.630.000.000450.000.000435.600.000257.000.000830.000.000485.000.000550.000.000530.000.000290.000.000380.000.000270.000.000480.000.000650.000.000187.000.000200.000.000205.000.000222.750.000486.000.000540.000.000130.000.000587.000.000150.000.000416.790.0001.250.000.000320.000.000540.000.000469.755.000138.000.000300.000.000300.000.0001.050.000.000430.000.000153.000.000420.750.000310.000.000287.000.000634.000.000125.000.000225.000.000374.500.000800.000.000900.000.000640.000.000210.000.000800.000.000327.000.000471.990.000519.800.000282.000.000311.000.000377.350.000316.000.000500.000.000528.000.000398.000.000300.000.000258.000.000356.000.000399.000.000336.000.000545.000.000570.000.000340.000.000451.000.000253.500.000370.990.000440.000.000385.000.000336.000.000357.400.000417.990.000480.650.000550.000.0002.200.000.000440.000.000357.400.000550.000.000163.000.000260.000.000417.990.000670.000.000379.990.000290.000.000500.000.000319.500.000180.000.000290.000.000472.000.000499.990.000559.947.000477.000.000270.000.000292.000.000419.990.000495.000.007276.000.000462.000.000288.000.000480.000.000479.030.000480.000.000534.000.000350.000.000458.000.000522.400.000480.000.000450.000.000322.000.000420.000.000395.990.0001.300.000.000685.000.000491.000.000520.000.000380.000.000633.900.000485.000.000530.000.000213.000.0002.500.000.000466.000.000160.000.000680.000.000432.990.000292.000.000170.000.000310.000.000570.000.000535.000.0001.250.000.000515.000.0002.700.000.000195.000.000325.000.000210.000.000350.000.000192.500.000337.000.000350.000.000311.000.0001.300.000.000940.000.000280.000.000340.000.000550.000.000472.000.000510.000.000380.000.000255.000.000290.000.000390.000.0001.400.000.000330.000.000140.000.000155.000.000680.000.0001.100.000.000360.000.000425.000.000147.000.000190.000.000120.000.000420.000.000505.000.000130.000.0001.380.000.000420.000.000550.000.000420.000.000310.000.000580.000.000980.000.000270.000.000435.000.000900.000.000490.000.000380.000.000660.000.000850.000.0001.550.000.000390.000.000230.000.000620.000.000180.000.000900.000.000660.000.000455.000.000450.000.000700.000.0002.300.000.000280.000.000930.000.000850.000.000980.000.000480.000.000840.000.000410.000.000520.000.000390.000.000535.000.000374.000.000117.000.000520.000.000274.600.000362.000.000601.000.000200.000.000183.000.000260.000.000230.000.000130.000.000300.000.000495.000.000170.000.000650.000.000485.200.000840.000.000520.000.0003.300.000.000420.000.000699.000.0001.150.000.000480.000.000282.000.000450.000.000365.000.000800.000.000483.000.000514.990.000500.000.000850.000.000350.000.000280.000.0003.300.000.000340.000.000609.800.000346.990.000339.000.000116.000.000230.000.0001.100.000.000680.000.000133.200.000423.000.000586.700.0001.080.000.000748.900.000339.000.000370.000.000270.000.000500.000.000268.000.000310.000.000372.760.0001.150.000.0001.500.000.000486.990.000282.000.000450.000.0001.600.000.000305.000.000800.000.000420.000.000480.000.000250.000.000315.000.000120.000.000290.000.000365.000.000800.000.000483.000.000500.000.000346.990.000339.000.000609.800.000514.990.000340.000.000133.200.000680.000.000339.000.0001.100.000.0003.300.000.000445.000.000190.000.000210.000.000510.000.000477.000.000290.000.000406.000.000267.990.000423.000.000296.000.000268.000.000165.000.000500.000.000255.000.000142.000.000365.000.000167.000.000375.000.000287.990.000498.900.000740.000.000270.000.000305.000.000580.000.000327.000.000214.830.0001.500.000.000350.000.000530.000.000310.000.0001.150.000.000372.760.0001.800.000.000520.000.000165.000.000160.000.000600.000.000170.000.000820.000.0001.200.000.000883.000.000750.000.000495.000.000300.000.000220.000.000365.000.000630.000.000490.000.000485.000.000580.000.0001.340.000.000665.000.000490.000.000580.000.000375.000.000470.000.000266.000.000485.000.0001.700.000.0001.400.000.000398.000.000540.000.000350.000.000960.000.000650.000.000420.000.000165.000.000360.000.000850.000.000795.000.000410.000.0001.100.000.000498.000.000345.000.000780.000.000195.000.000295.000.000600.000.000190.000.000193.000.000610.000.000950.000.000700.000.000395.000.000320.000.000560.000.000275.000.000800.000.000360.000.000750.000.000202.000.000565.000.000490.000.000465.000.000300.000.000780.000.000170.000.0001.200.000.000450.000.000770.000.000345.000.0001.300.000.000387.000.000850.000.000200.000.0001.700.000.000699.000.000800.000.000275.000.000265.000.000650.000.000347.000.000560.000.000275.000.000800.000.000331.500.000296.000.000288.000.000410.000.000240.000.000350.000.000235.000.000182.000.000685.000.000830.000.0001.000.000.000740.000.000845.000.000860.000.0003.300.000.000950.000.000720.000.000250.000.000350.000.000235.000.0001.550.000.000365.000.000509.395.301495.000.000400.000.0001.144.253.0001.379.000.0001.393.529.000260.000.000642.437.0001.226.400.000155.000.000175.000.000169.000.000150.000.000360.000.000125.000.000500.000.000365.000.000330.000.000530.000.000485.000.000500.000.000515.000.000518.000.000409.365.000515.000.000447.500.000504.900.000500.000.000360.000.000480.000.0001.789.000.000747.552.8001.400.000.000153.000.000430.000.000490.000.00013.200.000.000900.000.000698.000.0001.385.733.652450.000.0001.200.000.0002.190.000.000875.000.0001.300.000.000500.000.000504.900.000447.500.000360.000.000165.000.000595.000.0001.344.332.0001.860.000.000550.000.000594.000.000711.582.986680.000.0002.333.673.498845.000.000620.000.000385.000.0001.722.400.0001.250.000.0001.250.000.000989.000.000340.000.000225.000.000820.000.000650.000.0001.350.000.000700.000.000450.000.000550.000.000430.000.000280.000.000160.000.000320.000.0002.400.000.000195.000.000200.000.000650.000.000200.000.0001.500.000.000160.000.0001.500.000.000420.000.000450.000.000490.000.0001.800.000.000490.000.000238.000.000870.000.000285.000.000630.000.000990.000.000220.000.000485.000.000235.000.000249.900.000492.134.0001.400.000.000525.000.000820.000.000695.000.000630.000.0001.600.000.000470.500.000243.000.000495.000.000440.000.000157.200.0001.700.000.000375.000.000143.000.000900.000.000630.000.000750.000.000490.000.0002.000.000.000490.000.0001.359.000.0001.100.000.000270.000.000398.800.000878.200.000340.000.000363.000.000260.000.000260.000.000290.000.000600.000.000555.000.000730.000.000500.000.000340.000.000520.000.000750.000.000463.000.0002.300.000.000288.000.000231.298.464450.000.0001.100.000.000250.000.000380.000.000425.000.000750.000.000350.000.0001.200.000.000241.280.000330.000.000232.483.200890.000.000240.000.000486.000.000236.000.000939.275.008750.000.000750.000.000645.000.000395.500.000420.000.000170.000.000390.000.000285.000.000480.000.000260.000.000590.000.000270.000.000630.000.000765.000.000510.000.000386.000.000253.100.000360.000.000374.500.000415.000.000439.000.000144.000.000462.500.000449.000.000450.000.000872.000.000370.000.000142.500.000146.500.000147.000.000164.000.000325.000.000396.000.000396.000.000430.000.000488.000.000750.000.000406.500.000415.000.000579.000.000660.000.0001.500.000.000900.000.000640.000.000379.000.000580.000.0001.580.000.0002.800.000.000700.000.000345.000.000600.000.0005.299.999.744240.000.000432.000.000680.000.000630.000.000335.000.000233.000.000310.000.00094.500.000220.000.000310.000.000410.000.000466.000.000385.000.000415.000.000185.000.000298.500.000930.000.000820.000.000700.000.000425.000.0002.300.000.000850.000.000370.000.0002.600.000.000800.000.000828.400.000310.000.000160.000.0001.100.000.000365.000.000599.000.000220.000.000350.000.0001.350.000.000250.000.000165.000.000520.000.000950.000.000365.000.000690.000.000158.000.000410.000.000580.000.000237.000.000220.000.0001.300.000.000380.000.000594.000.0001.900.000.0001.690.000.0002.400.000.000320.000.0001.300.000.0002.200.000.0002.500.000.0001.050.000.0001.180.000.000360.000.000590.000.000740.607.900250.000.0002.950.000.0001.180.000.000280.000.000639.000.0002.300.000.000144.000.000890.000.000580.000.0001.350.000.000895.000.0002.600.000.000100.000.000270.000.000340.000.000438.000.000780.000.000111.500.000229.000.000350.000.000150.000.000380.000.000170.000.000338.000.000384.000.000311.000.000469.000.000800.000.000170.000.000235.000.000449.500.000270.164.320680.000.000419.000.000680.000.00094.500.000628.000.000520.000.000360.000.000160.000.000460.000.000320.000.000640.000.0001.484.999.936330.000.000750.000.0002.500.000.000670.000.0001.200.000.000400.000.000750.000.000390.000.000800.000.000580.000.000550.000.000165.000.000580.000.000750.000.000990.000.000345.000.0003.200.000.000350.000.000610.000.000599.000.000205.000.000279.280.1601.400.000.0003.149.100.0323.149.100.032280.000.000251.000.0001.200.000.000500.000.000500.000.0005.800.000.000379.000.000680.000.000240.000.000377.000.000197.000.000590.000.0003.627.099.9041.150.000.000230.000.000260.000.0001.700.000.000134.135.000109.700.000324.100.000430.000.0001.100.000.000310.000.000220.000.000425.000.000230.000.000440.000.0003.400.000.000415.000.0001.200.000.000590.000.000280.000.000255.000.0001.600.000.0001.000.000.000331.000.000720.000.000160.000.000200.000.000474.000.000320.000.000500.000.000430.000.0002.200.000.000776.000.000400.000.000450.000.000370.000.000370.000.000175.000.000175.000.0001.650.000.000165.000.000950.000.0001.200.000.000850.000.000700.000.000599.000.000330.000.000120.000.000700.000.000150.000.000750.000.000485.000.000450.000.000555.000.0001.100.000.000170.000.000485.000.0005.299.999.744350.000.0001.200.000.000670.000.0001.100.000.000245.000.000620.000.000690.000.000800.000.000950.000.0001.600.000.000199.000.000460.000.000270.000.000730.000.000650.000.000540.000.000530.000.000389.000.000650.000.000610.000.000174.000.000302.000.000620.000.000285.000.000338.000.000388.500.000406.500.0001.195.000.000530.000.000510.000.000248.500.000465.000.0001.150.000.000550.000.000360.000.0001.250.000.000380.000.000600.000.000430.000.000380.000.000590.000.000350.000.000215.000.000233.000.000930.000.000430.000.000340.000.000280.000.000150.000.000185.000.0001.000.000.000850.000.000310.000.000750.000.000223.000.000370.000.000750.000.0002.470.000.128660.000.000360.000.000223.000.000345.000.000590.000.000730.000.000724.460.000499.000.0002.080.000.000320.000.00084.000.000129.800.000332.500.000600.000.000129.800.000670.000.000199.900.0001.250.000.000699.927.0001.500.000.000775.564.000206.375.776145.000.000470.000.000332.500.000280.500.000157.200.000650.000.0001.100.000.000235.000.000330.000.000470.500.000497.391.000395.000.000157.200.000206.375.776350.000.000155.000.000322.000.000795.000.000157.200.000384.000.000249.900.000249.900.000950.000.000650.000.0002.500.000.0002.400.000.000525.000.0001.740.000.000350.000.0001.970.000.000439.300.000980.000.0001.500.000.000340.000.0001.500.000.000595.000.000120.000.000435.000.000332.000.000575.000.00099.920.000960.000.000770.000.000460.000.0001.000.000.000455.000.000135.000.000897.000.000323.100.000450.000.000250.000.0001.850.000.000152.000.000259.100.000407.342.016130.000.000168.000.0001.246.000.000500.000.000145.000.000120.000.000900.000.0001.200.000.000250.000.000140.000.000385.000.000160.000.000550.000.000580.000.000315.000.000355.000.000400.000.000650.000.000620.000.000400.000.000550.000.000160.000.000731.000.000670.000.0001.050.000.0002.500.000.000750.000.000130.000.000250.000.000160.000.0001.000.000.0001.500.000.000165.000.000615.000.000252.000.000345.000.000550.000.000270.000.000350.000.000350.000.000350.000.000142.000.000249.500.000325.000.000249.000.000298.500.000400.000.0001.330.000.000600.000.000117.000.0001.014.570.000185.000.000185.000.0001.100.000.000470.000.000720.000.0002.095.000.064360.000.0003.200.000.000420.000.000230.000.000233.000.000199.000.000350.000.000320.000.000311.000.000380.000.000100.000.000400.000.000145.000.000474.500.000290.000.000343.000.000620.000.000143.000.000330.000.000197.000.0001.500.000.000498.431.000550.000.000650.000.000327.900.000800.000.000850.000.000690.000.0001.500.000.000900.000.0001.300.000.000830.000.0001.400.000.000340.000.000550.000.000770.000.0002.200.000.0005.500.000.000500.000.0001.600.000.0002.100.000.000350.000.000160.000.0001.450.000.000450.000.000384.500.0001.010.000.000169.500.000275.000.000462.000.000394.500.000368.000.000382.000.000295.000.000155.000.000404.000.0001.250.000.000395.000.000205.000.000453.500.000262.000.000270.000.000420.000.000162.000.000350.000.000384.000.0001.500.000.0001.350.000.000365.000.000310.000.000228.000.000680.000.000310.000.000950.000.000420.000.000430.000.000895.000.000435.000.000897.000.000430.000.000390.000.000360.000.000350.000.000520.000.000330.000.000360.000.0001.090.000.000390.000.0003.300.000.000220.000.000420.000.000790.000.000720.000.000290.000.0004.200.000.000800.000.000520.000.000155.000.000320.000.000136.000.000395.000.000860.000.0002.700.000.000390.000.000995.000.000390.000.0001.500.000.000700.000.000470.000.000140.000.0001.700.000.0002.500.000.000750.000.000280.000.000140.000.000850.000.0001.300.000.00090.000.0003.000.000.000500.000.000120.000.0002.500.000.0002.500.000.000998.000.000914.300.000250.000.000850.000.0001.200.000.000280.000.000580.000.000170.000.000237.000.000245.000.000181.000.000455.000.000150.000.000155.000.000460.000.000540.000.000340.000.000278.000.000790.000.000600.000.000319.000.000177.000.000575.000.000700.000.000132.000.000413.500.000412.000.000120.000.000620.000.0004.200.000.000150.500.000900.000.000230.000.00096.000.000270.000.000270.000.000315.000.000447.500.000150.000.000800.000.000720.000.000440.000.000844.000.000360.000.000200.000.000500.000.0001.500.000.000474.500.0001.500.000.000240.000.000680.000.000660.000.0001.400.000.0004.500.000.000645.000.000980.000.000420.000.000390.000.000240.000.0002.530.000.0005.200.000.000638.000.0001.200.000.0001.100.000.000430.000.0002.400.000.0004.238.000.000380.000.000278.000.000979.999.0001.590.000.000500.000.000850.000.000960.000.000162.000.000400.000.000740.000.0002.250.000.000800.000.000155.000.000580.000.0002.500.000.000357.000.000599.000.0001.950.000.000880.000.000470.000.000147.000.000215.000.0001.700.000.000205.000.000200.000.0003.200.000.000840.000.000743.710.000834.460.000160.000.000270.000.000570.000.000170.000.000990.000.000398.000.0001.400.000.0001.900.000.000720.000.0001.150.000.0001.350.000.000535.000.000500.000.000240.000.0001.200.000.000310.000.000350.000.000320.000.0001.450.000.0002.200.000.000242.000.000350.000.000400.000.000185.000.000485.000.000494.000.000270.000.0001.200.000.000980.000.0001.350.000.000850.000.000256.000.000340.000.000385.000.0002.900.000.000970.000.0001.350.000.000240.000.0007.000.000.0002.650.000.0001.100.000.0002.700.000.0002.500.000.0001.200.000.000230.000.000540.000.000710.000.000610.000.000170.000.0001.700.000.000240.000.0001.299.000.000900.000.000780.000.0002.500.000.000750.000.000495.000.000650.000.0001.000.000.000330.000.000630.000.000850.000.000850.000.000950.000.000900.000.0005.250.000.0001.750.000.000380.000.000960.000.000460.000.0002.755.500.0001.700.000.0001.550.000.000335.000.000590.000.000590.000.000390.000.000265.000.000150.000.000459.000.0002.850.000.000531.000.0001.650.000.0001.200.000.0001.499.999.000405.000.000430.000.000500.000.000560.000.000620.000.000540.000.000550.000.000800.000.000950.000.000525.000.000846.000.000635.000.000345.000.000880.000.000960.000.000460.000.000330.000.000260.000.000430.000.0001.580.000.000540.000.000190.000.000700.000.0003.900.000.0001.200.000.000380.000.000230.000.0001.400.000.000450.000.000920.000.000580.000.000440.000.000980.000.000750.000.000385.000.000450.000.000432.000.000800.000.000410.000.000890.000.000760.000.000206.000.000225.000.0001.800.000.000160.000.000980.000.000592.500.000594.000.000285.000.0001.100.000.0001.800.000.000477.000.000620.000.000650.000.000355.000.000498.000.0001.450.000.000125.000.000660.000.000680.000.000680.000.0001.193.390.000460.000.000795.000.000679.000.000255.000.000190.000.000170.000.000900.000.000530.000.000230.000.000850.000.000450.000.000360.000.000143.000.000806.000.000700.000.000480.000.000500.000.0002.200.000.000280.000.000480.000.000500.000.000508.000.000343.000.000375.000.000310.000.000280.000.000480.000.000350.000.000340.000.000250.000.000260.000.0001.150.000.000300.000.000650.000.000482.000.000129.690.000145.000.000136.000.000150.000.000393.000.000183.000.000136.000.000134.000.000124.000.000129.000.000124.000.000650.000.000155.000.000150.500.000128.000.000128.000.000128.000.000196.000.000196.000.0002.300.000.000690.000.0001.100.000.000550.000.000570.000.000195.000.000350.000.000749.999.999375.000.000535.000.000215.000.000320.000.000160.000.000600.000.000180.000.000130.000.000125.500.000340.000.000131.000.000136.000.000116.000.000136.000.000130.000.000127.500.000145.000.000126.500.000128.500.000155.000.000125.000.000125.000.000150.000.000147.300.000125.730.000150.000.000120.800.000150.000.000102.000.000174.000.000680.000.000720.000.000240.000.000468.270.000145.000.000790.000.0003.807.000.0001.000.000.000450.000.000499.000.000360.000.000310.000.000790.000.000365.000.000210.000.000780.000.000425.000.0001.200.000.0001.000.000.000430.000.000410.000.000700.000.000850.000.0001.500.000.000140.000.000450.000.0001.650.000.0001.250.000.000285.000.000880.000.0001.250.000.000153.000.000850.000.0001.500.000.000323.000.000285.000.000552.600.000430.000.0001.700.000.000182.000.000479.030.000125.000.000176.000.000148.000.000155.000.000136.000.000130.000.000122.000.000148.000.000120.800.000134.000.000125.500.000102.000.000129.000.000450.000.000136.000.000147.300.000332.000.000150.000.000130.000.000205.000.000128.000.000129.000.000126.500.000102.000.000120.800.000131.000.000148.000.000122.000.000142.000.000125.500.000134.000.000125.000.000136.000.000136.000.000126.500.000147.300.000142.000.000280.400.000120.800.000122.000.000125.000.000125.000.000150.000.000136.000.000134.000.000134.000.000159.000.000159.000.000550.000.000880.000.000165.000.0004.250.000.0001.500.000.000600.000.000450.000.000154.000.000550.000.000350.000.000395.000.000464.000.0001.200.000.000160.000.000152.000.000270.000.0009.200.000.000262.000.000543.000.0003.500.000.000275.000.000812.955.500880.000.000745.000.000980.000.0001.500.000.000800.000.000157.000.000150.000.000310.000.000136.000.000153.500.000125.000.000130.000.000128.000.000153.500.000125.500.000134.000.000130.000.000128.000.000150.000.000124.000.000147.300.000131.000.000148.000.000128.000.000128.000.000120.800.000155.000.000134.000.000131.000.000147.300.000124.000.000153.500.000124.000.000129.000.000120.800.000129.000.000129.000.000150.000.000385.000.000188.000.000277.000.000232.000.000285.000.000442.436.000508.000.0003.500.000.000270.000.000411.000.000270.000.000318.000.000298.500.000280.000.000860.000.000116.000.000120.000.0001.100.000.000410.000.000800.000.000516.742.260520.000.000280.000.0001.670.000.0002.000.000.000359.000.0002.900.000.0005.000.000.0001.650.000.0001.070.000.000385.000.000600.000.000299.000.000460.000.000450.000.000354.000.000860.000.000298.500.000280.000.000270.000.000318.000.0001.280.000.0001.900.000.000335.000.000980.000.000450.000.0001.000.000.0002.150.000.0001.100.000.0002.500.000.000400.000.000470.000.000250.000.000510.000.000550.000.000175.000.000650.000.0003.400.000.0001.250.000.0001.100.000.000133.000.000750.000.0001.800.000.000330.000.000188.000.000170.000.000128.000.000540.000.000270.000.000365.000.000382.000.000280.000.000750.000.0001.700.000.000130.000.0001.150.000.000470.000.000350.000.000200.000.0002.200.000.000430.000.000436.000.000429.000.000825.000.000348.000.0001.300.000.000575.000.0001.380.000.000367.500.000251.000.000429.000.000430.000.000436.000.000382.000.000330.000.000380.000.000750.000.000310.000.000800.000.0001.700.000.000750.000.0001.800.000.000280.000.000188.000.000470.000.000200.000.000635.000.000170.000.000778.000.000130.000.0001.150.000.000350.000.000270.000.000365.000.000128.000.000160.000.000540.000.000133.000.000199.000.000750.000.000220.000.000249.000.000365.000.000328.000.000540.000.000460.000.000265.000.000279.400.000377.900.000163.500.000460.000.0003.000.000.000440.000.000345.000.000650.000.0001.250.000.000950.000.0002.800.000.000670.000.000347.000.000760.000.000440.000.000430.000.000820.000.0001.300.000.000139.999.9991.300.000.000749.000.000599.900.0001.500.000.0001.880.000.000890.000.000139.999.999270.000.000420.000.000500.000.000565.000.0001.400.000.000215.000.0001.300.000.000495.000.000865.000.000490.000.000650.000.0002.350.000.0001.600.000.0001.050.000.000745.000.0001.500.000.000360.000.0001.320.000.000295.000.000560.000.000491.000.000695.000.0001.200.000.000422.000.0001.300.000.000590.000.000980.000.0002.190.000.000280.000.000419.600.000160.500.000442.436.000360.000.0001.150.000.0004.000.000.000730.000.0006.500.000.000339.000.000482.000.000405.000.000375.000.000423.000.000500.000.0005.200.000.0001.960.000.000830.000.000980.000.0003.500.000.0001.200.000.0004.800.000.000480.000.0002.800.000.0001.080.000.000950.000.000850.000.000980.000.0001.100.000.000670.000.0001.836.000.000760.000.000440.000.000347.000.000274.000.000290.000.000270.000.0001.300.000.000460.000.0002.190.000.000240.000.000380.000.000215.000.0001.300.000.000495.000.000139.999.999900.000.000390.000.000749.000.000405.084.000458.930.000890.000.0001.880.000.000270.000.000480.000.000545.000.000320.000.000599.900.000815.402.051235.000.000150.000.000510.000.000249.000.000356.000.000303.960.000690.000.000528.000.000739.000.000739.000.000528.000.000850.000.000624.750.000408.000.000462.000.000600.000.000490.000.000462.000.000372.000.000275.000.000115.000.000149.000.000528.000.000310.000.000355.000.000528.000.000739.000.000325.000.000739.000.000320.000.000192.000.0001.100.000.000183.680.000142.000.000390.000.0001.500.000.000150.480.000739.000.000930.000.0002.200.000.000133.000.000212.500.000270.000.000305.000.000270.000.000190.000.000320.000.000210.000.000404.000.000149.000.000190.000.000149.000.000217.000.000111.000.000390.000.000250.000.000650.000.000350.000.000890.000.000320.000.0001.960.000.0005.200.000.0002.500.000.000410.000.000670.000.000650.000.0002.030.000.0001.050.000.0001.490.000.000600.000.000526.000.000483.000.000268.000.000458.000.000273.000.000339.000.000482.000.000315.000.000375.000.000258.000.0001.600.000.0001.050.000.000422.000.000830.000.0003.900.000.000990.000.0004.000.000.000980.000.0005.083.000.0005.400.000.000149.000.0002.700.000.000117.810.000240.000.000210.000.000580.000.0001.600.000.000186.000.000190.000.000110.000.000182.000.000169.000.000205.000.000272.000.000330.000.000295.000.000330.000.000237.000.0001.050.000.000190.000.000295.000.000205.000.000149.000.000126.000.000235.000.000739.000.000404.000.000330.000.000295.000.000500.000.0001.200.000.000739.000.000739.000.000720.000.000739.000.000390.000.000172.000.000250.000.000170.000.000303.960.000303.960.000528.000.000739.000.000311.000.000250.000.000169.000.000258.360.000190.000.000180.000.000205.000.000175.000.000190.000.000190.000.000985.000.000520.000.000900.000.0001.250.000.000650.000.000138.000.000125.000.000123.000.000800.000.000365.000.000170.000.000147.000.000510.000.0001.700.000.000205.000.000212.500.000190.000.0003.200.000.0003.200.000.000739.000.000149.000.0004.750.000.000190.000.000365.000.000212.500.000700.000.000313.000.000850.000.000305.000.000145.000.000739.000.000176.000.000176.000.000176.000.000250.000.000176.000.000170.000.000176.000.000250.000.000169.000.000690.000.0001.890.000.000170.000.000700.000.000165.000.000165.000.000780.000.000207.200.000134.000.000138.000.000115.500.000126.000.000795.000.000499.000.000245.500.000870.000.000634.000.000175.000.000680.000.000900.000.000670.000.000450.000.000500.000.000500.000.000500.000.000175.000.000690.000.000390.000.000390.000.000479.000.000740.000.000390.000.000830.000.000658.000.000820.000.0001.400.000.000550.000.000248.000.000410.000.000420.000.0001.210.000.000260.000.000298.000.000550.000.000171.000.0001.480.000.000870.000.000800.000.000357.000.000300.000.000480.000.000153.000.000147.000.000750.000.000418.000.000600.000.000390.000.000530.000.0001.600.000.000508.000.0001.793.000.0002.095.000.000136.000.000550.000.000870.000.000350.000.000430.000.000550.000.000245.000.000162.000.000680.000.000330.000.000142.000.000119.000.000348.000.000116.000.000119.000.000323.000.000130.000.000130.000.0001.600.000.000228.000.000840.000.000315.000.000325.000.0001.495.000.000397.000.000169.000.000172.000.000176.000.000438.000.000241.200.000528.000.000450.000.000739.000.000739.000.000116.100.000250.000.000172.000.000177.000.000450.000.000310.000.000180.000.000250.000.0001.000.000.000210.000.000380.000.000400.000.0001.890.000.000520.000.000739.000.0001.200.000.000170.000.000395.000.000570.000.000275.000.000190.000.000690.000.000860.000.000795.000.0001.650.000.000630.000.000570.000.000785.000.000250.000.000272.250.000450.000.000455.000.000575.000.000265.000.000750.000.000272.250.000440.000.000500.000.0001.540.000.000119.000.0001.600.000.000475.000.000327.000.000340.000.000710.000.000500.000.000450.000.000440.000.0001.250.000.000590.000.000290.500.000290.500.000171.000.000360.000.000245.000.000245.000.000290.500.0001.590.000.000795.000.000550.000.000350.000.000400.000.000510.000.000690.000.000700.000.000250.000.000169.000.000172.000.000176.000.000116.100.000395.000.000570.000.000275.000.000203.000.000840.000.000466.000.0002.095.000.000550.000.000870.000.0005.000.000.0001.850.000.000194.000.000323.000.000900.000.000950.000.0001.100.000.000285.000.000323.000.000508.000.000720.000.000385.000.000140.000.0001.480.000.0001.190.000.000490.000.000115.000.000670.000.000131.000.000150.000.000300.000.000168.000.000680.000.000160.000.0001.105.000.000354.000.000180.000.000177.000.0001.700.000.000996.000.000121.000.000353.000.000134.000.000115.500.000207.200.000126.000.000498.000.000165.000.000165.000.000780.000.000670.000.000450.000.000500.000.000500.000.000500.000.0001.495.000.0004.000.000.000199.000.000325.000.000840.000.000460.000.000499.500.000430.000.000660.000.0001.790.000.000480.000.000466.000.000466.000.0001.100.000.000508.000.000508.000.000850.000.000230.000.000295.000.000950.000.000550.000.000330.000.000163.000.000339.000.000486.000.000450.000.000260.000.000460.000.0003.000.000.000415.000.000380.000.000136.000.000133.000.000545.000.000760.000.000465.000.000105.000.000134.000.000476.500.000148.000.000360.000.000423.000.000610.000.000400.000.000397.000.000480.000.0001.300.000.00082.170.000354.000.000140.000.000397.000.000430.000.0002.850.000.000466.000.000466.000.0001.100.000.000405.000.000490.000.000508.000.000470.000.000700.000.000508.000.000128.700.000930.000.000660.000.0001.790.000.000480.000.000850.000.000353.000.0001.950.000.000144.000.000144.000.000144.000.000435.000.000585.000.000488.000.000550.000.000153.000.000483.000.000175.000.000245.000.000500.000.000385.000.000285.000.000173.000.000390.500.000550.000.000354.000.000870.000.000449.000.000550.000.000895.000.0001.600.000.000980.000.000360.000.000489.000.000500.000.000620.000.000610.000.000152.000.000650.000.000230.000.000390.000.000330.000.0002.900.000.000850.000.000995.000.000870.000.000634.000.000175.000.000175.000.000207.200.000134.000.000138.000.000115.500.000126.000.000450.000.000500.000.000500.000.000153.000.000500.000.000310.000.000210.000.000475.000.0001.500.000.000485.000.000465.000.0001.495.000.000550.000.000600.000.000425.000.000530.000.0002.200.000.000369.000.000285.000.000300.000.0001.200.000.000300.000.0001.250.000.0001.170.000.000371.000.000300.000.000890.000.000130.000.000499.500.0003.850.000.000460.000.000498.000.000300.000.000480.000.000155.000.000320.000.000217.000.000199.000.0004.000.000.000325.000.000182.000.000200.000.000371.000.000180.180.000720.000.000750.000.000900.000.000650.000.000870.000.000270.000.000213.000.0001.900.000.0002.000.000.000163.000.000620.000.000600.000.0002.100.000.000450.000.000820.000.000750.000.000529.000.000889.000.000319.000.000120.000.000365.000.000360.000.000323.000.000390.000.000390.000.000390.000.000390.000.0002.200.000.000340.000.000720.000.000665.000.0001.350.000.0001.050.000.000270.000.000850.000.000880.000.000150.000.000528.000.000330.000.000525.000.000890.000.000550.000.0001.000.000.000500.000.0002.500.000.0001.200.000.000550.000.000850.000.000400.000.000735.000.0001.250.000.000295.000.000450.000.000514.000.000590.000.000435.000.000630.000.000420.000.000390.000.000390.000.000390.000.000450.000.000140.000.000347.000.000250.000.000165.000.000390.000.000390.000.000130.000.000345.000.0001.500.000.000296.000.000310.000.0001.195.000.000228.000.000585.000.000390.000.000180.000.000470.000.000520.000.000456.000.000390.000.000530.000.000390.000.000390.000.000390.000.000390.000.000250.000.0001.200.000.000278.000.000800.000.000580.000.000390.000.000400.000.000135.000.000720.000.000695.000.000390.500.000490.000.000148.000.000180.000.000176.500.000600.000.0001.290.000.000472.000.000175.000.000380.000.000710.000.000750.000.000390.000.000310.000.000272.250.000137.000.000470.000.000190.000.000400.000.000450.000.000450.000.000515.000.000410.000.000300.000.000650.000.000152.000.000340.000.000173.500.000525.000.0002.700.000.000750.000.000159.000.000159.000.000159.000.000159.000.000437.000.000203.823.000159.000.000437.000.000180.000.000895.000.000645.000.000295.000.000610.000.0001.340.000.000545.000.000331.500.000430.000.000287.000.000990.000.000795.000.000419.600.000196.000.0001.250.000.000360.000.000550.000.000482.000.000335.000.000398.600.000476.500.000515.000.000465.000.0002.300.000.000422.000.000397.000.000411.000.000535.000.000720.000.0001.000.000.000356.000.0001.170.000.000422.000.000560.000.000330.000.000390.500.0001.000.000.000490.000.000163.000.000530.000.000173.000.000422.000.000340.500.000449.500.000850.000.000255.000.000278.000.000395.000.000230.000.000422.000.000400.000.000425.000.000825.000.000298.000.000920.000.000850.000.000900.000.000196.000.0001.100.000.000210.000.000256.000.000320.000.000550.000.0001.500.000.000540.000.000167.000.000153.000.000520.000.000980.000.0004.500.000.0003.300.000.000700.000.0001.615.000.000280.000.0001.250.000.000240.000.000116.000.000265.000.000365.000.000372.760.000358.000.000422.000.000397.000.000720.000.0001.000.000.000356.000.000390.500.0001.000.000.000490.000.000315.000.000355.000.000440.000.000237.000.0001.200.000.000137.000.000470.000.000340.000.000173.500.000400.000.0002.000.000.000422.000.000400.000.000695.000.000770.000.000465.000.000515.000.000465.000.0002.300.000.000116.000.000390.000.000390.000.000630.000.000330.000.0001.050.000.000408.000.000870.000.000409.000.000510.000.000482.000.000430.000.000535.000.0001.250.000.000255.000.000475.000.000177.000.000560.000.000113.000.000675.000.000285.000.000285.000.000142.800.000587.000.000388.000.000430.000.0001.000.000.000372.000.000345.000.000390.000.000700.000.000458.000.0003.800.000.000278.000.000680.000.000730.000.000190.000.000145.000.000220.000.000400.000.000275.000.000316.000.000480.000.000153.000.0001.700.000.000357.000.000470.000.000450.000.000390.000.000390.000.000355.000.000980.000.000134.000.000360.000.000515.000.000214.000.000278.000.000450.000.000270.000.000196.000.000131.000.000255.000.000167.000.0001.250.000.000322.000.0001.100.000.000840.000.0003.800.000.000487.000.000220.000.0001.400.000.0001.700.000.000142.800.000587.000.000388.000.000430.000.0001.000.000.000372.000.000345.000.000390.000.000700.000.000458.000.000404.000.000630.000.0001.036.000.000700.000.000295.000.000330.000.0001.050.000.000408.000.000830.000.0001.395.000.000220.800.000550.000.0001.670.000.000350.000.000375.000.000125.000.000228.000.000408.000.000400.000.000670.000.000690.000.0001.350.000.000338.000.000480.700.000298.000.000500.000.000163.500.000419.600.000172.000.000479.000.000134.000.000437.000.000437.000.0002.700.000.000279.000.000489.000.000220.000.000338.000.0001.100.000.000190.000.000739.000.000190.000.000450.000.000381.000.000950.000.000545.000.000278.000.000169.000.000462.000.0002.200.000.0001.050.000.000479.000.0001.200.000.000739.000.000790.000.000370.000.000440.000.000298.000.000489.000.000880.000.000167.500.000371.000.000595.000.000490.000.000277.000.000168.000.000680.000.000510.000.000158.000.000310.000.000440.000.000165.000.000399.000.000510.000.000282.150.000520.000.000370.260.000373.000.000285.000.0001.000.000.000277.000.000320.000.000387.000.000212.000.000650.000.0001.350.000.000510.000.000260.000.000158.000.000240.000.000158.000.000145.000.000195.000.000158.000.000420.000.000358.000.000323.000.0003.600.000.000545.000.000230.000.000309.000.000624.750.000437.000.000437.000.000310.000.000680.000.000437.000.000570.000.000338.000.0001.100.000.000200.000.000450.000.000119.000.000870.000.000158.000.000170.000.000739.000.000790.000.000370.000.000288.000.000650.000.000489.000.000462.000.000153.000.000408.000.000980.000.000850.000.000524.000.000750.000.000160.500.000177.000.000540.000.0001.150.000.000134.000.000200.000.000528.000.0001.300.000.000528.000.0002.000.000.0001.950.000.000522.500.000130.000.000119.000.000698.000.000175.000.000131.000.000167.000.000249.000.000255.000.000196.000.000207.000.000256.000.000880.000.000624.750.000196.000.000445.000.000115.000.000276.000.000298.000.000550.000.000196.000.000116.820.000550.000.000950.000.000238.000.000820.000.000120.000.000159.000.0001.600.000.000880.000.000445.000.000196.000.000115.000.000256.000.000624.750.000257.000.0001.490.000.000275.000.000600.000.000667.000.000238.000.000480.000.000370.000.000285.000.000195.000.000680.000.0002.000.000.000249.000.000298.500.000207.000.000210.000.000372.000.000205.000.000295.000.0001.450.000.000420.000.000330.000.000330.000.000330.000.000437.000.000437.000.000116.000.0001.200.000.000387.000.000410.000.000483.000.000510.000.000212.000.000277.000.000320.000.000387.000.000650.000.0001.350.000.000510.000.000260.000.000158.000.000240.000.000158.000.000145.000.000145.500.000280.000.000438.000.000474.500.000380.000.000340.000.000517.500.0001.100.000.000290.000.000380.000.000341.000.000320.000.000295.000.000266.000.000485.000.000260.000.000187.000.000595.000.0001.320.000.000750.000.000750.000.000645.000.000395.500.000420.000.000170.000.000390.000.000285.000.000480.000.000260.000.000590.000.000270.000.000630.000.000765.000.000510.000.000386.000.000253.100.000360.000.000374.500.000415.000.000439.000.000144.000.000462.500.000449.000.000450.000.000872.000.000370.000.000142.500.000146.500.000147.000.000164.000.000325.000.000396.000.000396.000.000430.000.000488.000.000750.000.000406.500.000415.000.000579.000.000660.000.0001.500.000.000900.000.000665.000.000395.000.0002.300.000.000390.000.000260.000.000425.000.000690.000.000600.000.000250.000.000800.000.0001.090.000.000540.000.000810.000.000332.500.000214.000.000670.000.000175.000.00085.000.000332.500.000176.000.000235.000.000249.900.000492.134.0001.400.000.000525.000.000820.000.000695.000.000630.000.0001.600.000.000470.500.000850.000.000370.000.0002.600.000.000800.000.000828.400.000310.000.000160.000.0001.100.000.000365.000.000599.000.000220.000.000350.000.0001.350.000.000250.000.000165.000.000520.000.000950.000.000377.000.000800.000.000820.000.000820.000.000690.000.0002.500.000.000240.000.000650.000.000850.000.0001.150.000.000950.000.000950.000.000120.000.000260.000.000290.000.000600.000.000555.000.000730.000.000500.000.000340.000.000520.000.000750.000.000463.000.0002.300.000.000288.000.000231.298.464450.000.0001.100.000.000250.000.000380.000.000425.000.000750.000.000350.000.0001.200.000.000241.280.000330.000.000232.483.200890.000.000240.000.000486.000.000236.000.000939.275.008220.000.000149.600.000620.000.000487.000.000320.000.000664.320.000265.700.0001.150.000.000455.000.0001.000.000.000155.000.000466.000.000330.000.000796.000.000306.200.000124.000.000580.000.000800.000.000820.000.000650.000.000232.483.200389.649.984450.000.000759.000.000410.000.000950.000.000237.716.992260.000.000245.000.000126.050.0002.849.999.872237.716.992260.000.000245.000.000126.050.0002.849.999.872697.000.000340.000.000950.000.000920.000.000650.000.0005.699.999.744885.000.0001.200.000.000330.000.000283.000.0001.400.000.000135.000.000595.000.000215.000.000520.000.000195.500.000780.000.0001.280.000.000338.000.000580.000.0001.250.000.000350.000.000690.000.000511.000.000650.000.000630.000.000475.000.000420.000.000500.000.000125.000.000200.000.0001.250.000.000780.000.000210.000.000250.000.000112.000.000407.342.016518.000.000530.000.000306.000.000235.000.000255.000.0001.150.000.000700.000.000750.000.000185.000.000290.500.000160.000.000560.000.0001.900.000.000465.000.000560.000.000465.000.000129.000.000365.000.000220.000.0001.300.000.000380.000.000594.000.0001.900.000.0001.690.000.0002.400.000.000320.000.0001.300.000.0002.200.000.0002.500.000.0001.050.000.0001.180.000.000360.000.000590.000.000740.607.900250.000.0002.950.000.0001.180.000.000280.000.000639.000.0002.300.000.000144.000.000890.000.000580.000.0001.350.000.000895.000.0002.600.000.000100.000.000270.000.000670.000.0001.100.000.000245.000.000620.000.000690.000.000800.000.000950.000.0001.600.000.000199.000.000460.000.000270.000.000730.000.000650.000.000540.000.000530.000.000389.000.000650.000.000199.000.000240.000.0005.299.999.744360.000.0001.250.000.000680.000.000950.000.000480.000.000435.000.000520.000.000720.000.000250.000.000520.000.000435.000.000520.000.000720.000.000250.000.000520.000.000260.000.000470.000.000330.000.0001.600.000.000950.000.000490.000.000700.000.0001.100.000.000990.000.0002.500.000.0001.200.000.000245.000.000220.000.000335.000.000140.000.000280.000.000599.000.000185.000.0001.000.000.000850.000.000310.000.000750.000.000223.000.000370.000.000750.000.000590.000.000730.000.000724.460.000499.000.0002.080.000.000320.000.00084.000.000129.800.000332.500.000600.000.000129.800.000670.000.000199.900.0001.250.000.000699.927.0001.500.000.000775.564.000345.000.000206.375.776145.000.000470.000.000332.500.000280.500.000157.200.000650.000.0001.100.000.000235.000.000330.000.000470.500.000497.391.000331.000.000720.000.000160.000.000200.000.000474.000.000320.000.000500.000.000430.000.0002.200.000.000776.000.000400.000.000450.000.000370.000.000370.000.000175.000.000175.000.0001.650.000.000165.000.000950.000.0001.200.000.000850.000.000700.000.000599.000.000330.000.000250.000.000800.000.000358.000.000185.000.000530.000.000350.000.000960.000.000770.000.000460.000.0001.000.000.000455.000.000135.000.000897.000.000323.100.000450.000.000250.000.0001.850.000.000152.000.000259.100.000407.342.016130.000.000168.000.0001.246.000.000500.000.000670.000.0002.470.000.128850.000.000270.000.000665.000.000450.000.0001.025.000.00098.000.000329.000.000400.000.0005.200.000.000340.000.0001.250.000.000949.100.0321.250.000.000628.000.000878.200.000425.000.000440.000.000265.000.000240.000.000315.790.016105.000.0001.000.000.000358.500.000120.000.000650.000.000297.500.000300.000.000560.000.000252.000.000345.000.000550.000.000270.000.000350.000.000350.000.000350.000.000142.000.000249.500.000325.000.000249.000.000298.500.000400.000.0001.330.000.000600.000.000117.000.0001.014.570.000185.000.000185.000.0001.100.000.000470.000.000720.000.0002.095.000.064360.000.0003.200.000.000420.000.000230.000.000233.000.000199.000.000350.000.000320.000.000311.000.000380.000.000100.000.000400.000.000145.000.000474.500.000290.000.000343.000.000620.000.000143.000.000330.000.000430.000.000400.000.0001.170.000.0001.900.000.000875.000.000366.000.000980.000.000478.900.0004.300.000.0001.000.000.000470.000.0001.300.000.000520.000.0001.200.000.0006.160.000.000870.000.000420.000.0001.550.000.0001.500.000.0004.000.000.000340.000.000700.000.0001.390.000.000998.000.000157.000.0001.100.000.000490.000.000875.000.000270.000.000610.000.000450.000.000384.500.0001.010.000.000169.500.000275.000.000462.000.000394.500.000368.000.000382.000.000295.000.000155.000.000404.000.0001.250.000.000395.000.000205.000.000453.500.000262.000.000270.000.000420.000.000162.000.000350.000.000384.000.0001.500.000.000650.000.000250.000.000280.000.000560.000.000200.000.0001.700.000.000500.000.00074.300.000144.000.000140.000.00060.000.000400.000.000320.000.000950.000.0001.900.000.0001.120.000.000550.000.000260.000.000450.000.000440.000.0001.350.000.000480.000.000568.000.000145.000.0003.000.000.000155.000.000320.000.000136.000.000395.000.000860.000.0002.700.000.000390.000.000995.000.000390.000.0001.500.000.000700.000.000470.000.000995.000.000390.000.0001.500.000.000700.000.000470.000.000140.000.0001.700.000.0002.500.000.000750.000.000280.000.000140.000.000850.000.0001.300.000.00090.000.0003.000.000.000500.000.000120.000.0002.500.000.0002.500.000.000998.000.000914.300.000250.000.000850.000.0001.200.000.000280.000.000580.000.000170.000.000237.000.000245.000.000181.000.000520.000.000229.000.000135.000.000800.000.000150.000.000596.000.000870.000.000320.000.0001.690.000.000750.000.000750.000.0001.070.000.0001.250.000.0001.690.000.000680.000.000750.000.000800.000.000700.000.000640.000.000618.000.0001.070.000.000320.000.000120.000.000596.000.000897.000.000610.000.000750.000.000320.000.000310.000.000980.000.000117.000.000127.000.000120.000.0003.627.099.90498.000.0001.450.000.000260.000.000264.710.000262.000.000320.000.000229.000.000360.000.000285.500.000252.000.000252.000.000939.275.008435.000.000240.000.000260.000.000125.000.000230.000.000102.000.000550.000.000265.700.000474.000.000215.000.000176.000.000144.000.000170.000.000500.000.000215.000.000176.000.000144.000.000170.000.000500.000.000232.000.000420.500.000409.500.000480.000.000315.000.000990.000.000670.000.000975.000.0001.600.000.0001.450.000.000633.710.0001.900.000.000743.710.000633.710.0002.400.000.0001.550.000.0008.358.000.000743.710.000834.460.000160.000.000270.000.000570.000.000170.000.000990.000.000398.000.000535.000.000500.000.000240.000.0001.200.000.000310.000.000350.000.000320.000.0001.450.000.0002.200.000.000242.000.000350.000.000400.000.000185.000.000485.000.000494.000.000270.000.0001.200.000.000980.000.0001.350.000.000850.000.000256.000.000340.000.000385.000.0002.900.000.000970.000.0001.350.000.000240.000.0007.000.000.0002.650.000.0001.100.000.0002.700.000.0002.500.000.0001.200.000.000230.000.000540.000.000710.000.000610.000.000170.000.0001.700.000.000240.000.0001.299.000.000900.000.000780.000.0002.500.000.000750.000.000495.000.000650.000.000385.000.0001.400.000.0001.820.000.000460.000.000650.000.0001.250.000.000390.000.000480.000.0001.300.000.000550.000.000280.000.0001.250.000.000140.000.000230.000.000650.000.000790.000.000350.000.000880.000.000750.000.000318.000.0001.100.000.000750.000.0001.100.000.000850.000.000790.000.0001.200.000.0002.150.000.000950.000.000360.000.000550.000.000560.000.000620.000.000540.000.000550.000.000800.000.000950.000.000525.000.000846.000.000635.000.000345.000.000880.000.000960.000.000460.000.0002.400.000.0004.238.000.000380.000.000278.000.000979.999.0001.590.000.000500.000.000850.000.000960.000.000162.000.000400.000.000740.000.0002.250.000.000800.000.000155.000.000580.000.0002.500.000.000357.000.000599.000.0001.950.000.000880.000.000470.000.000147.000.000215.000.0001.700.000.000205.000.000200.000.0003.200.000.000840.000.000567.240.000570.000.000830.000.0001.250.000.000520.000.000890.000.000315.000.000900.000.000335.000.0001.350.000.0002.800.000.000360.000.000450.000.000920.000.000610.000.000950.000.000850.000.000870.000.000280.000.000700.000.000335.000.000550.000.000450.000.000960.000.0001.700.000.000345.000.000485.000.000520.000.000330.000.000750.000.000650.000.000585.000.000750.000.000380.000.0004.000.000.000190.000.000370.000.0001.600.000.000285.000.0001.240.000.000975.000.000410.000.000670.000.000230.000.000345.000.000450.000.000960.000.0006.720.791.000370.000.0003.143.226.0001.833.000.0001.150.000.000399.000.0001.750.000.000340.000.0001.000.000.000330.000.000630.000.000850.000.000850.000.000950.000.0003.950.000.000750.000.000130.000.0002.290.000.000760.000.000800.000.000530.000.000140.000.000380.000.000340.000.000285.000.0002.750.000.000930.000.000820.000.000480.000.000750.000.000400.000.000350.000.0001.160.000.0001.500.000.000460.000.000420.000.000220.000.000285.000.000315.000.000560.000.000220.000.000890.000.000980.000.0001.300.000.000800.000.000650.000.000440.000.000280.000.000430.000.000285.000.000690.000.000220.000.000220.000.000315.000.000220.000.000560.000.000285.000.000410.000.0001.000.000.000350.000.000190.000.000174.000.000680.000.000720.000.000240.000.000468.270.000145.000.000790.000.0003.807.000.0001.000.000.000450.000.000499.000.000360.000.000310.000.00016.000.000.000210.000.0001.200.000.000430.000.000320.000.000375.000.000620.000.000359.000.000400.000.0002.750.000.000425.000.000950.000.000950.000.000600.000.000135.000.000587.000.0001.350.000.000550.000.000630.000.000760.000.000242.000.000615.000.000345.000.000740.000.0001.080.000.000190.000.000255.000.000280.000.000480.000.000350.000.000130.000.000148.000.000155.000.000479.030.000120.800.000134.000.000125.500.000122.000.000148.000.000102.000.000125.000.000125.000.000128.000.000148.000.000129.000.000128.000.000102.000.000131.000.000155.000.000145.000.000153.500.000129.000.000131.000.000125.000.000102.000.000128.500.000145.000.000450.000.000153.500.000129.000.000102.000.000131.000.000129.000.000128.000.000125.000.000155.000.000145.000.000125.000.000102.000.000131.000.000128.500.000145.000.000153.500.000129.000.000148.000.000153.500.000129.000.000450.000.000136.000.000612.000.000159.000.000131.000.000129.690.000130.000.000150.000.000130.000.000129.000.000150.000.000124.000.000150.000.000131.000.000128.000.000125.000.000120.800.000150.000.000102.000.000150.000.000125.500.000122.000.000150.000.000122.000.000120.800.000125.000.000120.800.000134.000.000134.000.000145.000.000130.000.000125.730.000128.000.000145.000.000136.000.000125.000.000155.000.000128.500.000145.000.000129.000.000131.000.000129.000.000129.000.000131.000.000102.000.000130.000.000136.000.000124.000.000130.000.000128.000.000131.000.000136.000.000125.000.000153.500.000129.000.000150.000.000128.000.000127.500.000136.000.000125.500.000130.000.000134.000.000125.000.000125.500.000142.000.000136.000.000125.000.000150.000.000145.000.000125.000.000136.000.000147.300.000128.000.000255.000.000540.000.000240.000.000190.000.000466.000.000498.000.000609.000.000336.000.000730.000.000220.000.0001.150.000.000580.000.000620.000.0001.300.000.000350.000.000670.000.000179.999.999460.000.000651.000.000622.000.000419.999.999280.000.000193.000.000460.000.000179.999.000640.000.000390.000.000536.000.000670.000.000600.000.000136.000.000120.800.000134.000.000134.000.000145.000.000130.000.000125.730.000128.000.000145.000.000120.800.000150.000.000136.000.000125.000.000155.000.000102.000.000150.000.000131.000.000128.500.000145.000.000129.000.000129.000.000120.800.000125.000.000125.000.000153.500.000126.500.000128.500.000155.000.000124.000.000147.300.000380.000.000280.000.000188.000.000770.000.000635.000.000750.000.000600.000.000650.000.000410.000.0001.400.000.000218.000.000449.000.000348.000.0001.300.000.000575.000.0001.380.000.000477.000.000367.500.000251.000.000393.400.000592.000.000165.000.000150.500.000298.000.000140.000.000270.000.000285.000.000500.000.000380.000.000240.000.000685.000.000395.000.000320.000.000360.000.000220.000.000195.000.000345.000.000240.000.000214.000.000370.000.000980.000.000249.000.000534.000.0002.200.000.0001.390.000.0001.700.000.000595.000.000450.000.000180.000.000328.000.000163.500.000460.000.0003.000.000.000408.000.000142.000.000419.600.000116.000.000358.000.000160.500.000442.436.000270.000.000318.000.000298.500.000280.000.000860.000.000116.000.000120.000.0001.100.000.000410.000.000800.000.000516.742.260520.000.000280.000.0001.670.000.0002.000.000.000359.000.0002.900.000.0005.000.000.0001.650.000.0001.070.000.000602.113.626882.532.9461.300.000.000565.000.000995.000.0001.400.000.0002.600.000.000850.000.000480.000.000380.000.0004.600.000.0001.850.000.000750.000.000890.000.000820.000.0001.500.000.000650.000.0001.400.000.000730.000.000460.000.0001.260.000.000416.000.000168.000.000416.000.000510.000.000388.000.000320.000.000319.000.000280.000.000350.000.000261.500.000485.000.000180.000.0001.450.000.000250.000.000408.000.000230.000.000477.000.000280.000.000255.000.000330.000.0001.200.000.000345.000.0002.200.000.000450.000.0003.000.000.000595.000.000260.000.000260.000.000640.000.000385.000.000600.000.000475.000.000825.000.000415.000.000430.000.000460.000.000450.000.0003.500.000.000255.000.000260.000.000261.500.000408.000.000408.000.000116.000.000505.000.000510.000.000167.000.000419.600.000534.000.000445.000.000300.000.000354.000.000299.000.000690.000.000508.000.000442.436.000232.000.000285.000.000277.000.000188.000.000385.000.000489.000.000340.000.000323.000.0001.170.000.000450.000.000580.000.000408.000.000730.000.000280.000.000298.500.000411.000.000270.000.000318.000.000550.000.0001.150.000.0001.200.000.0002.900.000.0002.800.000.000900.000.000290.500.000474.500.0001.100.000.000390.000.000875.000.000375.000.000349.000.0001.300.000.0002.865.000.000406.000.000920.000.000519.000.000500.000.0003.600.000.000280.000.000225.000.000451.000.000350.000.000491.000.0001.550.000.000560.000.0001.250.000.000980.000.0001.250.000.0002.800.000.0002.200.000.0005.500.000.000165.000.000261.500.000405.000.000423.000.000500.000.000550.000.0001.050.000.0001.490.000.000600.000.000273.000.000268.000.000315.000.000458.000.000258.000.000670.000.000274.000.000290.000.000347.000.000346.000.000739.000.000900.000.000316.000.000739.000.000739.000.000350.000.000350.000.000739.000.000528.000.000840.000.0001.000.000.000739.000.000330.000.000418.000.000354.000.000490.000.000980.000.000615.000.0001.500.000.000830.000.0002.500.000.000335.000.0002.150.000.0001.000.000.0001.100.000.000450.000.000980.000.000250.000.0001.800.000.0001.500.000.000295.000.0001.280.000.000920.000.000900.000.000870.000.000750.000.0001.700.000.0001.600.000.000860.000.000116.000.000332.808.000340.000.000411.000.000500.000.0001.550.000.0001.080.000.0002.200.000.0007.500.000.000390.000.000245.000.0002.700.000.0001.000.000.000397.000.0007.000.000.000418.000.000468.000.000422.000.000396.000.0007.200.000.000740.000.000451.000.000350.000.000440.000.000720.000.0001.300.000.0001.300.000.0002.300.000.000900.000.000290.500.000474.500.0002.200.000.000120.000.000116.000.000168.000.0001.150.000.0001.680.000.000680.000.000740.000.0001.850.000.000750.000.000820.000.000890.000.0001.500.000.000460.000.0001.350.000.000435.000.0002.000.000.000145.000.000398.000.000320.000.000950.000.000760.000.000550.000.000450.000.000560.000.000880.000.0001.400.000.000730.000.000650.000.000380.000.000550.000.000416.000.000680.000.000330.000.0002.000.000.000170.000.000390.000.000320.000.000890.000.000450.000.000404.000.000150.000.000850.000.000624.750.000249.000.000142.000.000510.000.000235.000.000950.000.000290.000.000900.000.000180.000.000180.000.000310.000.0001.100.000.000303.960.000303.960.0001.040.000.000350.000.000115.000.000330.000.0002.200.000.000129.000.000205.000.000760.000.000311.000.000739.000.000528.000.000739.000.0001.600.000.0001.300.000.000739.000.000528.000.000134.000.0001.750.000.000350.000.000365.000.000550.000.000330.000.000172.000.000169.000.000250.000.000380.000.000170.000.000210.000.0001.000.000.000311.000.000315.000.000148.000.000190.000.000365.000.000169.000.000177.000.000169.000.000200.000.000190.000.000400.000.000176.000.000177.000.000170.000.000172.000.000241.200.000275.000.000700.000.000690.000.000435.000.000415.000.000190.000.000365.000.000226.000.000116.000.000360.000.000739.000.000739.000.000520.000.000170.000.000510.000.000388.000.000261.500.000485.000.000416.000.000180.000.000230.000.000350.000.000430.000.000550.000.000245.000.000162.000.000680.000.000330.000.000142.000.000119.000.000348.000.000116.000.000119.000.000323.000.000130.000.000130.000.0001.600.000.000228.000.000840.000.000315.000.000325.000.0001.495.000.000397.000.000397.000.000455.000.000575.000.000327.000.000750.000.000272.250.000440.000.000265.000.000510.000.000795.000.000550.000.000785.000.000570.000.000340.000.000475.000.000440.000.000500.000.000450.000.0001.540.000.000171.000.000300.000.0001.250.000.000300.000.000155.000.0001.170.000.000890.000.000130.000.000371.000.000320.000.000217.000.000369.000.000285.000.0003.850.000.000460.000.000530.000.0002.200.000.000499.500.0004.000.000.000138.000.000134.000.000115.500.000126.000.000860.000.000500.000.000634.000.000450.000.000500.000.000500.000.000500.000.000870.000.000680.000.000900.000.000670.000.000245.500.0001.650.000.000630.000.000795.000.000690.000.000499.000.0004.000.000.000199.000.000300.000.0001.200.000.000300.000.0001.170.000.000371.000.0001.250.000.000840.000.000337.110.000130.000.0001.480.000.0001.190.000.000115.000.000285.000.000323.000.000194.000.000323.000.0001.100.000.000670.000.000490.000.000630.000.0003.000.000.000400.000.000300.000.000720.000.000800.000.000508.000.000200.000.000620.000.000168.000.000144.000.000715.000.000850.000.000690.000.000400.000.000550.000.000980.000.000385.000.000380.000.000960.000.000560.000.000175.000.000175.000.000500.000.000225.000.000499.500.000980.000.000500.000.000522.000.000895.000.000140.000.000320.000.000354.000.000186.000.000397.000.000397.000.000397.000.000245.000.000354.000.000397.000.000361.000.000397.000.000397.000.000354.000.000190.000.000420.000.000550.000.000220.000.000500.000.000250.000.000177.000.0001.700.000.000165.000.000850.000.000353.000.000680.000.000400.000.000550.000.0002.600.000.000275.000.000475.000.000355.000.000996.000.000180.000.000121.000.000300.000.000167.000.0001.950.000.000650.000.000530.000.000450.000.000275.000.000550.000.0001.090.000.000210.000.000475.000.000500.000.000735.000.0001.000.000.000290.000.000165.000.000169.000.000176.000.0001.950.000.000144.000.000435.000.000175.000.000390.000.000259.000.000368.000.000310.000.000580.000.000360.000.000278.000.000323.000.000176.500.000278.000.000148.000.000250.000.000295.000.000980.000.000230.000.000950.000.000390.500.000460.000.000545.000.0003.000.000.000460.000.000149.000.000149.000.000700.000.000250.000.000550.000.000498.000.000290.500.000158.000.000337.110.000130.000.000490.000.000800.000.0001.395.000.000250.000.000310.000.000168.000.000600.000.0003.000.000.0002.900.000.000115.000.000194.000.000323.000.000900.000.000950.000.0001.100.000.000285.000.000323.000.000508.000.000720.000.000385.000.000486.000.000255.000.000395.000.0002.000.000.000460.000.000470.000.000190.000.000255.000.000278.000.000400.000.000340.000.000173.500.000525.000.000137.000.000390.500.000180.000.000490.000.000148.000.000278.000.000468.000.000360.000.000255.000.000390.500.000490.000.0001.000.000.000720.000.000265.000.000315.000.000680.000.000730.000.000169.000.000177.000.000177.000.000148.000.000190.000.000380.000.000210.000.0001.040.000.000550.000.000111.000.000217.000.000237.000.000220.000.000322.000.000115.000.000310.000.000134.000.000900.000.000311.000.000149.000.0004.750.000.0003.200.000.0003.200.000.000397.000.000397.000.000397.000.000245.000.000186.000.000354.000.000397.000.000395.000.000390.000.000700.000.0001.250.000.000312.000.000460.000.000475.000.000483.000.000449.500.000173.000.000153.000.000285.000.000173.000.000465.000.000630.000.000849.000.000500.000.000700.000.000475.000.000450.000.0002.600.000.000449.500.0001.250.000.000422.000.000483.000.000350.000.000460.000.000430.000.000550.000.000475.000.000995.000.0004.200.000.000356.000.0001.300.000.000400.000.0002.520.000.000426.000.000390.500.0001.450.000.000491.000.000550.000.0001.000.000.000550.000.000960.000.000353.000.000475.000.000260.000.000515.000.0001.600.000.000255.000.000420.000.0001.800.000.000825.000.000289.900.000449.000.000152.000.000980.000.000860.000.0001.480.000.000870.000.0001.950.000.000148.000.000180.000.0001.158.199.973404.000.000360.000.000315.000.000473.000.000203.000.000203.823.0001.200.000.000143.000.000165.000.000235.000.0001.800.000.000360.000.000275.000.000190.000.000400.000.000145.000.000220.000.000515.000.000468.000.000360.000.000411.000.000535.000.000700.000.000520.000.000515.000.000410.000.000220.000.000144.000.000995.000.000980.000.000820.000.000196.000.000535.000.0001.250.000.000255.000.000475.000.000330.000.000295.000.000475.000.000116.000.000377.900.000310.000.000490.000.0002.000.000.000196.000.000560.000.000113.000.000419.000.000345.000.000136.600.000360.000.000550.000.0001.036.000.000700.000.000295.000.000522.500.000225.000.000275.000.000830.000.000420.000.000167.000.000550.000.000422.000.000356.000.000385.000.000175.000.000245.000.000700.000.000245.000.000910.000.000895.000.0001.600.000.000242.550.000242.550.000580.000.000700.000.000149.000.000430.000.000780.000.000850.000.000500.000.000203.823.000390.000.000330.000.000241.200.000490.000.0001.050.000.000850.000.000500.000.000458.000.000404.000.000795.000.000196.000.000419.600.000825.000.000290.000.000196.000.0001.050.000.0001.150.000.000430.000.000482.000.000630.000.000345.000.000390.000.000700.000.000458.000.000142.800.000372.000.0001.050.000.000408.000.000220.000.0001.700.000.000365.000.000515.000.000357.000.000500.000.000155.000.000700.000.000330.000.000170.000.000180.000.000180.000.000180.000.0001.200.000.0001.850.000.000180.000.000449.000.000255.000.000420.000.000590.000.0001.500.000.000350.000.000620.000.000500.000.000422.000.000134.000.000870.000.000360.000.000489.000.000680.000.000322.000.000300.000.000475.000.000750.000.000390.000.000496.000.000327.000.000265.000.000500.000.000440.000.0001.540.000.000870.000.0001.195.000.000585.000.000400.000.000735.000.000390.000.000390.000.000530.000.000390.000.0001.250.000.000630.000.000456.000.000228.000.000180.000.000470.000.000550.000.000415.000.000380.000.000136.000.000900.000.000995.000.000476.500.000460.000.000155.000.000390.000.000259.000.000368.000.000580.000.000278.000.000323.000.000176.500.000472.000.0001.290.000.000380.000.000710.000.000750.000.000272.250.000310.000.000144.000.000435.000.0001.950.000.000175.000.000520.000.000456.000.000168.000.000950.000.000390.500.000250.000.000460.000.000353.000.000585.000.000488.000.000397.000.000720.000.0001.000.000.0001.150.000.000465.000.000390.000.000535.000.000700.000.000483.000.000449.500.0001.250.000.000460.000.000422.000.000475.000.000475.000.000450.000.0002.600.000.0001.250.000.000390.500.000400.000.000356.000.0001.300.000.000491.000.000550.000.0002.900.000.000850.000.000330.000.000995.000.000203.823.000390.000.000230.000.000600.000.000187.000.000687.000.000419.600.000165.000.000399.000.000510.000.000282.150.000520.000.000370.260.000129.000.000550.000.000487.000.000749.000.000373.000.000153.000.000550.000.000516.000.000322.000.000900.000.000354.000.000650.000.000393.000.000210.000.000144.000.000323.000.000270.000.0001.050.000.0001.250.000.0001.000.000.000230.000.000190.080.000150.000.000640.000.000372.000.000460.000.000550.000.000449.000.000354.000.0003.100.000.000830.000.000310.000.000450.000.000490.000.000380.000.0001.500.000.000470.000.000491.000.000390.000.000460.000.000390.000.000270.000.0001.800.000.000430.000.000550.000.000825.000.000475.000.000995.000.000650.000.000610.000.000152.000.000280.000.000820.000.000260.000.000390.000.000153.000.0001.615.000.000520.000.000475.000.000242.550.000255.000.0001.200.000.000491.000.000400.000.000390.500.000390.500.000475.000.0001.550.000.0001.150.000.0001.050.000.000522.500.000245.000.000630.000.000330.000.0001.050.000.000408.000.000870.000.000409.000.000510.000.000482.000.000430.000.000535.000.000372.760.0001.380.000.000450.000.000440.000.0001.600.000.000280.000.000320.000.000390.000.000177.000.000825.000.0001.550.000.000175.000.000167.000.000153.000.000428.000.000530.000.000358.000.000256.000.000525.000.000153.000.000475.000.000210.000.000365.000.000335.000.000520.000.000550.000.000365.000.000116.000.000265.000.000290.000.000250.000.000360.000.0001.350.000.000375.000.000500.000.000780.000.000667.000.000496.000.000372.000.000295.000.000420.000.000330.000.000330.000.000205.000.000116.000.000437.000.000437.000.000330.000.0001.450.000.000365.000.000830.000.000450.000.000530.000.000290.500.000266.000.0002.550.000.000528.000.000130.000.0001.700.000.000980.000.000629.000.000430.000.000360.000.000220.800.0001.050.000.000850.000.000830.000.000220.800.000500.000.000458.000.000196.000.000196.000.000560.000.000113.000.000345.000.0001.036.000.000377.900.000475.000.000310.000.000475.000.000490.000.0002.000.000.000255.000.000550.000.0001.250.000.000700.000.000295.000.000330.000.000630.000.000142.800.000372.000.0001.050.000.000408.000.000345.000.000390.000.000700.000.000458.000.000680.000.000330.000.000158.000.000510.000.000387.000.000310.000.000455.000.000580.000.000739.000.000335.000.000462.000.0001.100.000.000620.000.000880.000.0002.200.000.0001.050.000.0001.200.000.000595.000.000479.000.000371.000.000347.000.000489.000.000298.000.000207.000.000167.000.000850.000.0001.400.000.000601.000.000483.000.000422.000.000350.000.000404.000.000398.422.000285.000.0002.200.000.0001.250.000.000130.000.000130.000.000479.000.000270.000.0001.050.000.000354.000.000900.000.000129.000.000550.000.000153.000.000550.000.000516.000.000650.000.000749.000.000322.000.000487.000.000260.000.000490.000.000322.000.0001.100.000.000370.000.000990.000.000520.000.0001.050.000.000180.000.000381.000.000285.000.000440.000.000277.000.000168.000.000300.000.000145.000.000850.000.000155.000.000587.000.000450.000.000290.000.000385.000.000137.000.0001.100.000.000119.000.000450.000.000870.000.000158.000.000152.000.000177.000.000525.000.000570.000.000167.500.000880.000.000950.000.000116.000.0001.200.000.000298.000.0001.290.000.000800.000.000127.000.000130.000.0002.180.000.000380.000.0001.100.000.000153.000.000160.500.000112.000.000524.000.000750.000.0002.550.000.000385.000.000408.000.000870.000.000158.000.000850.000.000119.000.000450.000.000170.000.000570.000.000920.000.000620.000.000119.000.0002.700.000.000550.000.000980.000.000440.000.000130.000.000460.000.000380.000.000180.000.000560.000.000895.000.000380.000.0001.200.000.000299.900.000330.000.000530.000.000340.000.000300.000.000195.000.000800.000.000660.000.000990.000.0001.100.000.0006.500.000.000800.000.000258.000.000130.000.000540.000.000480.000.000500.000.000500.000.0004.729.592.0005.500.000.000470.000.0001.400.000.000620.000.000580.000.000400.000.0004.000.000.0001.050.000.000650.000.000920.000.000920.000.000295.000.000269.500.000350.000.000950.000.000420.000.000491.000.000650.000.000495.000.000420.000.000234.000.000189.000.000950.000.000686.000.0001.100.000.0001.750.000.000434.000.000331.000.008700.000.000336.000.000700.000.000950.000.000265.200.000190.000.000425.000.000390.000.000338.000.000165.000.000269.500.000150.500.000450.000.000850.000.000370.000.000635.000.000790.000.000340.000.000320.000.000215.000.000423.000.0001.200.000.000430.000.000380.000.008700.000.000370.000.000718.000.000339.800.000450.000.000635.000.000215.000.000820.000.000339.800.0001.200.000.000450.000.000430.000.0081.200.000.000299.900.000330.000.000340.000.000530.000.000300.000.000195.000.000800.000.000990.000.000660.000.0006.500.000.000800.000.000258.000.0001.100.000.0001.400.000.000500.000.000480.000.000540.000.000470.000.0004.729.592.0005.500.000.000130.000.000500.000.000422.000.000167.000.0001.100.000.000298.000.000650.000.000686.000.0001.750.000.000434.000.000350.000.000420.000.000620.000.000495.000.000405.000.0001.300.000.000650.000.000150.000.000330.000.000400.000.000250.000.000920.000.000650.000.0001.630.000.000546.000.000548.000.000495.000.0004.000.000.000269.500.000234.000.000189.000.000420.000.000495.000.000920.000.000150.000.000330.000.000495.000.000650.000.000950.000.0001.050.000.000189.000.000295.000.000269.500.000920.000.000420.000.000950.000.000500.000.000580.000.0002.400.000.000189.000.000818.000.000950.000.000350.000.000165.000.000530.000.000550.000.000880.000.000182.000.000700.000.000980.000.000650.000.000398.000.000385.000.000340.000.000580.000.000140.000.000380.000.000470.000.000545.000.000337.000.000580.000.000500.000.000498.000.000820.000.000116.000.000131.000.000175.000.000460.000.000170.000.000470.000.0001.300.000.000235.000.000289.000.000425.000.000535.000.000598.000.0001.450.000.000534.000.000860.000.000500.000.000800.000.000330.000.000800.000.000330.000.000535.000.000575.000.000120.000.000380.000.000160.000.000146.500.000230.000.000115.000.000780.000.000474.000.000125.500.000519.000.0001.200.000.000720.000.000330.000.000328.000.000110.533.500132.000.0003.960.000.000199.000.000125.000.000375.000.000215.000.000397.000.000263.000.000146.000.000205.000.000139.000.000265.000.000218.000.000428.000.000500.000.000132.000.000110.533.500199.000.000490.000.000380.000.000520.000.000470.000.000370.000.000380.000.0001.300.000.000260.000.000711.000.000450.000.000340.000.000800.000.000132.000.0001.200.000.000128.000.000530.000.000370.000.000620.000.000525.000.000510.000.0001.100.000.000230.000.000395.000.000860.000.000500.000.000800.000.000330.000.000535.000.000575.000.000230.000.000115.000.000780.000.000474.000.0001.200.000.000720.000.000125.500.000397.000.000330.000.000519.000.000215.000.000263.000.000375.000.000125.000.000146.500.000160.000.000380.000.000120.000.000110.533.500205.000.000328.000.000450.000.000428.000.000218.000.000146.000.000139.000.000132.000.000199.000.000500.000.000490.000.0003.960.000.000250.000.000380.000.000850.000.000265.000.000260.000.0001.300.000.000380.000.000520.000.000450.000.000470.000.000370.000.000711.000.000340.000.000800.000.000132.000.0001.200.000.000128.000.000530.000.000205.000.000445.000.000380.000.000889.698.927270.000.000360.000.000450.000.000298.000.000260.000.00098.000.000187.000.000134.000.000117.000.000200.000.000285.000.000215.000.000244.000.000262.000.000500.000.000468.000.000290.000.000330.000.000116.000.000297.000.000242.000.000327.000.000257.000.000465.000.000337.000.000398.422.000163.000.000257.000.000477.000.000298.500.000131.000.000167.000.000380.000.000110.000.000355.000.000160.000.000222.000.000180.000.000407.000.000154.000.000357.000.000152.000.000187.000.000105.000.000154.000.000124.000.000145.660.000152.000.000245.000.00082.000.000396.000.000132.000.000170.000.000250.000.000340.000.000490.000.000328.000.000199.000.000120.000.000121.000.000110.000.000558.000.000150.000.000330.000.000191.070.000230.000.000180.000.000365.000.000133.000.000136.620.000171.000.000118.500.000186.000.000116.000.000500.000.00092.500.000188.000.000146.000.000200.000.000172.000.000168.000.000129.500.000159.000.000418.000.000423.000.000126.000.000448.000.000162.000.000145.000.000133.000.000152.000.000135.000.000167.000.000230.000.000127.500.000408.000.000290.000.000266.000.000278.000.000143.500.000145.530.000159.000.000186.000.000109.000.000177.000.000340.000.000205.000.000200.000.000142.000.000180.000.000397.000.000153.000.000275.000.000118.000.000320.000.000189.000.000480.700.000445.000.000292.000.000450.000.000240.600.000380.000.000133.000.000152.000.000151.500.000500.000.000327.000.000138.000.000204.930.000116.820.000245.000.000442.436.000348.000.000277.000.000126.000.000205.000.000440.000.000251.000.00099.000.000154.000.000172.000.000249.000.000310.000.000202.000.000369.000.000184.500.00084.150.000134.000.000306.000.000170.000.000295.000.000353.000.000270.000.000177.000.000312.000.000270.000.000202.000.000138.000.000327.000.000116.820.000295.000.000296.000.000204.930.000171.000.000186.000.000120.000.000205.000.000440.000.000500.000.000350.000.000167.000.000251.000.000205.000.000225.000.000176.000.000505.000.000280.000.000262.000.000500.000.000468.000.000290.000.000330.000.000116.000.000297.000.000242.000.000327.000.000257.000.000465.000.000337.000.000244.000.000398.422.00098.000.000187.000.000200.000.000285.000.000215.000.000134.000.000117.000.000163.000.000257.000.000477.000.000182.000.000200.000.000141.000.000170.000.000390.000.000320.000.000180.000.000131.000.000171.000.000298.500.000141.000.000320.000.000125.000.000185.000.000126.000.000145.500.000163.500.000332.000.000210.000.000177.000.000180.000.000610.000.000193.000.000152.000.000160.000.000133.000.000190.000.000153.000.000127.500.00095.000.000322.000.000150.000.000115.000.000162.000.000280.000.000129.000.000140.000.000212.000.000123.000.000138.000.000280.000.000162.000.000182.000.000200.000.000110.000.000115.000.000114.000.000380.000.000165.330.000450.000.000160.000.000143.000.000375.000.000292.000.000230.000.000408.000.000290.000.000320.000.000180.000.000153.000.000278.000.000175.000.000397.000.000240.600.000118.000.000275.000.000482.000.000108.000.000234.000.000125.000.000152.000.000133.000.000380.000.000145.000.000145.000.000365.000.000146.000.000180.000.000171.000.000188.000.000133.000.000136.620.000116.000.000500.000.000118.500.000186.000.00092.500.000496.000.000634.000.000350.000.000126.000.000277.000.000185.869.000186.000.000177.000.000205.000.000440.000.000442.436.000348.000.000500.000.000165.000.000309.000.000138.000.000208.000.000300.000.000483.000.000158.000.000110.500.000103.000.000300.000.000102.000.000309.000.000297.000.000182.000.000190.000.000450.000.000132.000.000119.000.000260.000.000200.000.000131.000.000160.000.000112.000.000253.500.000246.000.000510.000.000127.000.000250.000.000136.600.000270.000.000144.000.000197.000.000249.500.000141.000.000387.000.000300.000.000270.000.000119.000.000265.000.000166.000.000181.000.000190.000.000148.000.000560.000.000400.000.0002.000.000.000550.000.000800.000.000700.000.000340.000.000550.000.000450.000.000195.000.000750.000.000240.000.000450.000.000390.000.0001.500.000.000155.000.000320.000.000780.000.000200.000.000560.000.000800.000.000660.000.000380.000.0001.200.000.000155.000.000460.000.000550.000.000800.000.000700.000.000195.000.0001.100.000.000920.000.000150.000.000210.000.000195.000.000133.000.000120.000.000255.000.0001.700.000.000130.000.000180.000.000750.000.000420.000.000265.000.000140.000.0001.400.000.000320.000.000170.000.000420.000.000630.000.000290.000.000750.000.0001.400.000.000120.000.000133.000.000255.000.000130.000.000180.000.000140.000.000420.000.000265.000.000168.000.000295.000.000250.000.000160.000.000300.000.0001.400.000.000500.000.000300.000.000134.999.998280.000.000420.000.000260.000.000140.000.000290.000.0001.300.000.0001.080.000.000145.000.000190.000.000180.000.000450.000.000990.000.0001.900.000.000200.000.000320.000.000300.000.000600.000.000900.000.000320.000.000250.000.000750.000.000160.000.000230.000.0001.350.000.000395.000.000600.000.000150.000.000620.000.000690.000.0001.300.000.0001.590.000.000220.000.000230.000.000340.000.0001.500.000.0001.050.000.000850.000.0001.700.000.0001.650.000.000539.000.000400.000.000165.000.000290.000.000295.000.000250.000.000140.000.000420.000.000300.000.000134.999.998260.000.000280.000.000300.000.0001.400.000.0002.200.000.000700.000.000930.000.000160.000.000500.000.000450.000.000390.000.0001.080.000.000990.000.000145.000.000780.000.0001.900.000.0001.000.000.000320.000.000990.000.000300.000.000160.000.000750.000.000230.000.0001.050.000.0001.350.000.000560.000.0001.850.000.000350.000.000670.000.000370.000.000280.000.000430.000.000450.000.000505.000.000430.000.000450.000.0001.300.000.0001.590.000.000320.000.000320.000.000395.000.000600.000.000900.000.000250.000.000300.000.000780.000.000162.000.0001.590.000.000340.000.0001.500.000.000220.000.000850.000.000780.000.000115.000.000200.000.000550.000.000430.000.000600.000.000465.000.000650.000.000400.000.0001.200.000.000398.000.000160.000.000680.000.000330.000.000649.000.000700.000.000820.000.000180.000.000390.000.0001.080.000.000990.000.000145.000.000190.000.000450.000.000125.000.000580.000.000535.000.0001.350.000.000190.000.000150.000.0001.100.000.000750.000.000180.000.0001.900.000.000750.000.000880.000.000110.000.0001.050.000.000230.000.000240.000.000660.000.000160.000.000170.000.000460.000.000190.000.000540.000.000700.000.000197.000.000130.000.000680.000.000820.000.000649.000.000180.000.000430.000.000470.000.000187.000.0001.100.000.0001.500.000.000490.000.000370.000.000320.000.000275.000.0001.800.000.000320.000.000380.000.000700.000.000230.000.000290.000.0001.150.000.000115.000.000200.000.000470.000.000550.000.000300.000.000650.000.000230.000.000670.000.000355.000.000430.000.000680.000.000330.000.000950.000.000398.000.000465.000.000600.000.000670.000.000360.000.000580.000.000260.000.000550.000.000185.000.000163.000.000665.000.000750.000.000312.000.000300.000.0001.050.000.000460.000.000560.000.000197.000.000580.000.000535.000.0001.350.000.000180.000.0001.900.000.000600.000.000280.000.000140.000.000160.000.000170.000.000660.000.000230.000.000240.000.000110.000.000540.000.0003.500.000.000188.000.000848.000.0001.150.000.000510.000.000310.000.000145.000.000699.000.000490.000.000200.000.000300.000.000196.000.000570.000.000330.000.000480.000.0001.500.000.000900.000.000480.000.0001.100.000.000698.000.0001.300.000.000400.000.000330.000.000650.000.000340.000.0002.000.000.000155.000.000750.000.000155.000.000760.000.000700.000.000430.000.000160.000.000550.000.000465.000.000600.000.000580.000.000398.000.000330.000.000312.000.000560.000.000490.000.000200.000.000650.000.000900.000.0001.850.000.000130.000.000320.000.000150.000.000190.000.000800.000.000190.000.0001.550.000.000400.000.000650.000.000135.000.000550.000.000700.000.0001.600.000.0001.500.000.000205.000.000649.000.000150.000.000230.000.000730.000.000200.000.000205.000.000430.000.000610.000.000260.000.0001.800.000.0001.300.000.000520.000.000650.000.0001.600.000.0001.300.000.0001.500.000.000430.000.000185.000.000310.000.000400.000.000650.000.000135.000.000240.000.000190.000.000130.000.0001.550.000.000250.000.000390.000.000320.000.000185.000.000310.000.000390.000.000250.000.000500.000.000550.000.000700.000.000649.000.000820.000.000700.000.000150.000.000530.000.000780.000.000286.500.0001.150.000.000650.000.000115.000.000850.000.0001.400.000.000160.000.000520.000.000270.000.000700.000.000200.000.000150.000.000730.000.000230.000.000390.000.0001.300.000.000350.000.000130.000.000390.000.000190.000.0001.550.000.000365.000.000220.000.000310.000.000400.000.000650.000.000135.000.000700.000.0001.600.000.000165.000.000620.000.0001.850.000.000240.000.000800.000.000300.000.000185.000.000290.000.000430.000.000550.000.000650.000.000150.000.000230.000.000700.000.000730.000.000600.000.000290.000.000205.000.000560.000.0001.500.000.000390.000.000200.000.000380.000.000450.000.000155.000.000460.000.000610.000.000800.000.000210.000.000320.000.000195.000.0001.100.000.000920.000.000340.000.000550.000.0002.000.000.000155.000.000150.000.000780.000.000660.000.000550.000.000400.000.000170.000.000420.000.000355.000.000650.000.000600.000.000805.000.000200.000.000850.000.000170.000.000335.000.000250.000.000850.000.000215.000.0001.200.000.000950.000.000510.000.000480.000.000480.000.000235.000.000600.000.000649.999.999650.000.0001.300.000.000300.000.000290.000.000210.000.000125.000.000440.000.000600.000.000175.000.000900.000.000125.000.0001.200.000.000145.000.000130.000.000500.000.000200.000.000590.000.000400.000.000365.000.000130.000.000137.000.000550.000.000185.000.0001.100.000.000430.000.000375.000.000110.000.000110.000.000150.000.000560.000.000468.000.000130.000.0001.950.000.000668.000.000180.000.000400.000.000700.000.000200.000.000340.000.000349.000.000850.000.000300.000.000550.000.0001.300.000.000150.000.000350.000.000430.000.000500.000.000145.000.000600.000.000850.000.0001.700.000.0001.650.000.000539.000.000400.000.000165.000.000290.000.000295.000.000250.000.000140.000.000420.000.000300.000.000134.999.998260.000.000280.000.000300.000.0001.400.000.0002.200.000.000700.000.000930.000.000160.000.000500.000.000450.000.000390.000.0001.080.000.000470.000.000600.000.000320.000.000700.000.000180.000.000850.000.000155.000.000164.000.000490.000.000410.000.000750.000.000130.000.000550.000.000177.600.000560.000.000780.000.000380.000.000160.000.0001.700.000.0001.050.000.000650.000.000170.000.0001.301.265.0001.200.000.000155.000.000185.000.000190.000.000200.000.000190.000.000500.000.000170.000.000155.000.000180.000.000230.000.000380.000.000280.000.000320.000.000320.000.0001.170.000.000450.000.000650.000.000800.000.000245.000.0001.100.000.000850.000.000540.000.000210.000.000225.000.000350.000.000210.000.000310.000.000225.000.000160.000.000170.000.000500.000.000400.000.000110.000.000550.000.000510.000.000950.000.000890.000.000720.000.000480.000.000169.000.000378.000.000290.000.000355.000.000550.000.000170.000.000600.000.000200.000.000630.000.000285.000.000520.000.000170.000.000560.000.000410.000.000800.000.000175.000.000270.000.000140.000.0001.000.000.000120.000.000478.900.000260.000.000650.000.0002.600.000.000170.000.000420.000.000700.000.000380.000.000170.000.000385.000.000530.000.0001.300.000.000160.000.000580.000.000820.000.000180.000.0002.350.000.000948.000.000260.000.000360.000.000385.000.000250.000.000165.000.000308.000.000330.000.000128.000.000850.000.000153.500.000450.000.000530.000.000520.000.000400.000.000600.000.0003.500.000.000400.000.000360.000.000300.000.000850.000.000500.000.000350.000.000750.000.000450.000.000670.000.000270.000.000180.000.000270.000.000450.000.000175.000.000550.000.000140.000.000478.900.000250.000.000800.000.000400.000.000110.000.000230.000.000450.000.000380.000.000530.000.000160.000.000400.000.0001.170.000.000320.000.000153.500.000290.000.000245.000.0003.500.000.000660.000.000230.000.000240.000.000110.000.000540.000.000700.000.000685.000.000180.000.000450.000.000880.000.000230.000.000550.000.000560.000.000120.000.000220.000.000420.000.000190.000.000180.000.000450.000.000180.000.0001.300.000.0001.100.000.000750.000.000310.000.000300.000.000848.000.000145.000.000699.000.000196.000.000570.000.0001.300.000.000200.000.000515.000.000680.000.000155.000.000400.000.000320.000.000140.000.000450.000.0001.300.000.000820.000.000350.000.000530.000.000600.000.000710.000.000168.000.000280.000.000520.000.0001.400.000.000250.000.0001.000.000.000600.000.000130.000.000120.000.000460.000.000620.000.0001.050.000.000240.000.000135.000.000120.000.000135.000.000550.000.000700.000.0001.600.000.0001.500.000.000165.000.000750.000.0001.120.000.000330.000.000620.000.0002.000.000.000155.000.000245.000.000240.000.0001.300.000.000400.000.000220.000.000365.000.000340.000.000480.000.000480.000.0001.100.000.000698.000.000785.000.000700.000.000155.000.0001.000.000.0001.200.000.000300.000.000550.000.000730.000.000135.000.000250.000.000800.000.000660.000.000380.000.000600.000.000480.000.000485.000.000385.000.000500.000.0001.600.000.000309.000.000260.000.0001.300.000.000340.000.000400.000.000590.000.0001.200.000.000550.000.000680.000.000330.000.000240.000.0001.200.000.000240.000.000310.000.000430.000.000198.000.000120.000.000750.000.000155.000.0001.820.000.000420.000.000900.000.000370.000.000230.000.000480.000.000450.000.000380.000.000370.000.000210.000.000850.000.000340.000.000420.000.000497.000.000340.000.000174.999.999430.000.0001.300.000.000240.000.000300.000.000430.000.000300.000.000850.000.000900.000.000420.000.000120.000.0001.000.000.000850.000.000690.000.000250.000.000174.999.9991.250.000.000250.000.000198.000.000850.000.000340.000.000497.000.000420.000.000999.000.000240.000.0001.200.000.000125.000.000380.000.000300.000.000250.000.000485.000.000159.000.000135.000.000302.800.000370.000.000359.000.000279.000.000222.000.000379.000.000465.000.000720.000.000515.000.000640.000.000266.000.000720.000.000640.000.000275.000.000195.000.000165.000.000410.000.000300.000.000650.000.000635.000.000550.000.000140.000.000230.000.000445.000.000270.000.000150.000.000160.000.000440.000.000285.000.000250.000.000600.000.000320.000.000210.000.000780.000.000310.000.000290.000.000410.000.000460.000.000361.000.000395.000.000468.000.000234.000.000285.000.000250.000.000600.000.000361.000.000460.000.000320.000.000290.000.000410.000.000310.000.000210.000.000780.000.000570.000.0002.500.000.000200.000.000270.000.000360.000.000480.000.000590.000.0001.600.000.000850.000.000230.000.000330.000.000800.000.000560.000.000430.000.000265.000.000133.000.000950.000.000275.000.000519.000.0001.100.000.000650.000.000140.000.0001.200.000.000285.000.000250.000.000320.000.000361.000.000460.000.000600.000.000290.000.000410.000.000310.000.000210.000.000780.000.000550.000.000550.000.000180.000.0001.700.000.000252.000.000145.000.000340.000.000175.000.000490.000.000128.000.000165.000.000440.000.000410.000.000850.000.000158.000.0001.950.000.000275.000.000560.000.000225.000.000145.000.000185.000.000116.100.000550.000.000117.000.000260.000.000890.000.000180.000.0001.500.000.000500.000.000300.000.000380.000.000485.000.000360.000.000640.000.000195.000.000565.000.000650.000.000560.000.000596.614.000373.226.000389.708.000456.742.000596.614.000389.708.000373.226.000495.000.000850.000.000900.000.000389.708.000214.900.000347.429.519365.000.000422.000.000580.000.000560.000.0001.030.000.000450.000.000340.200.000150.000.000171.171.000350.000.000420.000.000272.000.000162.000.000255.000.000255.000.000340.000.000405.000.000210.000.000109.385.000395.000.000210.000.000189.600.000190.000.000420.000.000340.000.000500.000.000343.000.000177.000.000281.000.000260.000.0001.690.000.0002.101.242.0001.050.000.000150.000.000456.820.992167.700.000182.800.000192.800.000189.000.000300.000.000410.000.000342.000.000398.800.000300.000.000599.000.000595.000.0001.150.000.138790.000.00010.451.500.0001.995.000.0461.573.191.375406.000.000320.000.000267.000.000450.000.000135.000.00095.000.000160.000.000405.000.000320.000.000405.000.000320.000.000340.000.000109.385.000260.000.000425.000.000515.000.000256.500.000325.000.000340.000.000180.000.000239.000.000345.000.000202.000.000127.000.000175.000.0002.515.535.000650.000.000439.516.0001.000.000.000360.000.000370.000.0001.300.000.000680.000.000450.000.000382.000.000180.000.000222.000.000202.000.000463.000.000420.000.000375.000.000835.000.000460.000.000550.000.000320.000.000330.000.000128.000.000117.000.000260.000.000477.000.0001.600.000.000510.000.000473.000.000485.000.000580.000.000310.000.000180.000.000250.000.000310.000.000200.000.000790.000.000950.000.0005.000.000.0001.100.000.0001.800.000.000550.000.000410.000.000155.000.0001.100.000.0001.000.000.000185.000.000180.000.000138.000.000180.000.000193.000.000650.000.000601.000.0001.310.000.000185.000.000163.000.000355.000.000205.000.000177.500.000370.000.000435.000.000395.000.000195.000.000140.000.000210.000.000810.000.0001.380.000.000700.000.000475.000.000182.000.000355.000.000457.000.000355.000.000120.000.000340.000.000280.000.000453.500.000210.000.000600.000.000210.000.000230.000.000195.000.000202.000.000195.000.000190.000.000470.000.000355.000.000245.000.000453.500.000370.000.000330.000.000150.000.000255.000.000280.000.000324.000.000166.000.000260.000.000453.500.000650.000.000750.000.000190.000.000202.000.000205.000.000205.000.000870.000.000109.000.000205.000.0002.133.000.000202.000.000166.000.000320.000.000120.000.000415.000.000453.500.000400.000.000550.000.0002.800.000.000355.000.000166.000.000185.000.000166.000.000453.500.000353.000.000222.000.000409.000.000463.000.000280.000.000450.000.000629.000.000280.000.000310.000.000125.000.000340.000.000450.000.000650.000.000870.000.000850.000.000434.000.000220.000.0004.100.000.000389.708.000214.900.000142.000.000370.000.000135.000.0001.400.000.000184.500.000142.000.000800.000.000485.000.000380.000.000515.000.000260.000.000460.000.000630.000.000850.000.0002.100.000.000776.000.000650.000.000300.000.000410.000.000342.000.000398.800.000300.000.000599.000.000595.000.0001.150.000.138790.000.00010.451.500.0001.995.000.0461.573.191.375406.000.000320.000.000267.000.000450.000.000135.000.00095.000.000160.000.000405.000.000320.000.000405.000.000320.000.000340.000.000109.385.000260.000.000425.000.000515.000.000256.500.000325.000.0001.100.000.000795.000.000120.000.0001.937.500.000440.000.0002.300.000.000340.000.0001.368.000.0001.368.000.000210.000.000220.000.000650.000.000350.000.000220.000.000300.000.000113.000.000380.000.000450.000.000190.000.000423.000.000193.000.000340.000.0001.800.000.000180.000.000205.000.000239.000.000345.000.000202.000.000127.000.000175.000.0002.515.535.000650.000.000202.000.000222.000.000463.000.000180.000.000439.516.0001.000.000.000360.000.0001.300.000.000680.000.000450.000.000370.000.0001.100.000.000310.000.000310.000.000200.000.000180.000.000580.000.000180.000.000155.000.0001.000.000.000185.000.0001.100.000.000180.000.000138.000.000355.000.000457.000.000210.000.000700.000.000182.000.000177.500.000475.000.000355.000.000475.000.000810.000.0001.380.000.000355.000.000222.000.000195.000.000230.000.000195.000.000195.000.000700.000.000475.000.000182.000.000355.000.000457.000.000355.000.000120.000.000340.000.000280.000.000453.500.000210.000.000600.000.000210.000.000230.000.000195.000.000202.000.000195.000.000195.000.000225.000.000166.000.0001.300.000.000225.000.000166.000.000185.000.000222.000.000149.000.000163.000.000410.000.000211.000.000353.000.000163.000.000600.000.000210.000.000340.000.000410.000.000210.000.000280.000.000453.500.000353.000.000166.000.000166.000.0001.300.000.000202.000.000210.000.000355.000.000245.000.000166.000.000370.000.000453.500.000166.000.000205.000.000270.000.000170.000.000276.000.000463.000.000850.000.000355.000.000210.000.000463.000.000860.000.000353.000.000202.000.000320.000.000650.000.000280.000.000324.000.000453.500.000166.000.000255.000.000245.000.000195.000.000195.000.000195.000.000249.000.000275.000.000170.000.000550.000.0006.400.000.000233.000.000420.000.000990.000.000435.000.000355.000.0001.200.000.000291.000.000695.000.000260.000.000150.000.016990.000.000599.000.000260.000.000150.000.016990.000.000958.000.000276.000.000195.000.000700.000.000245.000.000175.000.000420.000.000300.000.000800.000.000380.000.000340.000.000520.000.000230.000.000980.000.000630.000.000341.550.000502.000.000160.000.000399.000.000445.900.000419.990.000281.900.0002.000.000.0001.300.000.000286.000.0001.550.000.000286.000.000420.000.000375.000.0002.500.000.0003.000.000.000710.000.000312.000.000207.400.000850.000.0001.150.000.0001.590.000.000530.000.0001.750.000.000385.000.0001.200.000.0001.080.000.000560.000.000330.000.000730.000.000760.000.000495.000.000540.000.000540.000.000695.000.0003.961.962.0002.317.500.0001.000.000.000390.000.000295.000.0002.317.500.0001.000.000.0003.961.962.0002.200.000.000950.000.000600.000.000495.000.000340.000.0001.300.000.000756.000.0001.400.000.000850.000.000223.000.000460.000.000435.000.000394.000.000450.000.000720.000.000890.000.000518.990.0001.900.000.000780.000.000460.000.000590.000.000470.000.000550.000.000899.800.000780.000.000785.000.0002.499.900.0001.800.000.000690.000.000388.900.0001.550.000.0001.850.000.000510.000.000526.000.0002.200.000.0001.500.000.000175.000.000549.990.000354.000.0002.500.000.000520.000.000750.000.0001.300.000.000530.000.000630.000.000795.000.0001.700.000.000529.000.000850.000.0002.550.000.000350.000.000795.000.0001.550.000.000425.000.000460.000.000170.000.000160.000.000980.000.000270.000.000650.000.000267.000.000487.000.000389.000.000375.000.000370.000.000420.000.0001.490.000.000245.000.000690.000.000369.990.000385.000.000550.000.000399.000.000160.000.000445.900.000419.990.000281.900.0002.000.000.0001.300.000.000286.000.000375.000.0003.000.000.0002.500.000.0001.550.000.000420.000.000286.000.0003.690.000.000500.000.0003.000.000.0001.300.000.0001.350.000.000360.000.0001.200.000.000420.000.000710.000.000854.000.0002.400.000.000108.000.000494.400.000174.000.000340.000.000324.000.0002.200.000.0003.550.000.000400.000.0001.793.000.0001.650.000.000317.000.000450.000.0001.500.000.000180.000.000550.000.000698.000.0001.200.000.000515.000.000390.000.000495.000.000390.000.000590.000.000985.000.000540.000.000210.000.000290.500.0002.050.000.000290.500.0001.200.000.000483.000.0001.800.000.0002.900.000.000950.000.000495.000.000400.000.000315.000.000405.000.000430.000.0001.949.900.0001.500.000.000459.100.0002.500.000.000359.000.000510.000.0002.100.000.000320.000.0002.000.000.000780.000.0002.500.000.000580.000.000203.000.000740.000.000520.000.0001.400.000.0001.250.000.0003.000.000.0001.690.000.000456.000.0002.500.000.000549.990.000388.900.0002.200.000.0003.800.000.000375.000.0004.620.000.0002.499.900.000870.000.000720.000.0001.850.000.000440.000.000354.000.0001.550.000.000510.000.000526.000.0001.500.000.000435.000.000879.000.000690.000.000920.000.0001.250.000.0003.000.000.000879.000.0001.100.000.000920.000.000435.000.000630.000.000795.000.000795.000.000270.000.000170.000.000160.000.000460.000.0001.700.000.000530.000.000350.000.000750.000.000529.000.000850.000.0001.300.000.000650.000.000267.000.000487.000.0001.550.000.000425.000.0002.550.000.000420.000.000375.000.000370.000.000385.000.000360.000.000420.000.000108.000.0002.400.000.000494.400.0001.200.000.000560.000.000174.000.000149.900.000420.000.000470.000.000457.000.000366.000.000480.000.000280.000.000350.000.000253.000.000457.000.000345.000.000402.000.000483.000.000350.000.000278.000.000199.478.700410.000.000260.000.000332.000.000260.000.000258.000.00079.000.00093.000.000140.000.000666.000.000281.000.000167.000.000355.000.000250.000.000730.000.000170.000.000480.000.000285.000.000158.000.000145.000.000190.000.000250.000.000120.000.000250.000.000280.000.000260.000.000285.000.000275.000.000280.000.000145.000.000300.000.000230.000.000200.000.000145.000.000310.000.0002.800.000.000265.000.000360.000.000850.000.000580.000.000410.000.000530.000.000415.800.000700.000.0001.050.000.000660.000.000305.000.000520.000.000360.000.000170.000.000331.000.0001.500.000.0001.400.000.000799.000.000920.000.000450.000.000780.000.000367.000.000450.000.000579.500.000580.000.000180.000.000416.000.000400.000.000180.000.000526.000.0001.430.000.000260.000.000500.000.0002.800.000.000260.000.000370.000.000455.000.000650.000.000750.000.000390.000.000370.000.000565.000.000360.000.000885.000.000257.000.000220.000.000160.000.000180.000.000200.000.000450.000.0001.850.000.000170.000.000320.000.000200.000.000390.000.000360.000.000565.000.000370.000.000257.000.000885.000.000220.000.000230.000.0001.300.000.000650.000.0001.450.000.000320.000.000550.000.000390.000.000970.000.000750.000.000300.000.0001.050.000.000365.000.000580.000.000305.000.0001.350.000.000750.000.000730.000.000430.000.000256.000.0001.650.000.0001.590.000.000285.000.000285.000.000930.000.000190.000.000950.000.000850.000.000898.000.000680.000.000370.000.0001.400.000.000980.000.000305.000.0001.900.000.0001.450.000.000780.000.0001.950.000.000890.000.000630.000.0002.200.000.0001.180.000.000800.000.000290.000.000250.000.0001.290.000.000220.000.000480.000.000550.000.000410.000.000443.100.000589.740.868345.000.000589.740.8681.400.000.000450.000.000645.853.7021.350.000.0001.300.000.0004.600.000.000840.000.000866.522.476440.000.0001.100.000.000375.000.000810.000.000500.000.000394.000.000459.000.000485.000.000372.000.000470.000.000850.000.000722.000.000620.000.000779.000.0003.500.000.000693.000.000700.000.000990.000.000535.000.000400.000.000720.000.000499.000.000480.000.000530.000.000565.000.000460.000.0002.550.000.0001.190.000.0001.700.000.000624.000.000155.000.000330.000.000250.000.000155.000.0002.000.000.000380.000.000650.000.000160.000.000145.000.000650.000.000300.000.0001.300.000.000208.000.000550.000.000520.000.000360.000.000590.000.000167.000.000160.000.000650.000.000145.000.000650.000.0001.050.000.000550.000.000208.000.0001.300.000.000500.000.000189.000.000300.000.000350.000.000280.000.000300.000.000190.000.000498.000.000650.000.000360.000.000395.000.0001.170.000.000650.000.000310.000.000315.000.000520.000.000700.000.000400.000.000170.000.000750.000.000950.000.000950.000.000400.000.000450.000.000200.000.000200.000.000305.000.000385.000.0002.800.000.000600.000.000310.000.000269.500.000170.000.000650.000.0001.170.000.000395.000.000280.000.000820.000.000700.000.000450.000.000370.000.0001.200.000.000730.000.000300.000.000900.000.000295.000.000374.000.000490.000.000600.000.000490.000.000730.000.000300.000.0001.200.000.0001.500.000.000600.000.000900.000.000750.000.000240.000.000590.000.000820.000.0001.350.000.0002.990.000.000220.000.0001.450.000.000451.500.000140.000.000155.000.000750.000.000170.000.000430.000.000800.000.0001.000.000.000790.000.000390.000.000400.000.000160.000.000700.000.000620.000.000500.000.000182.000.000130.000.000500.000.000245.000.000697.000.000380.000.0001.400.000.000780.000.0001.150.000.000940.000.000300.000.000105.000.000200.000.000990.000.000300.000.000290.000.000375.000.000320.000.000415.000.000320.000.0001.500.000.000550.000.000175.000.000480.000.000541.900.000390.000.000200.000.000500.000.000370.000.000175.000.000580.000.000178.000.000260.000.000690.000.000880.000.0003.950.000.000400.000.000140.000.000160.000.000780.000.000605.000.000372.100.000330.000.000287.000.000380.000.000340.000.0003.200.000.000330.000.000140.000.0001.250.000.000165.000.0001.375.000.000615.000.0001.200.000.000555.000.000290.000.000670.000.000900.000.000335.000.000144.990.000'"
            ],
            "application/vnd.google.colaboratory.intrinsic+json": {
              "type": "string"
            }
          },
          "metadata": {},
          "execution_count": 52
        }
      ]
    },
    {
      "cell_type": "code",
      "source": [
        "#Reemplazar \".\" por ningun caracter para convertir entero los valores de la columna Precio\n",
        "inmuebles['Precio'] = inmuebles['Precio'].str.replace('.','', regex=True)"
      ],
      "metadata": {
        "id": "JutYS7XG3Wed"
      },
      "execution_count": 54,
      "outputs": []
    },
    {
      "cell_type": "code",
      "source": [
        "#Confirmamos la eliminacion del punto en los valores de la columna Precio\n",
        "inmuebles[['Precio','Barrio']] "
      ],
      "metadata": {
        "colab": {
          "base_uri": "https://localhost:8080/",
          "height": 424
        },
        "id": "oe7HSHWI3866",
        "outputId": "9d8f690c-4586-4a27-8a47-ad6f627ece86"
      },
      "execution_count": 55,
      "outputs": [
        {
          "output_type": "execute_result",
          "data": {
            "text/plain": [
              "          Precio                  Barrio\n",
              "0      360000000      Zona Noroccidental\n",
              "1      670000000                Castilla\n",
              "2     1120000000         Chico Reservado\n",
              "3      890000000                 Usaquén\n",
              "4      970000000             Bella Suiza\n",
              "...          ...                     ...\n",
              "9515   290000000                 Kennedy\n",
              "9516   670000000  Parque Central Bavaria\n",
              "9517   900000000                Restrepo\n",
              "9518   335000000                Engativa\n",
              "9519   144990000                 Tintala\n",
              "\n",
              "[9520 rows x 2 columns]"
            ],
            "text/html": [
              "\n",
              "  <div id=\"df-9fd22508-5f21-42f9-9834-c8a51aa3f820\">\n",
              "    <div class=\"colab-df-container\">\n",
              "      <div>\n",
              "<style scoped>\n",
              "    .dataframe tbody tr th:only-of-type {\n",
              "        vertical-align: middle;\n",
              "    }\n",
              "\n",
              "    .dataframe tbody tr th {\n",
              "        vertical-align: top;\n",
              "    }\n",
              "\n",
              "    .dataframe thead th {\n",
              "        text-align: right;\n",
              "    }\n",
              "</style>\n",
              "<table border=\"1\" class=\"dataframe\">\n",
              "  <thead>\n",
              "    <tr style=\"text-align: right;\">\n",
              "      <th></th>\n",
              "      <th>Precio</th>\n",
              "      <th>Barrio</th>\n",
              "    </tr>\n",
              "  </thead>\n",
              "  <tbody>\n",
              "    <tr>\n",
              "      <th>0</th>\n",
              "      <td>360000000</td>\n",
              "      <td>Zona Noroccidental</td>\n",
              "    </tr>\n",
              "    <tr>\n",
              "      <th>1</th>\n",
              "      <td>670000000</td>\n",
              "      <td>Castilla</td>\n",
              "    </tr>\n",
              "    <tr>\n",
              "      <th>2</th>\n",
              "      <td>1120000000</td>\n",
              "      <td>Chico Reservado</td>\n",
              "    </tr>\n",
              "    <tr>\n",
              "      <th>3</th>\n",
              "      <td>890000000</td>\n",
              "      <td>Usaquén</td>\n",
              "    </tr>\n",
              "    <tr>\n",
              "      <th>4</th>\n",
              "      <td>970000000</td>\n",
              "      <td>Bella Suiza</td>\n",
              "    </tr>\n",
              "    <tr>\n",
              "      <th>...</th>\n",
              "      <td>...</td>\n",
              "      <td>...</td>\n",
              "    </tr>\n",
              "    <tr>\n",
              "      <th>9515</th>\n",
              "      <td>290000000</td>\n",
              "      <td>Kennedy</td>\n",
              "    </tr>\n",
              "    <tr>\n",
              "      <th>9516</th>\n",
              "      <td>670000000</td>\n",
              "      <td>Parque Central Bavaria</td>\n",
              "    </tr>\n",
              "    <tr>\n",
              "      <th>9517</th>\n",
              "      <td>900000000</td>\n",
              "      <td>Restrepo</td>\n",
              "    </tr>\n",
              "    <tr>\n",
              "      <th>9518</th>\n",
              "      <td>335000000</td>\n",
              "      <td>Engativa</td>\n",
              "    </tr>\n",
              "    <tr>\n",
              "      <th>9519</th>\n",
              "      <td>144990000</td>\n",
              "      <td>Tintala</td>\n",
              "    </tr>\n",
              "  </tbody>\n",
              "</table>\n",
              "<p>9520 rows × 2 columns</p>\n",
              "</div>\n",
              "      <button class=\"colab-df-convert\" onclick=\"convertToInteractive('df-9fd22508-5f21-42f9-9834-c8a51aa3f820')\"\n",
              "              title=\"Convert this dataframe to an interactive table.\"\n",
              "              style=\"display:none;\">\n",
              "        \n",
              "  <svg xmlns=\"http://www.w3.org/2000/svg\" height=\"24px\"viewBox=\"0 0 24 24\"\n",
              "       width=\"24px\">\n",
              "    <path d=\"M0 0h24v24H0V0z\" fill=\"none\"/>\n",
              "    <path d=\"M18.56 5.44l.94 2.06.94-2.06 2.06-.94-2.06-.94-.94-2.06-.94 2.06-2.06.94zm-11 1L8.5 8.5l.94-2.06 2.06-.94-2.06-.94L8.5 2.5l-.94 2.06-2.06.94zm10 10l.94 2.06.94-2.06 2.06-.94-2.06-.94-.94-2.06-.94 2.06-2.06.94z\"/><path d=\"M17.41 7.96l-1.37-1.37c-.4-.4-.92-.59-1.43-.59-.52 0-1.04.2-1.43.59L10.3 9.45l-7.72 7.72c-.78.78-.78 2.05 0 2.83L4 21.41c.39.39.9.59 1.41.59.51 0 1.02-.2 1.41-.59l7.78-7.78 2.81-2.81c.8-.78.8-2.07 0-2.86zM5.41 20L4 18.59l7.72-7.72 1.47 1.35L5.41 20z\"/>\n",
              "  </svg>\n",
              "      </button>\n",
              "      \n",
              "  <style>\n",
              "    .colab-df-container {\n",
              "      display:flex;\n",
              "      flex-wrap:wrap;\n",
              "      gap: 12px;\n",
              "    }\n",
              "\n",
              "    .colab-df-convert {\n",
              "      background-color: #E8F0FE;\n",
              "      border: none;\n",
              "      border-radius: 50%;\n",
              "      cursor: pointer;\n",
              "      display: none;\n",
              "      fill: #1967D2;\n",
              "      height: 32px;\n",
              "      padding: 0 0 0 0;\n",
              "      width: 32px;\n",
              "    }\n",
              "\n",
              "    .colab-df-convert:hover {\n",
              "      background-color: #E2EBFA;\n",
              "      box-shadow: 0px 1px 2px rgba(60, 64, 67, 0.3), 0px 1px 3px 1px rgba(60, 64, 67, 0.15);\n",
              "      fill: #174EA6;\n",
              "    }\n",
              "\n",
              "    [theme=dark] .colab-df-convert {\n",
              "      background-color: #3B4455;\n",
              "      fill: #D2E3FC;\n",
              "    }\n",
              "\n",
              "    [theme=dark] .colab-df-convert:hover {\n",
              "      background-color: #434B5C;\n",
              "      box-shadow: 0px 1px 3px 1px rgba(0, 0, 0, 0.15);\n",
              "      filter: drop-shadow(0px 1px 2px rgba(0, 0, 0, 0.3));\n",
              "      fill: #FFFFFF;\n",
              "    }\n",
              "  </style>\n",
              "\n",
              "      <script>\n",
              "        const buttonEl =\n",
              "          document.querySelector('#df-9fd22508-5f21-42f9-9834-c8a51aa3f820 button.colab-df-convert');\n",
              "        buttonEl.style.display =\n",
              "          google.colab.kernel.accessAllowed ? 'block' : 'none';\n",
              "\n",
              "        async function convertToInteractive(key) {\n",
              "          const element = document.querySelector('#df-9fd22508-5f21-42f9-9834-c8a51aa3f820');\n",
              "          const dataTable =\n",
              "            await google.colab.kernel.invokeFunction('convertToInteractive',\n",
              "                                                     [key], {});\n",
              "          if (!dataTable) return;\n",
              "\n",
              "          const docLinkHtml = 'Like what you see? Visit the ' +\n",
              "            '<a target=\"_blank\" href=https://colab.research.google.com/notebooks/data_table.ipynb>data table notebook</a>'\n",
              "            + ' to learn more about interactive tables.';\n",
              "          element.innerHTML = '';\n",
              "          dataTable['output_type'] = 'display_data';\n",
              "          await google.colab.output.renderOutput(dataTable, element);\n",
              "          const docLink = document.createElement('div');\n",
              "          docLink.innerHTML = docLinkHtml;\n",
              "          element.appendChild(docLink);\n",
              "        }\n",
              "      </script>\n",
              "    </div>\n",
              "  </div>\n",
              "  "
            ]
          },
          "metadata": {},
          "execution_count": 55
        }
      ]
    },
    {
      "cell_type": "code",
      "source": [
        "#Determinamos que la columna Precio continua manteniendo el tipo string\n",
        "inmuebles.info()\n"
      ],
      "metadata": {
        "colab": {
          "base_uri": "https://localhost:8080/"
        },
        "id": "sha8EcUB4XsC",
        "outputId": "dedef6b0-15b0-402a-eaa3-520874e3f8b8"
      },
      "execution_count": 56,
      "outputs": [
        {
          "output_type": "stream",
          "name": "stdout",
          "text": [
            "<class 'pandas.core.frame.DataFrame'>\n",
            "RangeIndex: 9520 entries, 0 to 9519\n",
            "Data columns (total 10 columns):\n",
            " #   Column        Non-Null Count  Dtype \n",
            "---  ------        --------------  ----- \n",
            " 0   Tipo          9520 non-null   object\n",
            " 1   Descripcion   9520 non-null   object\n",
            " 2   Habitaciones  9520 non-null   int64 \n",
            " 3   Banos         9520 non-null   int64 \n",
            " 4   Area          9520 non-null   int64 \n",
            " 5   Barrio        9520 non-null   object\n",
            " 6   UPZ           9478 non-null   object\n",
            " 7   Valor         9520 non-null   object\n",
            " 8   Moneda        9520 non-null   object\n",
            " 9   Precio        9520 non-null   object\n",
            "dtypes: int64(3), object(7)\n",
            "memory usage: 743.9+ KB\n"
          ]
        }
      ]
    },
    {
      "cell_type": "code",
      "source": [
        "inmuebles['Precio_Millon']= inmuebles.Precio.astype('float')/1000000"
      ],
      "metadata": {
        "id": "gc0SEdQY4sPe"
      },
      "execution_count": 57,
      "outputs": []
    },
    {
      "cell_type": "code",
      "source": [
        "inmuebles.info()\n"
      ],
      "metadata": {
        "colab": {
          "base_uri": "https://localhost:8080/"
        },
        "id": "SpPTAqqp5a0d",
        "outputId": "01f5a07c-5133-49d5-ad1c-8a25aed4f6a0"
      },
      "execution_count": 58,
      "outputs": [
        {
          "output_type": "stream",
          "name": "stdout",
          "text": [
            "<class 'pandas.core.frame.DataFrame'>\n",
            "RangeIndex: 9520 entries, 0 to 9519\n",
            "Data columns (total 11 columns):\n",
            " #   Column         Non-Null Count  Dtype  \n",
            "---  ------         --------------  -----  \n",
            " 0   Tipo           9520 non-null   object \n",
            " 1   Descripcion    9520 non-null   object \n",
            " 2   Habitaciones   9520 non-null   int64  \n",
            " 3   Banos          9520 non-null   int64  \n",
            " 4   Area           9520 non-null   int64  \n",
            " 5   Barrio         9520 non-null   object \n",
            " 6   UPZ            9478 non-null   object \n",
            " 7   Valor          9520 non-null   object \n",
            " 8   Moneda         9520 non-null   object \n",
            " 9   Precio         9520 non-null   object \n",
            " 10  Precio_Millon  9520 non-null   float64\n",
            "dtypes: float64(1), int64(3), object(7)\n",
            "memory usage: 818.2+ KB\n"
          ]
        }
      ]
    },
    {
      "cell_type": "code",
      "source": [
        "inmuebles.sample(3)"
      ],
      "metadata": {
        "colab": {
          "base_uri": "https://localhost:8080/",
          "height": 240
        },
        "id": "oodGmRg85jFj",
        "outputId": "6859106b-5673-4cec-93bc-01f94242043a"
      },
      "execution_count": 59,
      "outputs": [
        {
          "output_type": "execute_result",
          "data": {
            "text/plain": [
              "             Tipo                       Descripcion  Habitaciones  Banos  \\\n",
              "6000  Apartamento  Apartamento en venta en Santa Fe             1      2   \n",
              "1619  Apartamento  Apartamento en venta en Fontibón             3      2   \n",
              "3635  Apartamento   Apartamento en venta en Usaquén             2      2   \n",
              "\n",
              "      Area    Barrio                                     UPZ          Valor  \\\n",
              "6000    44  Santa Fe  SANTA FE: Las Nieves + Sagrado Corazón  $ 397.000.000   \n",
              "1619    65  Fontibón                                Fontibón  $ 296.000.000   \n",
              "3635    71   Usaquén                                 Usaquén  $ 476.500.000   \n",
              "\n",
              "     Moneda     Precio  Precio_Millon  \n",
              "6000      $  397000000          397.0  \n",
              "1619      $  296000000          296.0  \n",
              "3635      $  476500000          476.5  "
            ],
            "text/html": [
              "\n",
              "  <div id=\"df-eb0e151d-e546-4871-9767-39ab7014b0c0\">\n",
              "    <div class=\"colab-df-container\">\n",
              "      <div>\n",
              "<style scoped>\n",
              "    .dataframe tbody tr th:only-of-type {\n",
              "        vertical-align: middle;\n",
              "    }\n",
              "\n",
              "    .dataframe tbody tr th {\n",
              "        vertical-align: top;\n",
              "    }\n",
              "\n",
              "    .dataframe thead th {\n",
              "        text-align: right;\n",
              "    }\n",
              "</style>\n",
              "<table border=\"1\" class=\"dataframe\">\n",
              "  <thead>\n",
              "    <tr style=\"text-align: right;\">\n",
              "      <th></th>\n",
              "      <th>Tipo</th>\n",
              "      <th>Descripcion</th>\n",
              "      <th>Habitaciones</th>\n",
              "      <th>Banos</th>\n",
              "      <th>Area</th>\n",
              "      <th>Barrio</th>\n",
              "      <th>UPZ</th>\n",
              "      <th>Valor</th>\n",
              "      <th>Moneda</th>\n",
              "      <th>Precio</th>\n",
              "      <th>Precio_Millon</th>\n",
              "    </tr>\n",
              "  </thead>\n",
              "  <tbody>\n",
              "    <tr>\n",
              "      <th>6000</th>\n",
              "      <td>Apartamento</td>\n",
              "      <td>Apartamento en venta en Santa Fe</td>\n",
              "      <td>1</td>\n",
              "      <td>2</td>\n",
              "      <td>44</td>\n",
              "      <td>Santa Fe</td>\n",
              "      <td>SANTA FE: Las Nieves + Sagrado Corazón</td>\n",
              "      <td>$ 397.000.000</td>\n",
              "      <td>$</td>\n",
              "      <td>397000000</td>\n",
              "      <td>397.0</td>\n",
              "    </tr>\n",
              "    <tr>\n",
              "      <th>1619</th>\n",
              "      <td>Apartamento</td>\n",
              "      <td>Apartamento en venta en Fontibón</td>\n",
              "      <td>3</td>\n",
              "      <td>2</td>\n",
              "      <td>65</td>\n",
              "      <td>Fontibón</td>\n",
              "      <td>Fontibón</td>\n",
              "      <td>$ 296.000.000</td>\n",
              "      <td>$</td>\n",
              "      <td>296000000</td>\n",
              "      <td>296.0</td>\n",
              "    </tr>\n",
              "    <tr>\n",
              "      <th>3635</th>\n",
              "      <td>Apartamento</td>\n",
              "      <td>Apartamento en venta en Usaquén</td>\n",
              "      <td>2</td>\n",
              "      <td>2</td>\n",
              "      <td>71</td>\n",
              "      <td>Usaquén</td>\n",
              "      <td>Usaquén</td>\n",
              "      <td>$ 476.500.000</td>\n",
              "      <td>$</td>\n",
              "      <td>476500000</td>\n",
              "      <td>476.5</td>\n",
              "    </tr>\n",
              "  </tbody>\n",
              "</table>\n",
              "</div>\n",
              "      <button class=\"colab-df-convert\" onclick=\"convertToInteractive('df-eb0e151d-e546-4871-9767-39ab7014b0c0')\"\n",
              "              title=\"Convert this dataframe to an interactive table.\"\n",
              "              style=\"display:none;\">\n",
              "        \n",
              "  <svg xmlns=\"http://www.w3.org/2000/svg\" height=\"24px\"viewBox=\"0 0 24 24\"\n",
              "       width=\"24px\">\n",
              "    <path d=\"M0 0h24v24H0V0z\" fill=\"none\"/>\n",
              "    <path d=\"M18.56 5.44l.94 2.06.94-2.06 2.06-.94-2.06-.94-.94-2.06-.94 2.06-2.06.94zm-11 1L8.5 8.5l.94-2.06 2.06-.94-2.06-.94L8.5 2.5l-.94 2.06-2.06.94zm10 10l.94 2.06.94-2.06 2.06-.94-2.06-.94-.94-2.06-.94 2.06-2.06.94z\"/><path d=\"M17.41 7.96l-1.37-1.37c-.4-.4-.92-.59-1.43-.59-.52 0-1.04.2-1.43.59L10.3 9.45l-7.72 7.72c-.78.78-.78 2.05 0 2.83L4 21.41c.39.39.9.59 1.41.59.51 0 1.02-.2 1.41-.59l7.78-7.78 2.81-2.81c.8-.78.8-2.07 0-2.86zM5.41 20L4 18.59l7.72-7.72 1.47 1.35L5.41 20z\"/>\n",
              "  </svg>\n",
              "      </button>\n",
              "      \n",
              "  <style>\n",
              "    .colab-df-container {\n",
              "      display:flex;\n",
              "      flex-wrap:wrap;\n",
              "      gap: 12px;\n",
              "    }\n",
              "\n",
              "    .colab-df-convert {\n",
              "      background-color: #E8F0FE;\n",
              "      border: none;\n",
              "      border-radius: 50%;\n",
              "      cursor: pointer;\n",
              "      display: none;\n",
              "      fill: #1967D2;\n",
              "      height: 32px;\n",
              "      padding: 0 0 0 0;\n",
              "      width: 32px;\n",
              "    }\n",
              "\n",
              "    .colab-df-convert:hover {\n",
              "      background-color: #E2EBFA;\n",
              "      box-shadow: 0px 1px 2px rgba(60, 64, 67, 0.3), 0px 1px 3px 1px rgba(60, 64, 67, 0.15);\n",
              "      fill: #174EA6;\n",
              "    }\n",
              "\n",
              "    [theme=dark] .colab-df-convert {\n",
              "      background-color: #3B4455;\n",
              "      fill: #D2E3FC;\n",
              "    }\n",
              "\n",
              "    [theme=dark] .colab-df-convert:hover {\n",
              "      background-color: #434B5C;\n",
              "      box-shadow: 0px 1px 3px 1px rgba(0, 0, 0, 0.15);\n",
              "      filter: drop-shadow(0px 1px 2px rgba(0, 0, 0, 0.3));\n",
              "      fill: #FFFFFF;\n",
              "    }\n",
              "  </style>\n",
              "\n",
              "      <script>\n",
              "        const buttonEl =\n",
              "          document.querySelector('#df-eb0e151d-e546-4871-9767-39ab7014b0c0 button.colab-df-convert');\n",
              "        buttonEl.style.display =\n",
              "          google.colab.kernel.accessAllowed ? 'block' : 'none';\n",
              "\n",
              "        async function convertToInteractive(key) {\n",
              "          const element = document.querySelector('#df-eb0e151d-e546-4871-9767-39ab7014b0c0');\n",
              "          const dataTable =\n",
              "            await google.colab.kernel.invokeFunction('convertToInteractive',\n",
              "                                                     [key], {});\n",
              "          if (!dataTable) return;\n",
              "\n",
              "          const docLinkHtml = 'Like what you see? Visit the ' +\n",
              "            '<a target=\"_blank\" href=https://colab.research.google.com/notebooks/data_table.ipynb>data table notebook</a>'\n",
              "            + ' to learn more about interactive tables.';\n",
              "          element.innerHTML = '';\n",
              "          dataTable['output_type'] = 'display_data';\n",
              "          await google.colab.output.renderOutput(dataTable, element);\n",
              "          const docLink = document.createElement('div');\n",
              "          docLink.innerHTML = docLinkHtml;\n",
              "          element.appendChild(docLink);\n",
              "        }\n",
              "      </script>\n",
              "    </div>\n",
              "  </div>\n",
              "  "
            ]
          },
          "metadata": {},
          "execution_count": 59
        }
      ]
    },
    {
      "cell_type": "code",
      "source": [
        "inmuebles.describe()"
      ],
      "metadata": {
        "colab": {
          "base_uri": "https://localhost:8080/",
          "height": 300
        },
        "id": "P2G9SjqB5lmZ",
        "outputId": "225db868-4f7c-4c29-85ed-1bc8ec14793c"
      },
      "execution_count": 60,
      "outputs": [
        {
          "output_type": "execute_result",
          "data": {
            "text/plain": [
              "       Habitaciones        Banos           Area  Precio_Millon\n",
              "count   9520.000000  9520.000000    9520.000000    9520.000000\n",
              "mean       3.072479     2.447899     146.664706     602.062354\n",
              "std        2.049856     1.255314    1731.379622     704.602062\n",
              "min        1.000000     0.000000       2.000000      60.000000\n",
              "25%        2.000000     2.000000      57.000000     250.000000\n",
              "50%        3.000000     2.000000      80.000000     409.182500\n",
              "75%        3.000000     3.000000     135.000000     680.000000\n",
              "max      110.000000     9.000000  166243.000000   16000.000000"
            ],
            "text/html": [
              "\n",
              "  <div id=\"df-3c554e96-3d2a-47b0-99d3-65d085ac6114\">\n",
              "    <div class=\"colab-df-container\">\n",
              "      <div>\n",
              "<style scoped>\n",
              "    .dataframe tbody tr th:only-of-type {\n",
              "        vertical-align: middle;\n",
              "    }\n",
              "\n",
              "    .dataframe tbody tr th {\n",
              "        vertical-align: top;\n",
              "    }\n",
              "\n",
              "    .dataframe thead th {\n",
              "        text-align: right;\n",
              "    }\n",
              "</style>\n",
              "<table border=\"1\" class=\"dataframe\">\n",
              "  <thead>\n",
              "    <tr style=\"text-align: right;\">\n",
              "      <th></th>\n",
              "      <th>Habitaciones</th>\n",
              "      <th>Banos</th>\n",
              "      <th>Area</th>\n",
              "      <th>Precio_Millon</th>\n",
              "    </tr>\n",
              "  </thead>\n",
              "  <tbody>\n",
              "    <tr>\n",
              "      <th>count</th>\n",
              "      <td>9520.000000</td>\n",
              "      <td>9520.000000</td>\n",
              "      <td>9520.000000</td>\n",
              "      <td>9520.000000</td>\n",
              "    </tr>\n",
              "    <tr>\n",
              "      <th>mean</th>\n",
              "      <td>3.072479</td>\n",
              "      <td>2.447899</td>\n",
              "      <td>146.664706</td>\n",
              "      <td>602.062354</td>\n",
              "    </tr>\n",
              "    <tr>\n",
              "      <th>std</th>\n",
              "      <td>2.049856</td>\n",
              "      <td>1.255314</td>\n",
              "      <td>1731.379622</td>\n",
              "      <td>704.602062</td>\n",
              "    </tr>\n",
              "    <tr>\n",
              "      <th>min</th>\n",
              "      <td>1.000000</td>\n",
              "      <td>0.000000</td>\n",
              "      <td>2.000000</td>\n",
              "      <td>60.000000</td>\n",
              "    </tr>\n",
              "    <tr>\n",
              "      <th>25%</th>\n",
              "      <td>2.000000</td>\n",
              "      <td>2.000000</td>\n",
              "      <td>57.000000</td>\n",
              "      <td>250.000000</td>\n",
              "    </tr>\n",
              "    <tr>\n",
              "      <th>50%</th>\n",
              "      <td>3.000000</td>\n",
              "      <td>2.000000</td>\n",
              "      <td>80.000000</td>\n",
              "      <td>409.182500</td>\n",
              "    </tr>\n",
              "    <tr>\n",
              "      <th>75%</th>\n",
              "      <td>3.000000</td>\n",
              "      <td>3.000000</td>\n",
              "      <td>135.000000</td>\n",
              "      <td>680.000000</td>\n",
              "    </tr>\n",
              "    <tr>\n",
              "      <th>max</th>\n",
              "      <td>110.000000</td>\n",
              "      <td>9.000000</td>\n",
              "      <td>166243.000000</td>\n",
              "      <td>16000.000000</td>\n",
              "    </tr>\n",
              "  </tbody>\n",
              "</table>\n",
              "</div>\n",
              "      <button class=\"colab-df-convert\" onclick=\"convertToInteractive('df-3c554e96-3d2a-47b0-99d3-65d085ac6114')\"\n",
              "              title=\"Convert this dataframe to an interactive table.\"\n",
              "              style=\"display:none;\">\n",
              "        \n",
              "  <svg xmlns=\"http://www.w3.org/2000/svg\" height=\"24px\"viewBox=\"0 0 24 24\"\n",
              "       width=\"24px\">\n",
              "    <path d=\"M0 0h24v24H0V0z\" fill=\"none\"/>\n",
              "    <path d=\"M18.56 5.44l.94 2.06.94-2.06 2.06-.94-2.06-.94-.94-2.06-.94 2.06-2.06.94zm-11 1L8.5 8.5l.94-2.06 2.06-.94-2.06-.94L8.5 2.5l-.94 2.06-2.06.94zm10 10l.94 2.06.94-2.06 2.06-.94-2.06-.94-.94-2.06-.94 2.06-2.06.94z\"/><path d=\"M17.41 7.96l-1.37-1.37c-.4-.4-.92-.59-1.43-.59-.52 0-1.04.2-1.43.59L10.3 9.45l-7.72 7.72c-.78.78-.78 2.05 0 2.83L4 21.41c.39.39.9.59 1.41.59.51 0 1.02-.2 1.41-.59l7.78-7.78 2.81-2.81c.8-.78.8-2.07 0-2.86zM5.41 20L4 18.59l7.72-7.72 1.47 1.35L5.41 20z\"/>\n",
              "  </svg>\n",
              "      </button>\n",
              "      \n",
              "  <style>\n",
              "    .colab-df-container {\n",
              "      display:flex;\n",
              "      flex-wrap:wrap;\n",
              "      gap: 12px;\n",
              "    }\n",
              "\n",
              "    .colab-df-convert {\n",
              "      background-color: #E8F0FE;\n",
              "      border: none;\n",
              "      border-radius: 50%;\n",
              "      cursor: pointer;\n",
              "      display: none;\n",
              "      fill: #1967D2;\n",
              "      height: 32px;\n",
              "      padding: 0 0 0 0;\n",
              "      width: 32px;\n",
              "    }\n",
              "\n",
              "    .colab-df-convert:hover {\n",
              "      background-color: #E2EBFA;\n",
              "      box-shadow: 0px 1px 2px rgba(60, 64, 67, 0.3), 0px 1px 3px 1px rgba(60, 64, 67, 0.15);\n",
              "      fill: #174EA6;\n",
              "    }\n",
              "\n",
              "    [theme=dark] .colab-df-convert {\n",
              "      background-color: #3B4455;\n",
              "      fill: #D2E3FC;\n",
              "    }\n",
              "\n",
              "    [theme=dark] .colab-df-convert:hover {\n",
              "      background-color: #434B5C;\n",
              "      box-shadow: 0px 1px 3px 1px rgba(0, 0, 0, 0.15);\n",
              "      filter: drop-shadow(0px 1px 2px rgba(0, 0, 0, 0.3));\n",
              "      fill: #FFFFFF;\n",
              "    }\n",
              "  </style>\n",
              "\n",
              "      <script>\n",
              "        const buttonEl =\n",
              "          document.querySelector('#df-3c554e96-3d2a-47b0-99d3-65d085ac6114 button.colab-df-convert');\n",
              "        buttonEl.style.display =\n",
              "          google.colab.kernel.accessAllowed ? 'block' : 'none';\n",
              "\n",
              "        async function convertToInteractive(key) {\n",
              "          const element = document.querySelector('#df-3c554e96-3d2a-47b0-99d3-65d085ac6114');\n",
              "          const dataTable =\n",
              "            await google.colab.kernel.invokeFunction('convertToInteractive',\n",
              "                                                     [key], {});\n",
              "          if (!dataTable) return;\n",
              "\n",
              "          const docLinkHtml = 'Like what you see? Visit the ' +\n",
              "            '<a target=\"_blank\" href=https://colab.research.google.com/notebooks/data_table.ipynb>data table notebook</a>'\n",
              "            + ' to learn more about interactive tables.';\n",
              "          element.innerHTML = '';\n",
              "          dataTable['output_type'] = 'display_data';\n",
              "          await google.colab.output.renderOutput(dataTable, element);\n",
              "          const docLink = document.createElement('div');\n",
              "          docLink.innerHTML = docLinkHtml;\n",
              "          element.appendChild(docLink);\n",
              "        }\n",
              "      </script>\n",
              "    </div>\n",
              "  </div>\n",
              "  "
            ]
          },
          "metadata": {},
          "execution_count": 60
        }
      ]
    },
    {
      "cell_type": "code",
      "source": [
        "pd.set_option('display.precision',2)\n",
        "pd.set_option('display.float_format', lambda x:'%.2f' % x)\n",
        "inmuebles.describe()"
      ],
      "metadata": {
        "colab": {
          "base_uri": "https://localhost:8080/",
          "height": 300
        },
        "id": "iIBHeUBl6PGV",
        "outputId": "82adfbf2-f104-4875-93e5-7c2ce6e54729"
      },
      "execution_count": 63,
      "outputs": [
        {
          "output_type": "execute_result",
          "data": {
            "text/plain": [
              "       Habitaciones   Banos      Area  Precio_Millon\n",
              "count       9520.00 9520.00   9520.00        9520.00\n",
              "mean           3.07    2.45    146.66         602.06\n",
              "std            2.05    1.26   1731.38         704.60\n",
              "min            1.00    0.00      2.00          60.00\n",
              "25%            2.00    2.00     57.00         250.00\n",
              "50%            3.00    2.00     80.00         409.18\n",
              "75%            3.00    3.00    135.00         680.00\n",
              "max          110.00    9.00 166243.00       16000.00"
            ],
            "text/html": [
              "\n",
              "  <div id=\"df-18f77333-0976-416f-9fe7-2dd4ada9ee84\">\n",
              "    <div class=\"colab-df-container\">\n",
              "      <div>\n",
              "<style scoped>\n",
              "    .dataframe tbody tr th:only-of-type {\n",
              "        vertical-align: middle;\n",
              "    }\n",
              "\n",
              "    .dataframe tbody tr th {\n",
              "        vertical-align: top;\n",
              "    }\n",
              "\n",
              "    .dataframe thead th {\n",
              "        text-align: right;\n",
              "    }\n",
              "</style>\n",
              "<table border=\"1\" class=\"dataframe\">\n",
              "  <thead>\n",
              "    <tr style=\"text-align: right;\">\n",
              "      <th></th>\n",
              "      <th>Habitaciones</th>\n",
              "      <th>Banos</th>\n",
              "      <th>Area</th>\n",
              "      <th>Precio_Millon</th>\n",
              "    </tr>\n",
              "  </thead>\n",
              "  <tbody>\n",
              "    <tr>\n",
              "      <th>count</th>\n",
              "      <td>9520.00</td>\n",
              "      <td>9520.00</td>\n",
              "      <td>9520.00</td>\n",
              "      <td>9520.00</td>\n",
              "    </tr>\n",
              "    <tr>\n",
              "      <th>mean</th>\n",
              "      <td>3.07</td>\n",
              "      <td>2.45</td>\n",
              "      <td>146.66</td>\n",
              "      <td>602.06</td>\n",
              "    </tr>\n",
              "    <tr>\n",
              "      <th>std</th>\n",
              "      <td>2.05</td>\n",
              "      <td>1.26</td>\n",
              "      <td>1731.38</td>\n",
              "      <td>704.60</td>\n",
              "    </tr>\n",
              "    <tr>\n",
              "      <th>min</th>\n",
              "      <td>1.00</td>\n",
              "      <td>0.00</td>\n",
              "      <td>2.00</td>\n",
              "      <td>60.00</td>\n",
              "    </tr>\n",
              "    <tr>\n",
              "      <th>25%</th>\n",
              "      <td>2.00</td>\n",
              "      <td>2.00</td>\n",
              "      <td>57.00</td>\n",
              "      <td>250.00</td>\n",
              "    </tr>\n",
              "    <tr>\n",
              "      <th>50%</th>\n",
              "      <td>3.00</td>\n",
              "      <td>2.00</td>\n",
              "      <td>80.00</td>\n",
              "      <td>409.18</td>\n",
              "    </tr>\n",
              "    <tr>\n",
              "      <th>75%</th>\n",
              "      <td>3.00</td>\n",
              "      <td>3.00</td>\n",
              "      <td>135.00</td>\n",
              "      <td>680.00</td>\n",
              "    </tr>\n",
              "    <tr>\n",
              "      <th>max</th>\n",
              "      <td>110.00</td>\n",
              "      <td>9.00</td>\n",
              "      <td>166243.00</td>\n",
              "      <td>16000.00</td>\n",
              "    </tr>\n",
              "  </tbody>\n",
              "</table>\n",
              "</div>\n",
              "      <button class=\"colab-df-convert\" onclick=\"convertToInteractive('df-18f77333-0976-416f-9fe7-2dd4ada9ee84')\"\n",
              "              title=\"Convert this dataframe to an interactive table.\"\n",
              "              style=\"display:none;\">\n",
              "        \n",
              "  <svg xmlns=\"http://www.w3.org/2000/svg\" height=\"24px\"viewBox=\"0 0 24 24\"\n",
              "       width=\"24px\">\n",
              "    <path d=\"M0 0h24v24H0V0z\" fill=\"none\"/>\n",
              "    <path d=\"M18.56 5.44l.94 2.06.94-2.06 2.06-.94-2.06-.94-.94-2.06-.94 2.06-2.06.94zm-11 1L8.5 8.5l.94-2.06 2.06-.94-2.06-.94L8.5 2.5l-.94 2.06-2.06.94zm10 10l.94 2.06.94-2.06 2.06-.94-2.06-.94-.94-2.06-.94 2.06-2.06.94z\"/><path d=\"M17.41 7.96l-1.37-1.37c-.4-.4-.92-.59-1.43-.59-.52 0-1.04.2-1.43.59L10.3 9.45l-7.72 7.72c-.78.78-.78 2.05 0 2.83L4 21.41c.39.39.9.59 1.41.59.51 0 1.02-.2 1.41-.59l7.78-7.78 2.81-2.81c.8-.78.8-2.07 0-2.86zM5.41 20L4 18.59l7.72-7.72 1.47 1.35L5.41 20z\"/>\n",
              "  </svg>\n",
              "      </button>\n",
              "      \n",
              "  <style>\n",
              "    .colab-df-container {\n",
              "      display:flex;\n",
              "      flex-wrap:wrap;\n",
              "      gap: 12px;\n",
              "    }\n",
              "\n",
              "    .colab-df-convert {\n",
              "      background-color: #E8F0FE;\n",
              "      border: none;\n",
              "      border-radius: 50%;\n",
              "      cursor: pointer;\n",
              "      display: none;\n",
              "      fill: #1967D2;\n",
              "      height: 32px;\n",
              "      padding: 0 0 0 0;\n",
              "      width: 32px;\n",
              "    }\n",
              "\n",
              "    .colab-df-convert:hover {\n",
              "      background-color: #E2EBFA;\n",
              "      box-shadow: 0px 1px 2px rgba(60, 64, 67, 0.3), 0px 1px 3px 1px rgba(60, 64, 67, 0.15);\n",
              "      fill: #174EA6;\n",
              "    }\n",
              "\n",
              "    [theme=dark] .colab-df-convert {\n",
              "      background-color: #3B4455;\n",
              "      fill: #D2E3FC;\n",
              "    }\n",
              "\n",
              "    [theme=dark] .colab-df-convert:hover {\n",
              "      background-color: #434B5C;\n",
              "      box-shadow: 0px 1px 3px 1px rgba(0, 0, 0, 0.15);\n",
              "      filter: drop-shadow(0px 1px 2px rgba(0, 0, 0, 0.3));\n",
              "      fill: #FFFFFF;\n",
              "    }\n",
              "  </style>\n",
              "\n",
              "      <script>\n",
              "        const buttonEl =\n",
              "          document.querySelector('#df-18f77333-0976-416f-9fe7-2dd4ada9ee84 button.colab-df-convert');\n",
              "        buttonEl.style.display =\n",
              "          google.colab.kernel.accessAllowed ? 'block' : 'none';\n",
              "\n",
              "        async function convertToInteractive(key) {\n",
              "          const element = document.querySelector('#df-18f77333-0976-416f-9fe7-2dd4ada9ee84');\n",
              "          const dataTable =\n",
              "            await google.colab.kernel.invokeFunction('convertToInteractive',\n",
              "                                                     [key], {});\n",
              "          if (!dataTable) return;\n",
              "\n",
              "          const docLinkHtml = 'Like what you see? Visit the ' +\n",
              "            '<a target=\"_blank\" href=https://colab.research.google.com/notebooks/data_table.ipynb>data table notebook</a>'\n",
              "            + ' to learn more about interactive tables.';\n",
              "          element.innerHTML = '';\n",
              "          dataTable['output_type'] = 'display_data';\n",
              "          await google.colab.output.renderOutput(dataTable, element);\n",
              "          const docLink = document.createElement('div');\n",
              "          docLink.innerHTML = docLinkHtml;\n",
              "          element.appendChild(docLink);\n",
              "        }\n",
              "      </script>\n",
              "    </div>\n",
              "  </div>\n",
              "  "
            ]
          },
          "metadata": {},
          "execution_count": 63
        }
      ]
    },
    {
      "cell_type": "markdown",
      "source": [
        "Se determinan los errores Habitaciones:110 y Area: 2\n",
        "Se realizan las consultas correspondientes."
      ],
      "metadata": {
        "id": "SFkk8-sO9SpF"
      }
    },
    {
      "cell_type": "code",
      "source": [
        "#Metodo \"loc\" localiza los atributos que cumplan con cierta condición\n",
        "inmuebles.loc[inmuebles.Habitaciones == 110]"
      ],
      "metadata": {
        "colab": {
          "base_uri": "https://localhost:8080/",
          "height": 81
        },
        "id": "5Z4WnLIi7VwX",
        "outputId": "ba076070-01bb-4913-c4c8-e8115cec6981"
      },
      "execution_count": 68,
      "outputs": [
        {
          "output_type": "execute_result",
          "data": {
            "text/plain": [
              "     Tipo                Descripcion  Habitaciones  Banos  Area    Barrio  \\\n",
              "897  Casa  Casa en venta en La Uribe           110      2   110  La Uribe   \n",
              "\n",
              "         UPZ          Valor Moneda     Precio  Precio_Millon  \n",
              "897  Usaquén  $ 480.000.000      $  480000000         480.00  "
            ],
            "text/html": [
              "\n",
              "  <div id=\"df-c2ba087f-468b-4bca-81f7-78b355e01313\">\n",
              "    <div class=\"colab-df-container\">\n",
              "      <div>\n",
              "<style scoped>\n",
              "    .dataframe tbody tr th:only-of-type {\n",
              "        vertical-align: middle;\n",
              "    }\n",
              "\n",
              "    .dataframe tbody tr th {\n",
              "        vertical-align: top;\n",
              "    }\n",
              "\n",
              "    .dataframe thead th {\n",
              "        text-align: right;\n",
              "    }\n",
              "</style>\n",
              "<table border=\"1\" class=\"dataframe\">\n",
              "  <thead>\n",
              "    <tr style=\"text-align: right;\">\n",
              "      <th></th>\n",
              "      <th>Tipo</th>\n",
              "      <th>Descripcion</th>\n",
              "      <th>Habitaciones</th>\n",
              "      <th>Banos</th>\n",
              "      <th>Area</th>\n",
              "      <th>Barrio</th>\n",
              "      <th>UPZ</th>\n",
              "      <th>Valor</th>\n",
              "      <th>Moneda</th>\n",
              "      <th>Precio</th>\n",
              "      <th>Precio_Millon</th>\n",
              "    </tr>\n",
              "  </thead>\n",
              "  <tbody>\n",
              "    <tr>\n",
              "      <th>897</th>\n",
              "      <td>Casa</td>\n",
              "      <td>Casa en venta en La Uribe</td>\n",
              "      <td>110</td>\n",
              "      <td>2</td>\n",
              "      <td>110</td>\n",
              "      <td>La Uribe</td>\n",
              "      <td>Usaquén</td>\n",
              "      <td>$ 480.000.000</td>\n",
              "      <td>$</td>\n",
              "      <td>480000000</td>\n",
              "      <td>480.00</td>\n",
              "    </tr>\n",
              "  </tbody>\n",
              "</table>\n",
              "</div>\n",
              "      <button class=\"colab-df-convert\" onclick=\"convertToInteractive('df-c2ba087f-468b-4bca-81f7-78b355e01313')\"\n",
              "              title=\"Convert this dataframe to an interactive table.\"\n",
              "              style=\"display:none;\">\n",
              "        \n",
              "  <svg xmlns=\"http://www.w3.org/2000/svg\" height=\"24px\"viewBox=\"0 0 24 24\"\n",
              "       width=\"24px\">\n",
              "    <path d=\"M0 0h24v24H0V0z\" fill=\"none\"/>\n",
              "    <path d=\"M18.56 5.44l.94 2.06.94-2.06 2.06-.94-2.06-.94-.94-2.06-.94 2.06-2.06.94zm-11 1L8.5 8.5l.94-2.06 2.06-.94-2.06-.94L8.5 2.5l-.94 2.06-2.06.94zm10 10l.94 2.06.94-2.06 2.06-.94-2.06-.94-.94-2.06-.94 2.06-2.06.94z\"/><path d=\"M17.41 7.96l-1.37-1.37c-.4-.4-.92-.59-1.43-.59-.52 0-1.04.2-1.43.59L10.3 9.45l-7.72 7.72c-.78.78-.78 2.05 0 2.83L4 21.41c.39.39.9.59 1.41.59.51 0 1.02-.2 1.41-.59l7.78-7.78 2.81-2.81c.8-.78.8-2.07 0-2.86zM5.41 20L4 18.59l7.72-7.72 1.47 1.35L5.41 20z\"/>\n",
              "  </svg>\n",
              "      </button>\n",
              "      \n",
              "  <style>\n",
              "    .colab-df-container {\n",
              "      display:flex;\n",
              "      flex-wrap:wrap;\n",
              "      gap: 12px;\n",
              "    }\n",
              "\n",
              "    .colab-df-convert {\n",
              "      background-color: #E8F0FE;\n",
              "      border: none;\n",
              "      border-radius: 50%;\n",
              "      cursor: pointer;\n",
              "      display: none;\n",
              "      fill: #1967D2;\n",
              "      height: 32px;\n",
              "      padding: 0 0 0 0;\n",
              "      width: 32px;\n",
              "    }\n",
              "\n",
              "    .colab-df-convert:hover {\n",
              "      background-color: #E2EBFA;\n",
              "      box-shadow: 0px 1px 2px rgba(60, 64, 67, 0.3), 0px 1px 3px 1px rgba(60, 64, 67, 0.15);\n",
              "      fill: #174EA6;\n",
              "    }\n",
              "\n",
              "    [theme=dark] .colab-df-convert {\n",
              "      background-color: #3B4455;\n",
              "      fill: #D2E3FC;\n",
              "    }\n",
              "\n",
              "    [theme=dark] .colab-df-convert:hover {\n",
              "      background-color: #434B5C;\n",
              "      box-shadow: 0px 1px 3px 1px rgba(0, 0, 0, 0.15);\n",
              "      filter: drop-shadow(0px 1px 2px rgba(0, 0, 0, 0.3));\n",
              "      fill: #FFFFFF;\n",
              "    }\n",
              "  </style>\n",
              "\n",
              "      <script>\n",
              "        const buttonEl =\n",
              "          document.querySelector('#df-c2ba087f-468b-4bca-81f7-78b355e01313 button.colab-df-convert');\n",
              "        buttonEl.style.display =\n",
              "          google.colab.kernel.accessAllowed ? 'block' : 'none';\n",
              "\n",
              "        async function convertToInteractive(key) {\n",
              "          const element = document.querySelector('#df-c2ba087f-468b-4bca-81f7-78b355e01313');\n",
              "          const dataTable =\n",
              "            await google.colab.kernel.invokeFunction('convertToInteractive',\n",
              "                                                     [key], {});\n",
              "          if (!dataTable) return;\n",
              "\n",
              "          const docLinkHtml = 'Like what you see? Visit the ' +\n",
              "            '<a target=\"_blank\" href=https://colab.research.google.com/notebooks/data_table.ipynb>data table notebook</a>'\n",
              "            + ' to learn more about interactive tables.';\n",
              "          element.innerHTML = '';\n",
              "          dataTable['output_type'] = 'display_data';\n",
              "          await google.colab.output.renderOutput(dataTable, element);\n",
              "          const docLink = document.createElement('div');\n",
              "          docLink.innerHTML = docLinkHtml;\n",
              "          element.appendChild(docLink);\n",
              "        }\n",
              "      </script>\n",
              "    </div>\n",
              "  </div>\n",
              "  "
            ]
          },
          "metadata": {},
          "execution_count": 68
        }
      ]
    },
    {
      "cell_type": "code",
      "source": [
        "inmuebles.loc[inmuebles.Area == 2]"
      ],
      "metadata": {
        "colab": {
          "base_uri": "https://localhost:8080/",
          "height": 81
        },
        "id": "q0WzM6lM7ZVb",
        "outputId": "756e8aae-987a-4b84-a1de-021520ee18b4"
      },
      "execution_count": 69,
      "outputs": [
        {
          "output_type": "execute_result",
          "data": {
            "text/plain": [
              "             Tipo                            Descripcion  Habitaciones  Banos  \\\n",
              "8401  Apartamento  Apartamento en venta en San Cristobal             3      1   \n",
              "\n",
              "      Area         Barrio      UPZ          Valor Moneda     Precio  \\\n",
              "8401     2  San Cristobal  Sosiego  $ 180.000.000      $  180000000   \n",
              "\n",
              "      Precio_Millon  \n",
              "8401         180.00  "
            ],
            "text/html": [
              "\n",
              "  <div id=\"df-e4773040-e509-411e-9883-f821ea42b33f\">\n",
              "    <div class=\"colab-df-container\">\n",
              "      <div>\n",
              "<style scoped>\n",
              "    .dataframe tbody tr th:only-of-type {\n",
              "        vertical-align: middle;\n",
              "    }\n",
              "\n",
              "    .dataframe tbody tr th {\n",
              "        vertical-align: top;\n",
              "    }\n",
              "\n",
              "    .dataframe thead th {\n",
              "        text-align: right;\n",
              "    }\n",
              "</style>\n",
              "<table border=\"1\" class=\"dataframe\">\n",
              "  <thead>\n",
              "    <tr style=\"text-align: right;\">\n",
              "      <th></th>\n",
              "      <th>Tipo</th>\n",
              "      <th>Descripcion</th>\n",
              "      <th>Habitaciones</th>\n",
              "      <th>Banos</th>\n",
              "      <th>Area</th>\n",
              "      <th>Barrio</th>\n",
              "      <th>UPZ</th>\n",
              "      <th>Valor</th>\n",
              "      <th>Moneda</th>\n",
              "      <th>Precio</th>\n",
              "      <th>Precio_Millon</th>\n",
              "    </tr>\n",
              "  </thead>\n",
              "  <tbody>\n",
              "    <tr>\n",
              "      <th>8401</th>\n",
              "      <td>Apartamento</td>\n",
              "      <td>Apartamento en venta en San Cristobal</td>\n",
              "      <td>3</td>\n",
              "      <td>1</td>\n",
              "      <td>2</td>\n",
              "      <td>San Cristobal</td>\n",
              "      <td>Sosiego</td>\n",
              "      <td>$ 180.000.000</td>\n",
              "      <td>$</td>\n",
              "      <td>180000000</td>\n",
              "      <td>180.00</td>\n",
              "    </tr>\n",
              "  </tbody>\n",
              "</table>\n",
              "</div>\n",
              "      <button class=\"colab-df-convert\" onclick=\"convertToInteractive('df-e4773040-e509-411e-9883-f821ea42b33f')\"\n",
              "              title=\"Convert this dataframe to an interactive table.\"\n",
              "              style=\"display:none;\">\n",
              "        \n",
              "  <svg xmlns=\"http://www.w3.org/2000/svg\" height=\"24px\"viewBox=\"0 0 24 24\"\n",
              "       width=\"24px\">\n",
              "    <path d=\"M0 0h24v24H0V0z\" fill=\"none\"/>\n",
              "    <path d=\"M18.56 5.44l.94 2.06.94-2.06 2.06-.94-2.06-.94-.94-2.06-.94 2.06-2.06.94zm-11 1L8.5 8.5l.94-2.06 2.06-.94-2.06-.94L8.5 2.5l-.94 2.06-2.06.94zm10 10l.94 2.06.94-2.06 2.06-.94-2.06-.94-.94-2.06-.94 2.06-2.06.94z\"/><path d=\"M17.41 7.96l-1.37-1.37c-.4-.4-.92-.59-1.43-.59-.52 0-1.04.2-1.43.59L10.3 9.45l-7.72 7.72c-.78.78-.78 2.05 0 2.83L4 21.41c.39.39.9.59 1.41.59.51 0 1.02-.2 1.41-.59l7.78-7.78 2.81-2.81c.8-.78.8-2.07 0-2.86zM5.41 20L4 18.59l7.72-7.72 1.47 1.35L5.41 20z\"/>\n",
              "  </svg>\n",
              "      </button>\n",
              "      \n",
              "  <style>\n",
              "    .colab-df-container {\n",
              "      display:flex;\n",
              "      flex-wrap:wrap;\n",
              "      gap: 12px;\n",
              "    }\n",
              "\n",
              "    .colab-df-convert {\n",
              "      background-color: #E8F0FE;\n",
              "      border: none;\n",
              "      border-radius: 50%;\n",
              "      cursor: pointer;\n",
              "      display: none;\n",
              "      fill: #1967D2;\n",
              "      height: 32px;\n",
              "      padding: 0 0 0 0;\n",
              "      width: 32px;\n",
              "    }\n",
              "\n",
              "    .colab-df-convert:hover {\n",
              "      background-color: #E2EBFA;\n",
              "      box-shadow: 0px 1px 2px rgba(60, 64, 67, 0.3), 0px 1px 3px 1px rgba(60, 64, 67, 0.15);\n",
              "      fill: #174EA6;\n",
              "    }\n",
              "\n",
              "    [theme=dark] .colab-df-convert {\n",
              "      background-color: #3B4455;\n",
              "      fill: #D2E3FC;\n",
              "    }\n",
              "\n",
              "    [theme=dark] .colab-df-convert:hover {\n",
              "      background-color: #434B5C;\n",
              "      box-shadow: 0px 1px 3px 1px rgba(0, 0, 0, 0.15);\n",
              "      filter: drop-shadow(0px 1px 2px rgba(0, 0, 0, 0.3));\n",
              "      fill: #FFFFFF;\n",
              "    }\n",
              "  </style>\n",
              "\n",
              "      <script>\n",
              "        const buttonEl =\n",
              "          document.querySelector('#df-e4773040-e509-411e-9883-f821ea42b33f button.colab-df-convert');\n",
              "        buttonEl.style.display =\n",
              "          google.colab.kernel.accessAllowed ? 'block' : 'none';\n",
              "\n",
              "        async function convertToInteractive(key) {\n",
              "          const element = document.querySelector('#df-e4773040-e509-411e-9883-f821ea42b33f');\n",
              "          const dataTable =\n",
              "            await google.colab.kernel.invokeFunction('convertToInteractive',\n",
              "                                                     [key], {});\n",
              "          if (!dataTable) return;\n",
              "\n",
              "          const docLinkHtml = 'Like what you see? Visit the ' +\n",
              "            '<a target=\"_blank\" href=https://colab.research.google.com/notebooks/data_table.ipynb>data table notebook</a>'\n",
              "            + ' to learn more about interactive tables.';\n",
              "          element.innerHTML = '';\n",
              "          dataTable['output_type'] = 'display_data';\n",
              "          await google.colab.output.renderOutput(dataTable, element);\n",
              "          const docLink = document.createElement('div');\n",
              "          docLink.innerHTML = docLinkHtml;\n",
              "          element.appendChild(docLink);\n",
              "        }\n",
              "      </script>\n",
              "    </div>\n",
              "  </div>\n",
              "  "
            ]
          },
          "metadata": {},
          "execution_count": 69
        }
      ]
    },
    {
      "cell_type": "code",
      "source": [
        "inmuebles['Precio_Millon'].plot.hist(bins=150)"
      ],
      "metadata": {
        "colab": {
          "base_uri": "https://localhost:8080/",
          "height": 283
        },
        "id": "v8X5LdL89GBs",
        "outputId": "83fa0518-6c24-4209-9e06-8a8e01afd4e8"
      },
      "execution_count": 74,
      "outputs": [
        {
          "output_type": "execute_result",
          "data": {
            "text/plain": [
              "<Axes: ylabel='Frequency'>"
            ]
          },
          "metadata": {},
          "execution_count": 74
        },
        {
          "output_type": "display_data",
          "data": {
            "text/plain": [
              "<Figure size 432x288 with 1 Axes>"
            ],
            "image/png": "[encoded data removed]"
          },
          "metadata": {
            "needs_background": "light"
          }
        }
      ]
    },
    {
      "cell_type": "markdown",
      "source": [
        "**Bibliotecas Gráficas: Matplotlib y Seaborn**"
      ],
      "metadata": {
        "id": "8QIkYUDL_tW7"
      }
    },
    {
      "cell_type": "code",
      "source": [
        "import matplotlib.pyplot as plt\n",
        "import seaborn as sns\n",
        "\n",
        "#prepación del lienzo donde se va ha realizar la gráfica\n",
        "plt.figure(figsize=(10,8))\n",
        "grafica = sns.histplot(data = inmuebles, x='Precio_Millon')\n",
        "grafica.set_title('Distribución de valores de los inmuebles en Bogotá')\n",
        "plt.xlim((50, 2000))\n",
        "plt.show"
      ],
      "metadata": {
        "colab": {
          "base_uri": "https://localhost:8080/",
          "height": 531
        },
        "id": "M9MQX_Au-C7y",
        "outputId": "a6be452d-02d6-42d9-e4e6-b461aed54e7c"
      },
      "execution_count": 78,
      "outputs": [
        {
          "output_type": "execute_result",
          "data": {
            "text/plain": [
              "<function matplotlib.pyplot.show(close=None, block=None)>"
            ]
          },
          "metadata": {},
          "execution_count": 78
        },
        {
          "output_type": "display_data",
          "data": {
            "text/plain": [
              "<Figure size 720x576 with 1 Axes>"
            ],
            "image/png": "[encoded data removed]"
          },
          "metadata": {
            "needs_background": "light"
          }
        }
      ]
    },
    {
      "cell_type": "code",
      "source": [
        "#prepación del lienzo donde se va ha realizar la gráfica\n",
        "plt.figure(figsize=(10,6))\n",
        "grafica = sns.histplot(data = inmuebles, x='Precio_Millon')\n",
        "grafica.set_title('Distribución de valores de los inmuebles en Bogotá')\n",
        "plt.xlim((50, 1000))\n",
        "plt.show"
      ],
      "metadata": {
        "colab": {
          "base_uri": "https://localhost:8080/",
          "height": 422
        },
        "id": "LPCeEfZ2C5er",
        "outputId": "b7902f31-3634-49c2-924b-8b6819f48867"
      },
      "execution_count": 81,
      "outputs": [
        {
          "output_type": "execute_result",
          "data": {
            "text/plain": [
              "<function matplotlib.pyplot.show(close=None, block=None)>"
            ]
          },
          "metadata": {},
          "execution_count": 81
        },
        {
          "output_type": "display_data",
          "data": {
            "text/plain": [
              "<Figure size 720x432 with 1 Axes>"
            ],
            "image/png": "[encoded data removed]"
          },
          "metadata": {
            "needs_background": "light"
          }
        }
      ]
    },
    {
      "cell_type": "code",
      "source": [
        "#prepación del lienzo donde se va ha realizar la gráfica\n",
        "plt.figure(figsize=(10,6))\n",
        "grafica = sns.histplot(data = inmuebles, x='Precio_Millon', kde= True)\n",
        "grafica.set_title('Distribución de valores de los inmuebles en Bogotá')\n",
        "plt.xlim((50, 1000))\n",
        "plt.show"
      ],
      "metadata": {
        "colab": {
          "base_uri": "https://localhost:8080/",
          "height": 422
        },
        "id": "LdZY83LcDfZe",
        "outputId": "ccb7c866-e223-45e3-8267-08cd140decc6"
      },
      "execution_count": 82,
      "outputs": [
        {
          "output_type": "execute_result",
          "data": {
            "text/plain": [
              "<function matplotlib.pyplot.show(close=None, block=None)>"
            ]
          },
          "metadata": {},
          "execution_count": 82
        },
        {
          "output_type": "display_data",
          "data": {
            "text/plain": [
              "<Figure size 720x432 with 1 Axes>"
            ],
            "image/png": "[encoded data removed]"
          },
          "metadata": {
            "needs_background": "light"
          }
        }
      ]
    },
    {
      "cell_type": "code",
      "source": [],
      "metadata": {
        "id": "HLJL_1m8FD5O"
      },
      "execution_count": null,
      "outputs": []
    },
    {
      "cell_type": "code",
      "source": [
        "#prepación del lienzo donde se va ha realizar la gráfica, mostrando los tipos y exportar en formato png\n",
        "plt.figure(figsize=(10,6))\n",
        "grafica = sns.histplot(data = inmuebles, x='Precio_Millon', kde= True, hue='Tipo')\n",
        "grafica.set_title('Distribución de valores de los inmuebles en Bogotá')\n",
        "plt.xlim((50, 1000))\n",
        "plt.savefig('/content/drive/MyDrive/Inmersion_Datos/valor_inmuebles.png',format='png')\n",
        "plt.show"
      ],
      "metadata": {
        "colab": {
          "base_uri": "https://localhost:8080/",
          "height": 422
        },
        "outputId": "ff681907-10f6-436a-d273-b8de8c417f7f",
        "id": "1vhpfSf-FEdh"
      },
      "execution_count": 83,
      "outputs": [
        {
          "output_type": "execute_result",
          "data": {
            "text/plain": [
              "<function matplotlib.pyplot.show(close=None, block=None)>"
            ]
          },
          "metadata": {},
          "execution_count": 83
        },
        {
          "output_type": "display_data",
          "data": {
            "text/plain": [
              "<Figure size 720x432 with 1 Axes>"
            ],
            "image/png": "[encoded data removed]"
          },
          "metadata": {
            "needs_background": "light"
          }
        }
      ]
    },
    {
      "cell_type": "code",
      "source": [
        "#prepación del lienzo donde se va ha realizar la gráfica mas acotada y exportar en formato png\n",
        "plt.figure(figsize=(10,6))\n",
        "grafica = sns.histplot(data = inmuebles, x='Precio_Millon', kde= True, hue='Tipo')\n",
        "grafica.set_title('Distribución de valores de los inmuebles en Bogotá')\n",
        "plt.xlim((50, 1000))\n",
        "plt.ylim((0, 20))\n",
        "plt.savefig('/content/drive/MyDrive/Inmersion_Datos/valor_inmuebles_limitado.png',format='png')\n",
        "plt.show"
      ],
      "metadata": {
        "colab": {
          "base_uri": "https://localhost:8080/",
          "height": 422
        },
        "id": "CRejmpf_HDj6",
        "outputId": "7d2e2468-e0a3-4810-bc1b-7ab7846737aa"
      },
      "execution_count": 85,
      "outputs": [
        {
          "output_type": "execute_result",
          "data": {
            "text/plain": [
              "<function matplotlib.pyplot.show(close=None, block=None)>"
            ]
          },
          "metadata": {},
          "execution_count": 85
        },
        {
          "output_type": "display_data",
          "data": {
            "text/plain": [
              "<Figure size 720x432 with 1 Axes>"
            ],
            "image/png": "[encoded data removed]"
          },
          "metadata": {
            "needs_background": "light"
          }
        }
      ]
    },
    {
      "cell_type": "markdown",
      "source": [
        "**Desafíos de esta aula**\n",
        "\n",
        "1. Estudiar mejor el histograma de valores, seleccionar 3 tipos de inmuebles \n",
        "(Refinar el gráfico: Títulos, aumentar el tamaño de labels, colores, conclusión de la información);\n",
        "\n",
        "2. Precio del m2 por barrio y hacer el gráfico más adecuado para esta nueva variable."
      ],
      "metadata": {
        "id": "nY0XHYgBH6X3"
      }
    },
    {
      "cell_type": "code",
      "source": [],
      "metadata": {
        "id": "7swpRGzHIhaB"
      },
      "execution_count": null,
      "outputs": []
    }
  ]
}